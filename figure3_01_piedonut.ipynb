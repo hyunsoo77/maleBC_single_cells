{
 "cells": [
  {
   "cell_type": "markdown",
   "id": "f42aca45",
   "metadata": {},
   "source": [
    "# load library"
   ]
  },
  {
   "cell_type": "code",
   "execution_count": 1,
   "id": "3923e930",
   "metadata": {},
   "outputs": [],
   "source": [
    "\n",
    "source(\"r/jupyter_common.R\")\n",
    "source(\"r/identify_cell_types.R\")\n",
    "source(\"r/plot_sc_clusters.R\")\n",
    "\n"
   ]
  },
  {
   "cell_type": "code",
   "execution_count": 2,
   "id": "076042f0",
   "metadata": {
    "scrolled": false
   },
   "outputs": [],
   "source": [
    "# data structure\n",
    "suppressPackageStartupMessages(library(data.table))\n",
    "\n",
    "# single cell analysis\n",
    "suppressPackageStartupMessages(library(Seurat))\n",
    "suppressPackageStartupMessages(library(ArchR))\n",
    "\n"
   ]
  },
  {
   "cell_type": "markdown",
   "id": "f733b7b4",
   "metadata": {},
   "source": [
    "## parallel"
   ]
  },
  {
   "cell_type": "code",
   "execution_count": 3,
   "id": "99c4e1dc",
   "metadata": {},
   "outputs": [],
   "source": [
    "suppressPackageStartupMessages(library(parallel))\n",
    "suppressPackageStartupMessages(library(future))\n",
    "plan(\"multicore\", workers = 8)\n",
    "\n",
    "options(future.globals.maxSize = 5 * 1024^3) # 5GB\n"
   ]
  },
  {
   "cell_type": "markdown",
   "id": "3076641a",
   "metadata": {},
   "source": [
    "# parameters"
   ]
  },
  {
   "cell_type": "code",
   "execution_count": 4,
   "id": "b03f885a",
   "metadata": {},
   "outputs": [],
   "source": [
    "str_condition <- \"male-bc\"\n",
    "\n",
    "figure_format <- \"pdf\"\n"
   ]
  },
  {
   "cell_type": "markdown",
   "id": "903ba810",
   "metadata": {},
   "source": [
    "## set.seed"
   ]
  },
  {
   "cell_type": "code",
   "execution_count": 5,
   "id": "d7f3721f",
   "metadata": {},
   "outputs": [],
   "source": [
    "# set seed for reproducibility\n",
    "set.seed(51)\n",
    "\n"
   ]
  },
  {
   "cell_type": "markdown",
   "id": "da94731b",
   "metadata": {},
   "source": [
    "## display"
   ]
  },
  {
   "cell_type": "code",
   "execution_count": 6,
   "id": "ba2f35ef",
   "metadata": {},
   "outputs": [],
   "source": [
    "options(repr.matrix.max.cols=150, repr.matrix.max.rows=50)\n",
    "\n"
   ]
  },
  {
   "cell_type": "markdown",
   "id": "f3418534",
   "metadata": {},
   "source": [
    "# read scATAC-seq"
   ]
  },
  {
   "cell_type": "code",
   "execution_count": 7,
   "id": "93ca378b",
   "metadata": {},
   "outputs": [],
   "source": [
    "dir_atac <- \"/home/hkim77/francolab.w/sc-atac-seq/male-bc/run-20220725\"\n",
    "fname_atac <- sprintf(\"%s/output_male-bc/rds/male-bc_archrproj_obj_final.rds\", dir_atac)\n",
    "\n",
    "atac <- readRDS(fname_atac)\n"
   ]
  },
  {
   "cell_type": "markdown",
   "id": "217725b7",
   "metadata": {},
   "source": [
    "# peak call summary"
   ]
  },
  {
   "cell_type": "markdown",
   "id": "7382ef24",
   "metadata": {},
   "source": [
    "## piedonut"
   ]
  },
  {
   "cell_type": "code",
   "execution_count": 8,
   "id": "71c6e7af",
   "metadata": {},
   "outputs": [],
   "source": [
    "suppressPackageStartupMessages(library(moonBook))\n",
    "suppressPackageStartupMessages(library(webr))\n",
    "source(\"r/webr/PieDonut.R\")\n"
   ]
  },
  {
   "cell_type": "code",
   "execution_count": 9,
   "id": "737b1179",
   "metadata": {},
   "outputs": [
    {
     "data": {
      "text/html": [
       "<table class=\"dataframe\">\n",
       "<caption>A grouped_df: 4 × 4</caption>\n",
       "<thead>\n",
       "\t<tr><th scope=col>Group</th><th scope=col>Var1</th><th scope=col>Freq</th><th scope=col>percent</th></tr>\n",
       "\t<tr><th scope=col>&lt;chr&gt;</th><th scope=col>&lt;fct&gt;</th><th scope=col>&lt;dbl&gt;</th><th scope=col>&lt;dbl&gt;</th></tr>\n",
       "</thead>\n",
       "<tbody>\n",
       "\t<tr><td>UnionPeaks</td><td>Distal  </td><td>31.292</td><td>31.333674</td></tr>\n",
       "\t<tr><td>UnionPeaks</td><td>Exonic  </td><td> 8.482</td><td> 8.493296</td></tr>\n",
       "\t<tr><td>UnionPeaks</td><td>Intronic</td><td>46.118</td><td>46.179419</td></tr>\n",
       "\t<tr><td>UnionPeaks</td><td>Promoter</td><td>13.975</td><td>13.993612</td></tr>\n",
       "</tbody>\n",
       "</table>\n"
      ],
      "text/latex": [
       "A grouped\\_df: 4 × 4\n",
       "\\begin{tabular}{llll}\n",
       " Group & Var1 & Freq & percent\\\\\n",
       " <chr> & <fct> & <dbl> & <dbl>\\\\\n",
       "\\hline\n",
       "\t UnionPeaks & Distal   & 31.292 & 31.333674\\\\\n",
       "\t UnionPeaks & Exonic   &  8.482 &  8.493296\\\\\n",
       "\t UnionPeaks & Intronic & 46.118 & 46.179419\\\\\n",
       "\t UnionPeaks & Promoter & 13.975 & 13.993612\\\\\n",
       "\\end{tabular}\n"
      ],
      "text/markdown": [
       "\n",
       "A grouped_df: 4 × 4\n",
       "\n",
       "| Group &lt;chr&gt; | Var1 &lt;fct&gt; | Freq &lt;dbl&gt; | percent &lt;dbl&gt; |\n",
       "|---|---|---|---|\n",
       "| UnionPeaks | Distal   | 31.292 | 31.333674 |\n",
       "| UnionPeaks | Exonic   |  8.482 |  8.493296 |\n",
       "| UnionPeaks | Intronic | 46.118 | 46.179419 |\n",
       "| UnionPeaks | Promoter | 13.975 | 13.993612 |\n",
       "\n"
      ],
      "text/plain": [
       "  Group      Var1     Freq   percent  \n",
       "1 UnionPeaks Distal   31.292 31.333674\n",
       "2 UnionPeaks Exonic    8.482  8.493296\n",
       "3 UnionPeaks Intronic 46.118 46.179419\n",
       "4 UnionPeaks Promoter 13.975 13.993612"
      ]
     },
     "metadata": {},
     "output_type": "display_data"
    }
   ],
   "source": [
    "peakDF <- metadata(atac@peakSet)$PeakCallSummary\n",
    "peakDF <- peakDF %>% group_by(Group) %>% mutate(percent = 100*(Freq / sum(Freq)))\n",
    "f <- grepl(\"UnionPeaks\", peakDF$Group)\n",
    "peakDF[f,]\n"
   ]
  },
  {
   "cell_type": "code",
   "execution_count": 10,
   "id": "96c205b1",
   "metadata": {},
   "outputs": [
    {
     "data": {
      "image/png": "[encoded data removed]",
      "text/plain": [
       "plot without title"
      ]
     },
     "metadata": {
      "image/png": {
       "height": 360,
       "width": 480
      }
     },
     "output_type": "display_data"
    }
   ],
   "source": [
    "gg <- PieDonut(peakDF[f,], aes(Var1, count=Freq),\n",
    "              r0=0.45, start=4.4*pi/2, labelpositionThreshold=1,\n",
    "              explode = 1, explodePos=0.2,\n",
    "              showPieName = TRUE, showDonutName = FALSE, title = NULL,\n",
    "              pieLabelSize = 5, donutLabelSize = 5, titlesize = 3,\n",
    "              mainCol = gray.colors(nrow(peakDF[f,])), \n",
    "              pieName=\"\")\n",
    "\n",
    "filename <- \"piedonut_peak_call_summary\"\n",
    "print_figure(gg, width=8, height=6, file=filename)\n"
   ]
  },
  {
   "cell_type": "markdown",
   "id": "11a8c620",
   "metadata": {},
   "source": [
    "# reference"
   ]
  },
  {
   "cell_type": "markdown",
   "id": "674ff0fb",
   "metadata": {},
   "source": [
    "https://jianhong.github.io/workshop2020/articles/ChIPpeakAnno.html\n",
    "\n"
   ]
  },
  {
   "cell_type": "code",
   "execution_count": null,
   "id": "43319b6c",
   "metadata": {},
   "outputs": [],
   "source": []
  }
 ],
 "metadata": {
  "kernelspec": {
   "display_name": "R 4.1.2",
   "language": "R",
   "name": "r4.1.2"
  },
  "language_info": {
   "codemirror_mode": "r",
   "file_extension": ".r",
   "mimetype": "text/x-r-source",
   "name": "R",
   "pygments_lexer": "r",
   "version": "4.1.2"
  },
  "toc": {
   "base_numbering": 1,
   "nav_menu": {},
   "number_sections": true,
   "sideBar": true,
   "skip_h1_title": false,
   "title_cell": "Table of Contents",
   "title_sidebar": "Contents",
   "toc_cell": false,
   "toc_position": {
    "height": "calc(100% - 180px)",
    "left": "10px",
    "top": "150px",
    "width": "196px"
   },
   "toc_section_display": true,
   "toc_window_display": true
  }
 },
 "nbformat": 4,
 "nbformat_minor": 5
}
