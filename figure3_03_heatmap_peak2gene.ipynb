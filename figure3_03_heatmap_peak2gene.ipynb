{
 "cells": [
  {
   "cell_type": "markdown",
   "id": "32e0f825",
   "metadata": {},
   "source": [
    "# load library"
   ]
  },
  {
   "cell_type": "code",
   "execution_count": 1,
   "id": "50edf1c6",
   "metadata": {},
   "outputs": [],
   "source": [
    "source(\"r/jupyter_common.R\")\n",
    "source(\"r/plot_sc_clusters.R\")\n"
   ]
  },
  {
   "cell_type": "code",
   "execution_count": 2,
   "id": "0ae0ef1a",
   "metadata": {
    "scrolled": false
   },
   "outputs": [],
   "source": [
    "# data structure\n",
    "suppressPackageStartupMessages(library(data.table))\n",
    "\n",
    "# single cell analysis\n",
    "suppressPackageStartupMessages(library(Seurat))\n",
    "suppressPackageStartupMessages(library(ArchR))\n"
   ]
  },
  {
   "cell_type": "markdown",
   "id": "50413c2b",
   "metadata": {},
   "source": [
    "## parallel"
   ]
  },
  {
   "cell_type": "code",
   "execution_count": 3,
   "id": "001a5492",
   "metadata": {},
   "outputs": [],
   "source": [
    "suppressPackageStartupMessages(library(parallel))\n",
    "suppressPackageStartupMessages(library(future))\n",
    "plan(\"multicore\", workers = 8)\n",
    "\n",
    "options(future.globals.maxSize = 5 * 1024^3) # 5GB\n"
   ]
  },
  {
   "cell_type": "code",
   "execution_count": 4,
   "id": "3821bf34",
   "metadata": {},
   "outputs": [
    {
     "name": "stderr",
     "output_type": "stream",
     "text": [
      "Setting default number of Parallel threads to 2.\n",
      "\n"
     ]
    },
    {
     "data": {
      "text/html": [
       "2"
      ],
      "text/latex": [
       "2"
      ],
      "text/markdown": [
       "2"
      ],
      "text/plain": [
       "[1] 2"
      ]
     },
     "metadata": {},
     "output_type": "display_data"
    },
    {
     "name": "stderr",
     "output_type": "stream",
     "text": [
      "Setting default genome to Hg38.\n",
      "\n"
     ]
    }
   ],
   "source": [
    "addArchRThreads(threads=2)\n",
    "getArchRThreads()\n",
    "\n",
    "\n",
    "addArchRGenome(\"hg38\")\n"
   ]
  },
  {
   "cell_type": "markdown",
   "id": "9065d0f1",
   "metadata": {},
   "source": [
    "# parameters"
   ]
  },
  {
   "cell_type": "code",
   "execution_count": 5,
   "id": "a6aa735b",
   "metadata": {},
   "outputs": [
    {
     "data": {
      "text/html": [
       "'RNA_harmony_th.0'"
      ],
      "text/latex": [
       "'RNA\\_harmony\\_th.0'"
      ],
      "text/markdown": [
       "'RNA_harmony_th.0'"
      ],
      "text/plain": [
       "[1] \"RNA_harmony_th.0\""
      ]
     },
     "metadata": {},
     "output_type": "display_data"
    },
    {
     "data": {
      "text/html": [
       "'umapharmony'"
      ],
      "text/latex": [
       "'umapharmony'"
      ],
      "text/markdown": [
       "'umapharmony'"
      ],
      "text/plain": [
       "[1] \"umapharmony\""
      ]
     },
     "metadata": {},
     "output_type": "display_data"
    },
    {
     "data": {
      "text/html": [
       "'cell.type.harmony'"
      ],
      "text/latex": [
       "'cell.type.harmony'"
      ],
      "text/markdown": [
       "'cell.type.harmony'"
      ],
      "text/plain": [
       "[1] \"cell.type.harmony\""
      ]
     },
     "metadata": {},
     "output_type": "display_data"
    }
   ],
   "source": [
    "str_condition <- \"male-bc\"\n",
    "\n",
    "args <- list()\n",
    "args$cancer_type <- \"male-bc\"\n",
    "args$method_to_identify_cell_types <- \"singler_blueprint_encode\"\n",
    "args$harmony_theta <- 0\n",
    "args$seed_kmeans <- 4\n",
    "\n",
    "str_column_of_meta_data_harmony <- sprintf(\"RNA_harmony_th.%s\", paste(args$harmony_theta, collapse=\",\"))\n",
    "\n",
    "str_reduction <- \"pca\"\n",
    "str_umap_reduction <- \"umap\"  \n",
    "col_cell.type <- \"cell.type\"\n",
    "\n",
    "if (args$harmony_theta >= 0) {\n",
    "    str_column_of_meta_data_cluster <- str_column_of_meta_data_harmony\n",
    "    str_reduction <- \"harmony\"\n",
    "    str_umap_reduction <- \"umapharmony\"\n",
    "    col_cell.type <- \"cell.type.harmony\"\n",
    "}\n",
    "\n",
    "\n",
    "str_column_of_meta_data_cluster\n",
    "str_umap_reduction\n",
    "col_cell.type\n"
   ]
  },
  {
   "cell_type": "markdown",
   "id": "5bbd8b66",
   "metadata": {},
   "source": [
    "## set.seed"
   ]
  },
  {
   "cell_type": "code",
   "execution_count": 6,
   "id": "c720bbea",
   "metadata": {},
   "outputs": [],
   "source": [
    "# set seed for reproducibility\n",
    "set.seed(51)\n",
    "\n"
   ]
  },
  {
   "cell_type": "markdown",
   "id": "6b4e3beb",
   "metadata": {},
   "source": [
    "## display"
   ]
  },
  {
   "cell_type": "code",
   "execution_count": 7,
   "id": "f4bdcc21",
   "metadata": {},
   "outputs": [],
   "source": [
    "options(repr.matrix.max.cols=150, repr.matrix.max.rows=50)\n",
    "\n"
   ]
  },
  {
   "cell_type": "code",
   "execution_count": 8,
   "id": "6b881ed7",
   "metadata": {},
   "outputs": [
    {
     "name": "stderr",
     "output_type": "stream",
     "text": [
      "Setting addArchRVerbose = FALSE\n",
      "\n"
     ]
    }
   ],
   "source": [
    "addArchRVerbose(verbose = FALSE)\n"
   ]
  },
  {
   "cell_type": "markdown",
   "id": "835da419",
   "metadata": {},
   "source": [
    "# read scATAC-seq"
   ]
  },
  {
   "cell_type": "code",
   "execution_count": 9,
   "id": "9f323758",
   "metadata": {},
   "outputs": [],
   "source": [
    "dir_atac <- \"/home/hkim77/francolab.w/sc-atac-seq/male-bc/run-20220725\"\n",
    "fname_atac <- sprintf(\"%s/output_p2g_male-bc/rds/male-bc_archrproj_obj_p2gs.rds\", dir_atac)\n",
    "\n",
    "proj.archr <- readRDS(fname_atac)\n"
   ]
  },
  {
   "cell_type": "markdown",
   "id": "d06395fc",
   "metadata": {},
   "source": [
    "## list_sort_atac"
   ]
  },
  {
   "cell_type": "code",
   "execution_count": 10,
   "id": "c695a084",
   "metadata": {},
   "outputs": [
    {
     "data": {
      "text/html": [
       "<table class=\"dataframe\">\n",
       "<caption>A data.frame: 2 × 5</caption>\n",
       "<thead>\n",
       "\t<tr><th scope=col>Sample</th><th scope=col>Endothelial cells</th><th scope=col>Epi. Tumor</th><th scope=col>Fibroblasts</th><th scope=col>Macrophages</th></tr>\n",
       "\t<tr><th scope=col>&lt;chr&gt;</th><th scope=col>&lt;int&gt;</th><th scope=col>&lt;int&gt;</th><th scope=col>&lt;int&gt;</th><th scope=col>&lt;int&gt;</th></tr>\n",
       "</thead>\n",
       "<tbody>\n",
       "\t<tr><td>446B7L</td><td>2204</td><td>1372</td><td>1622</td><td>183</td></tr>\n",
       "\t<tr><td>4CC61L</td><td>  NA</td><td>2629</td><td> 404</td><td>686</td></tr>\n",
       "</tbody>\n",
       "</table>\n"
      ],
      "text/latex": [
       "A data.frame: 2 × 5\n",
       "\\begin{tabular}{lllll}\n",
       " Sample & Endothelial cells & Epi. Tumor & Fibroblasts & Macrophages\\\\\n",
       " <chr> & <int> & <int> & <int> & <int>\\\\\n",
       "\\hline\n",
       "\t 446B7L & 2204 & 1372 & 1622 & 183\\\\\n",
       "\t 4CC61L &   NA & 2629 &  404 & 686\\\\\n",
       "\\end{tabular}\n"
      ],
      "text/markdown": [
       "\n",
       "A data.frame: 2 × 5\n",
       "\n",
       "| Sample &lt;chr&gt; | Endothelial cells &lt;int&gt; | Epi. Tumor &lt;int&gt; | Fibroblasts &lt;int&gt; | Macrophages &lt;int&gt; |\n",
       "|---|---|---|---|---|\n",
       "| 446B7L | 2204 | 1372 | 1622 | 183 |\n",
       "| 4CC61L |   NA | 2629 |  404 | 686 |\n",
       "\n"
      ],
      "text/plain": [
       "  Sample Endothelial cells Epi. Tumor Fibroblasts Macrophages\n",
       "1 446B7L 2204              1372       1622        183        \n",
       "2 4CC61L   NA              2629        404        686        "
      ]
     },
     "metadata": {},
     "output_type": "display_data"
    },
    {
     "data": {
      "text/html": [
       "<table class=\"dataframe\">\n",
       "<caption>A data.frame: 2 × 1</caption>\n",
       "<thead>\n",
       "\t<tr><th scope=col>Sample</th></tr>\n",
       "\t<tr><th scope=col>&lt;chr&gt;</th></tr>\n",
       "</thead>\n",
       "<tbody>\n",
       "\t<tr><td>446B7L</td></tr>\n",
       "\t<tr><td>4CC61L</td></tr>\n",
       "</tbody>\n",
       "</table>\n"
      ],
      "text/latex": [
       "A data.frame: 2 × 1\n",
       "\\begin{tabular}{l}\n",
       " Sample\\\\\n",
       " <chr>\\\\\n",
       "\\hline\n",
       "\t 446B7L\\\\\n",
       "\t 4CC61L\\\\\n",
       "\\end{tabular}\n"
      ],
      "text/markdown": [
       "\n",
       "A data.frame: 2 × 1\n",
       "\n",
       "| Sample &lt;chr&gt; |\n",
       "|---|\n",
       "| 446B7L |\n",
       "| 4CC61L |\n",
       "\n"
      ],
      "text/plain": [
       "  Sample\n",
       "1 446B7L\n",
       "2 4CC61L"
      ]
     },
     "metadata": {},
     "output_type": "display_data"
    },
    {
     "data": {
      "text/html": [
       "<table class=\"dataframe\">\n",
       "<caption>A data.frame: 2 × 5</caption>\n",
       "<thead>\n",
       "\t<tr><th scope=col>Sample</th><th scope=col>Endothelial cells</th><th scope=col>Epi. Tumor</th><th scope=col>Fibroblasts</th><th scope=col>Macrophages</th></tr>\n",
       "\t<tr><th scope=col>&lt;chr&gt;</th><th scope=col>&lt;int&gt;</th><th scope=col>&lt;int&gt;</th><th scope=col>&lt;int&gt;</th><th scope=col>&lt;int&gt;</th></tr>\n",
       "</thead>\n",
       "<tbody>\n",
       "\t<tr><td>446B7L</td><td>2204</td><td>1372</td><td>1622</td><td>183</td></tr>\n",
       "\t<tr><td>4CC61L</td><td>  NA</td><td>2629</td><td> 404</td><td>686</td></tr>\n",
       "</tbody>\n",
       "</table>\n"
      ],
      "text/latex": [
       "A data.frame: 2 × 5\n",
       "\\begin{tabular}{lllll}\n",
       " Sample & Endothelial cells & Epi. Tumor & Fibroblasts & Macrophages\\\\\n",
       " <chr> & <int> & <int> & <int> & <int>\\\\\n",
       "\\hline\n",
       "\t 446B7L & 2204 & 1372 & 1622 & 183\\\\\n",
       "\t 4CC61L &   NA & 2629 &  404 & 686\\\\\n",
       "\\end{tabular}\n"
      ],
      "text/markdown": [
       "\n",
       "A data.frame: 2 × 5\n",
       "\n",
       "| Sample &lt;chr&gt; | Endothelial cells &lt;int&gt; | Epi. Tumor &lt;int&gt; | Fibroblasts &lt;int&gt; | Macrophages &lt;int&gt; |\n",
       "|---|---|---|---|---|\n",
       "| 446B7L | 2204 | 1372 | 1622 | 183 |\n",
       "| 4CC61L |   NA | 2629 |  404 | 686 |\n",
       "\n"
      ],
      "text/plain": [
       "  Sample Endothelial cells Epi. Tumor Fibroblasts Macrophages\n",
       "1 446B7L 2204              1372       1622        183        \n",
       "2 4CC61L   NA              2629        404        686        "
      ]
     },
     "metadata": {},
     "output_type": "display_data"
    }
   ],
   "source": [
    "\n",
    "list_sort_atac <- sort_cluster_members(proj.archr, args,\n",
    "                    col_cluster_types = \"predictedGroup_ArchR\",\n",
    "                    str_umap_reduction = str_umap_reduction,\n",
    "                    f_merge_immune_cell = FALSE)\n",
    "\n"
   ]
  },
  {
   "cell_type": "markdown",
   "id": "2ab8e500",
   "metadata": {},
   "source": [
    "## palGroup"
   ]
  },
  {
   "cell_type": "code",
   "execution_count": 11,
   "id": "7d04a052",
   "metadata": {},
   "outputs": [
    {
     "data": {
      "text/html": [
       "<style>\n",
       ".dl-inline {width: auto; margin:0; padding: 0}\n",
       ".dl-inline>dt, .dl-inline>dd {float: none; width: auto; display: inline-block}\n",
       ".dl-inline>dt::after {content: \":\\0020\"; padding-right: .5ex}\n",
       ".dl-inline>dt:not(:first-of-type) {padding-left: .5ex}\n",
       "</style><dl class=dl-inline><dt>0-Epi. Tumor</dt><dd>'#A0E989'</dd><dt>2-Epi. Tumor</dt><dd>'#245719'</dd><dt>4-Fibroblasts</dt><dd>'#FABFD2'</dd><dt>3-Endothelial cells</dt><dd>'#93CEFF'</dd><dt>7-Macrophages</dt><dd>'#EEC900'</dd></dl>\n"
      ],
      "text/latex": [
       "\\begin{description*}\n",
       "\\item[0-Epi. Tumor] '\\#A0E989'\n",
       "\\item[2-Epi. Tumor] '\\#245719'\n",
       "\\item[4-Fibroblasts] '\\#FABFD2'\n",
       "\\item[3-Endothelial cells] '\\#93CEFF'\n",
       "\\item[7-Macrophages] '\\#EEC900'\n",
       "\\end{description*}\n"
      ],
      "text/markdown": [
       "0-Epi. Tumor\n",
       ":   '#A0E989'2-Epi. Tumor\n",
       ":   '#245719'4-Fibroblasts\n",
       ":   '#FABFD2'3-Endothelial cells\n",
       ":   '#93CEFF'7-Macrophages\n",
       ":   '#EEC900'\n",
       "\n"
      ],
      "text/plain": [
       "       0-Epi. Tumor        2-Epi. Tumor       4-Fibroblasts 3-Endothelial cells \n",
       "          \"#A0E989\"           \"#245719\"           \"#FABFD2\"           \"#93CEFF\" \n",
       "      7-Macrophages \n",
       "          \"#EEC900\" "
      ]
     },
     "metadata": {},
     "output_type": "display_data"
    }
   ],
   "source": [
    "\n",
    "palGroup <- list_sort_atac$nv_color_cluster_type_ordered\n",
    "palGroup\n",
    "\n"
   ]
  },
  {
   "cell_type": "code",
   "execution_count": 12,
   "id": "06b67f65",
   "metadata": {
    "scrolled": true
   },
   "outputs": [
    {
     "data": {
      "text/html": [
       "<style>\n",
       ".list-inline {list-style: none; margin:0; padding: 0}\n",
       ".list-inline>li {display: inline-block}\n",
       ".list-inline>li:not(:last-child)::after {content: \"\\00b7\"; padding: 0 .5ex}\n",
       "</style>\n",
       "<ol class=list-inline><li>'0-Epi. Tumor'</li><li>'2-Epi. Tumor'</li><li>'4-Fibroblasts'</li><li>'3-Endothelial cells'</li><li>'7-Macrophages'</li></ol>\n"
      ],
      "text/latex": [
       "\\begin{enumerate*}\n",
       "\\item '0-Epi. Tumor'\n",
       "\\item '2-Epi. Tumor'\n",
       "\\item '4-Fibroblasts'\n",
       "\\item '3-Endothelial cells'\n",
       "\\item '7-Macrophages'\n",
       "\\end{enumerate*}\n"
      ],
      "text/markdown": [
       "1. '0-Epi. Tumor'\n",
       "2. '2-Epi. Tumor'\n",
       "3. '4-Fibroblasts'\n",
       "4. '3-Endothelial cells'\n",
       "5. '7-Macrophages'\n",
       "\n",
       "\n"
      ],
      "text/plain": [
       "[1] \"0-Epi. Tumor\"        \"2-Epi. Tumor\"        \"4-Fibroblasts\"      \n",
       "[4] \"3-Endothelial cells\" \"7-Macrophages\"      "
      ]
     },
     "metadata": {},
     "output_type": "display_data"
    }
   ],
   "source": [
    "names(list_sort_atac$nv_color_cluster_type_ordered)\n"
   ]
  },
  {
   "cell_type": "markdown",
   "id": "4ca114ba",
   "metadata": {},
   "source": [
    "# read p2g.df.sub.plot"
   ]
  },
  {
   "cell_type": "code",
   "execution_count": 13,
   "id": "95a3d68f",
   "metadata": {},
   "outputs": [],
   "source": [
    "dir_rds <- sprintf(\"%s/output_p2g_male-bc/rds\", dir_atac)\n",
    "fname_p2g.df.sub.plot <- sprintf(\"%s/p2g.df.sub.plot_enhancer.rds\", dir_rds)\n",
    "\n",
    "p2g.df.sub.plot <- readRDS(fname_p2g.df.sub.plot)\n"
   ]
  },
  {
   "cell_type": "markdown",
   "id": "e8bcdd47",
   "metadata": {},
   "source": [
    "# heatmap_list"
   ]
  },
  {
   "cell_type": "code",
   "execution_count": 14,
   "id": "a526b9bb",
   "metadata": {},
   "outputs": [
    {
     "name": "stdout",
     "output_type": "stream",
     "text": [
      "\tplotPeak2GeneHeatmap.distal with seed_kmeans=4\n"
     ]
    },
    {
     "name": "stderr",
     "output_type": "stream",
     "text": [
      "Adding Annotations..\n",
      "\n",
      "Preparing Main Heatmap..\n",
      "\n",
      "Adding Annotations..\n",
      "\n",
      "Preparing Main Heatmap..\n",
      "\n"
     ]
    }
   ],
   "source": [
    "source(\"./r/archr/ArchR-1.0.1/R/ArchRHeatmap.R\")\n",
    "source(\"./r/archr/ArchR-1.0.1/R/HiddenUtils.R\")\n",
    "source(\"./r/archr/ArchR-1.0.1/R/LoggerUtils.R\")\n",
    "source(\"./r/archr/ArchR-1.0.1/R/ValidationUtils.R\")\n",
    "source(\"./r/archr/archr_v0.9.5_modified/plotPeak2GeneHeatmap.distal.R\")\n",
    "\n",
    "cat(sprintf(\"\\tplotPeak2GeneHeatmap.distal with seed_kmeans=%g\\n\", args$seed_kmeans))\n",
    "\n",
    "dir_log <- \"log\"\n",
    "heatmap_list <- plotPeak2GeneHeatmap.distal(proj.archr,\n",
    "                peaks = p2g.df.sub.plot,\n",
    "                groupBy = \"predictedGroup_ArchR\",\n",
    "                k = length(levels(factor(proj.archr$predictedGroup_ArchR))),\n",
    "                corCutOff = .45,\n",
    "                varCutOffATAC = 0,\n",
    "                varCutOffRNA = 0,\n",
    "                FDRCutOff = 1,\n",
    "                palGroup = palGroup,\n",
    "                returnMatrices = FALSE,\n",
    "                nPlot = 100000,\n",
    "                seed = args$seed_kmeans,\n",
    "                legend_ncol = 3\n",
    "        ) # plotPeak2GeneHeatmap.distal\n",
    "\n"
   ]
  },
  {
   "cell_type": "markdown",
   "id": "e9394536",
   "metadata": {},
   "source": [
    "# print"
   ]
  },
  {
   "cell_type": "code",
   "execution_count": 15,
   "id": "987fcb20",
   "metadata": {},
   "outputs": [
    {
     "name": "stdout",
     "output_type": "stream",
     "text": [
      "\tfilename_heatmap: pdf/heatmap_peak2gene_legend.pdf\n"
     ]
    },
    {
     "data": {
      "text/html": [
       "<strong>png:</strong> 2"
      ],
      "text/latex": [
       "\\textbf{png:} 2"
      ],
      "text/markdown": [
       "**png:** 2"
      ],
      "text/plain": [
       "png \n",
       "  2 "
      ]
     },
     "metadata": {},
     "output_type": "display_data"
    }
   ],
   "source": [
    "filename_heatmap <- \"pdf/heatmap_peak2gene_legend.pdf\"\n",
    "cat(sprintf(\"\\tfilename_heatmap: %s\\n\", filename_heatmap))\n",
    "\n",
    "pdf(filename_heatmap, width = 8, height = 10)\n",
    "draw(heatmap_list, heatmap_legend_side = \"bottom\", annotation_legend_side = \"bottom\")\n",
    "dev.off()\n",
    "\n"
   ]
  },
  {
   "cell_type": "markdown",
   "id": "d3335947",
   "metadata": {},
   "source": [
    "# session info"
   ]
  },
  {
   "cell_type": "code",
   "execution_count": 16,
   "id": "04158981",
   "metadata": {},
   "outputs": [],
   "source": [
    "writeLines(capture.output(sessionInfo()), \"txt/sessionInfo.txt\")\n"
   ]
  },
  {
   "cell_type": "markdown",
   "id": "11a8c620",
   "metadata": {},
   "source": [
    "# reference"
   ]
  },
  {
   "cell_type": "markdown",
   "id": "674ff0fb",
   "metadata": {},
   "source": [
    "https://satijalab.org/seurat/\n"
   ]
  },
  {
   "cell_type": "code",
   "execution_count": null,
   "id": "68ed82a1",
   "metadata": {},
   "outputs": [],
   "source": []
  }
 ],
 "metadata": {
  "kernelspec": {
   "display_name": "R 4.1.2",
   "language": "R",
   "name": "r4.1.2"
  },
  "language_info": {
   "codemirror_mode": "r",
   "file_extension": ".r",
   "mimetype": "text/x-r-source",
   "name": "R",
   "pygments_lexer": "r",
   "version": "4.1.2"
  },
  "toc": {
   "base_numbering": 1,
   "nav_menu": {},
   "number_sections": true,
   "sideBar": true,
   "skip_h1_title": false,
   "title_cell": "Table of Contents",
   "title_sidebar": "Contents",
   "toc_cell": false,
   "toc_position": {},
   "toc_section_display": true,
   "toc_window_display": true
  }
 },
 "nbformat": 4,
 "nbformat_minor": 5
}
