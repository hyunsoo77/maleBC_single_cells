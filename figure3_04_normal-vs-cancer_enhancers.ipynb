{
 "cells": [
  {
   "cell_type": "markdown",
   "id": "c643ff42",
   "metadata": {},
   "source": [
    "# load library"
   ]
  },
  {
   "cell_type": "code",
   "execution_count": 1,
   "id": "359e7eda",
   "metadata": {},
   "outputs": [],
   "source": [
    "source(\"r/jupyter_common.R\")\n",
    "source(\"r/identify_cell_types.R\")\n",
    "source(\"r/plot_sc_clusters.R\")\n"
   ]
  },
  {
   "cell_type": "code",
   "execution_count": 2,
   "id": "016b237a",
   "metadata": {
    "scrolled": false
   },
   "outputs": [],
   "source": [
    "# data structure\n",
    "suppressPackageStartupMessages(library(data.table))\n",
    "\n",
    "# single cell analysis\n",
    "suppressPackageStartupMessages(library(Seurat))\n",
    "suppressPackageStartupMessages(library(ArchR))\n"
   ]
  },
  {
   "cell_type": "markdown",
   "id": "7e717b79",
   "metadata": {},
   "source": [
    "# parameters"
   ]
  },
  {
   "cell_type": "code",
   "execution_count": 3,
   "id": "699a8430",
   "metadata": {},
   "outputs": [
    {
     "data": {
      "text/html": [
       "'RNA_harmony_th.0'"
      ],
      "text/latex": [
       "'RNA\\_harmony\\_th.0'"
      ],
      "text/markdown": [
       "'RNA_harmony_th.0'"
      ],
      "text/plain": [
       "[1] \"RNA_harmony_th.0\""
      ]
     },
     "metadata": {},
     "output_type": "display_data"
    },
    {
     "data": {
      "text/html": [
       "'umapharmony'"
      ],
      "text/latex": [
       "'umapharmony'"
      ],
      "text/markdown": [
       "'umapharmony'"
      ],
      "text/plain": [
       "[1] \"umapharmony\""
      ]
     },
     "metadata": {},
     "output_type": "display_data"
    },
    {
     "data": {
      "text/html": [
       "'cluster.type.harmony'"
      ],
      "text/latex": [
       "'cluster.type.harmony'"
      ],
      "text/markdown": [
       "'cluster.type.harmony'"
      ],
      "text/plain": [
       "[1] \"cluster.type.harmony\""
      ]
     },
     "metadata": {},
     "output_type": "display_data"
    }
   ],
   "source": [
    "str_condition <- \"male-bc\"\n",
    "\n",
    "args <- list()\n",
    "args$cancer_type <- \"male-bc\"\n",
    "args$harmony_theta <- 0\n",
    "str_column_of_meta_data_harmony <- sprintf(\"RNA_harmony_th.%s\", paste(args$harmony_theta, collapse=\",\"))\n",
    "\n",
    "str_reduction <- \"pca\"\n",
    "str_umap_reduction <- \"umap\"  \n",
    "col_cluster_types <- \"cluster.type\"\n",
    "\n",
    "if (args$harmony_theta >= 0) {\n",
    "    str_column_of_meta_data_cluster <- str_column_of_meta_data_harmony\n",
    "    str_reduction <- \"harmony\"\n",
    "    str_umap_reduction <- \"umapharmony\"\n",
    "    col_cluster_types <- \"cluster.type.harmony\"\n",
    "}\n",
    "\n",
    "\n",
    "str_column_of_meta_data_cluster\n",
    "str_umap_reduction\n",
    "col_cluster_types\n",
    "\n",
    "\n",
    "figure_format <- \"pdf\"\n"
   ]
  },
  {
   "cell_type": "markdown",
   "id": "3119ef41",
   "metadata": {},
   "source": [
    "## set.seed"
   ]
  },
  {
   "cell_type": "code",
   "execution_count": 4,
   "id": "a004738e",
   "metadata": {},
   "outputs": [],
   "source": [
    "# set seed for reproducibility\n",
    "set.seed(51)\n",
    "\n"
   ]
  },
  {
   "cell_type": "markdown",
   "id": "291e5b63",
   "metadata": {},
   "source": [
    "## display"
   ]
  },
  {
   "cell_type": "code",
   "execution_count": 5,
   "id": "eabb56a4",
   "metadata": {},
   "outputs": [],
   "source": [
    "options(repr.matrix.max.cols=150, repr.matrix.max.rows=50)\n",
    "\n"
   ]
  },
  {
   "cell_type": "markdown",
   "id": "56ef227f",
   "metadata": {},
   "source": [
    "# read scRNA-seq"
   ]
  },
  {
   "cell_type": "code",
   "execution_count": 6,
   "id": "e6c782ec",
   "metadata": {},
   "outputs": [],
   "source": [
    "dir_rna <- \"/home/hkim77/francolab.w/sc-rna-seq/male-bc/run-20220725\"\n",
    "fname_rna <- sprintf(\"%s/output_male-bc/rds_male-bc/male-bc_sc-rna-seq_merged_seurat_obj.rds\", dir_rna)\n",
    "\n",
    "rna <- readRDS(fname_rna)\n"
   ]
  },
  {
   "cell_type": "markdown",
   "id": "815aaf92",
   "metadata": {},
   "source": [
    "## pattern_cluster.type_removal"
   ]
  },
  {
   "cell_type": "code",
   "execution_count": 7,
   "id": "f6fb1eea",
   "metadata": {},
   "outputs": [],
   "source": [
    "pattern_cluster.type_removal <- \"1-|6-|8-\"\n"
   ]
  },
  {
   "cell_type": "markdown",
   "id": "62e73c23",
   "metadata": {},
   "source": [
    "## rna$type_normal_cancer"
   ]
  },
  {
   "cell_type": "code",
   "execution_count": 8,
   "id": "e6f91faa",
   "metadata": {},
   "outputs": [],
   "source": [
    "vec_cluster_types <- rna@meta.data[,col_cluster_types]\n",
    "#table(vec_cluster_types)\n",
    "rna$type_normal_cancer <- \"Normal\"\n",
    "rna$type_normal_cancer[grepl(\"Epi\", vec_cluster_types)] <- \"Cancer\"\n",
    "rna$type_normal_cancer <- factor(rna$type_normal_cancer, level=c(\"Normal\", \"Cancer\"))\n",
    "\n",
    "# exclude\n",
    "f.exclude <- grepl(pattern_cluster.type_removal, vec_cluster_types)\n",
    "rna$type_normal_cancer[f.exclude] <- NA\n"
   ]
  },
  {
   "cell_type": "markdown",
   "id": "faf226fd",
   "metadata": {},
   "source": [
    "# read scATAC-seq"
   ]
  },
  {
   "cell_type": "code",
   "execution_count": 9,
   "id": "189a2838",
   "metadata": {},
   "outputs": [],
   "source": [
    "dir_atac <- \"/home/hkim77/francolab.w/sc-atac-seq/male-bc/run-20220725\"\n",
    "dir_output <- sprintf(\"%s/output_male-bc\", dir_atac)\n",
    "dir_output_p2g <- sprintf(\"%s/output_p2g_male-bc\", dir_atac)\n",
    "fname_atac <- sprintf(\"%s/rds/male-bc_archrproj_obj_final.rds\", dir_output)\n",
    "\n",
    "atac <- readRDS(fname_atac)\n"
   ]
  },
  {
   "cell_type": "markdown",
   "id": "d51b84a6",
   "metadata": {},
   "source": [
    "# normal vs. cancer"
   ]
  },
  {
   "cell_type": "markdown",
   "id": "18cce0c4",
   "metadata": {},
   "source": [
    "## df_p2g"
   ]
  },
  {
   "cell_type": "code",
   "execution_count": 10,
   "id": "cfcc4127",
   "metadata": {},
   "outputs": [
    {
     "data": {
      "text/html": [
       "<table class=\"dataframe\">\n",
       "<caption>A data.frame: 6 × 13</caption>\n",
       "<thead>\n",
       "\t<tr><th></th><th scope=col>idxATAC</th><th scope=col>idxRNA</th><th scope=col>Correlation</th><th scope=col>FDR</th><th scope=col>VarQATAC</th><th scope=col>VarQRNA</th><th scope=col>EmpPval</th><th scope=col>EmpFDR</th><th scope=col>geneName</th><th scope=col>peakName</th><th scope=col>peakType</th><th scope=col>idx</th><th scope=col>kmeans</th></tr>\n",
       "\t<tr><th></th><th scope=col>&lt;int&gt;</th><th scope=col>&lt;int&gt;</th><th scope=col>&lt;dbl&gt;</th><th scope=col>&lt;dbl&gt;</th><th scope=col>&lt;dbl&gt;</th><th scope=col>&lt;dbl&gt;</th><th scope=col>&lt;dbl&gt;</th><th scope=col>&lt;dbl&gt;</th><th scope=col>&lt;chr&gt;</th><th scope=col>&lt;chr&gt;</th><th scope=col>&lt;chr&gt;</th><th scope=col>&lt;chr&gt;</th><th scope=col>&lt;int&gt;</th></tr>\n",
       "</thead>\n",
       "<tbody>\n",
       "\t<tr><th scope=row>1</th><td>29</td><td>3</td><td>0.5394961</td><td> 6.024423e-38</td><td>0.9396097</td><td>0.4338114</td><td>0.11278982</td><td>0.7965846</td><td>FAM41C </td><td>chr1:1079324-1079824</td><td>Distal</td><td>29-3</td><td>3</td></tr>\n",
       "\t<tr><th scope=row>2</th><td>24</td><td>7</td><td>0.7894052</td><td>5.401495e-105</td><td>0.7539227</td><td>0.5385226</td><td>0.01994288</td><td>0.7892789</td><td>PLEKHN1</td><td>chr1:1068557-1069057</td><td>Distal</td><td>24-7</td><td>3</td></tr>\n",
       "\t<tr><th scope=row>3</th><td>25</td><td>7</td><td>0.7349978</td><td> 6.699672e-84</td><td>0.7787057</td><td>0.5385226</td><td>0.03031435</td><td>0.7892789</td><td>PLEKHN1</td><td>chr1:1069078-1069578</td><td>Distal</td><td>25-7</td><td>3</td></tr>\n",
       "\t<tr><th scope=row>4</th><td>26</td><td>7</td><td>0.8462787</td><td>5.132060e-135</td><td>0.7508486</td><td>0.5385226</td><td>0.01255312</td><td>0.7892789</td><td>PLEKHN1</td><td>chr1:1069752-1070252</td><td>Distal</td><td>26-7</td><td>3</td></tr>\n",
       "\t<tr><th scope=row>5</th><td>29</td><td>7</td><td>0.8539726</td><td>5.278697e-140</td><td>0.9396097</td><td>0.5385226</td><td>0.01176771</td><td>0.7892789</td><td>PLEKHN1</td><td>chr1:1079324-1079824</td><td>Distal</td><td>29-7</td><td>3</td></tr>\n",
       "\t<tr><th scope=row>6</th><td>30</td><td>7</td><td>0.6868139</td><td> 3.617362e-69</td><td>0.4759030</td><td>0.5385226</td><td>0.04307672</td><td>0.7892789</td><td>PLEKHN1</td><td>chr1:1080052-1080552</td><td>Distal</td><td>30-7</td><td>3</td></tr>\n",
       "</tbody>\n",
       "</table>\n"
      ],
      "text/latex": [
       "A data.frame: 6 × 13\n",
       "\\begin{tabular}{r|lllllllllllll}\n",
       "  & idxATAC & idxRNA & Correlation & FDR & VarQATAC & VarQRNA & EmpPval & EmpFDR & geneName & peakName & peakType & idx & kmeans\\\\\n",
       "  & <int> & <int> & <dbl> & <dbl> & <dbl> & <dbl> & <dbl> & <dbl> & <chr> & <chr> & <chr> & <chr> & <int>\\\\\n",
       "\\hline\n",
       "\t1 & 29 & 3 & 0.5394961 &  6.024423e-38 & 0.9396097 & 0.4338114 & 0.11278982 & 0.7965846 & FAM41C  & chr1:1079324-1079824 & Distal & 29-3 & 3\\\\\n",
       "\t2 & 24 & 7 & 0.7894052 & 5.401495e-105 & 0.7539227 & 0.5385226 & 0.01994288 & 0.7892789 & PLEKHN1 & chr1:1068557-1069057 & Distal & 24-7 & 3\\\\\n",
       "\t3 & 25 & 7 & 0.7349978 &  6.699672e-84 & 0.7787057 & 0.5385226 & 0.03031435 & 0.7892789 & PLEKHN1 & chr1:1069078-1069578 & Distal & 25-7 & 3\\\\\n",
       "\t4 & 26 & 7 & 0.8462787 & 5.132060e-135 & 0.7508486 & 0.5385226 & 0.01255312 & 0.7892789 & PLEKHN1 & chr1:1069752-1070252 & Distal & 26-7 & 3\\\\\n",
       "\t5 & 29 & 7 & 0.8539726 & 5.278697e-140 & 0.9396097 & 0.5385226 & 0.01176771 & 0.7892789 & PLEKHN1 & chr1:1079324-1079824 & Distal & 29-7 & 3\\\\\n",
       "\t6 & 30 & 7 & 0.6868139 &  3.617362e-69 & 0.4759030 & 0.5385226 & 0.04307672 & 0.7892789 & PLEKHN1 & chr1:1080052-1080552 & Distal & 30-7 & 3\\\\\n",
       "\\end{tabular}\n"
      ],
      "text/markdown": [
       "\n",
       "A data.frame: 6 × 13\n",
       "\n",
       "| <!--/--> | idxATAC &lt;int&gt; | idxRNA &lt;int&gt; | Correlation &lt;dbl&gt; | FDR &lt;dbl&gt; | VarQATAC &lt;dbl&gt; | VarQRNA &lt;dbl&gt; | EmpPval &lt;dbl&gt; | EmpFDR &lt;dbl&gt; | geneName &lt;chr&gt; | peakName &lt;chr&gt; | peakType &lt;chr&gt; | idx &lt;chr&gt; | kmeans &lt;int&gt; |\n",
       "|---|---|---|---|---|---|---|---|---|---|---|---|---|---|\n",
       "| 1 | 29 | 3 | 0.5394961 |  6.024423e-38 | 0.9396097 | 0.4338114 | 0.11278982 | 0.7965846 | FAM41C  | chr1:1079324-1079824 | Distal | 29-3 | 3 |\n",
       "| 2 | 24 | 7 | 0.7894052 | 5.401495e-105 | 0.7539227 | 0.5385226 | 0.01994288 | 0.7892789 | PLEKHN1 | chr1:1068557-1069057 | Distal | 24-7 | 3 |\n",
       "| 3 | 25 | 7 | 0.7349978 |  6.699672e-84 | 0.7787057 | 0.5385226 | 0.03031435 | 0.7892789 | PLEKHN1 | chr1:1069078-1069578 | Distal | 25-7 | 3 |\n",
       "| 4 | 26 | 7 | 0.8462787 | 5.132060e-135 | 0.7508486 | 0.5385226 | 0.01255312 | 0.7892789 | PLEKHN1 | chr1:1069752-1070252 | Distal | 26-7 | 3 |\n",
       "| 5 | 29 | 7 | 0.8539726 | 5.278697e-140 | 0.9396097 | 0.5385226 | 0.01176771 | 0.7892789 | PLEKHN1 | chr1:1079324-1079824 | Distal | 29-7 | 3 |\n",
       "| 6 | 30 | 7 | 0.6868139 |  3.617362e-69 | 0.4759030 | 0.5385226 | 0.04307672 | 0.7892789 | PLEKHN1 | chr1:1080052-1080552 | Distal | 30-7 | 3 |\n",
       "\n"
      ],
      "text/plain": [
       "  idxATAC idxRNA Correlation FDR           VarQATAC  VarQRNA   EmpPval   \n",
       "1 29      3      0.5394961    6.024423e-38 0.9396097 0.4338114 0.11278982\n",
       "2 24      7      0.7894052   5.401495e-105 0.7539227 0.5385226 0.01994288\n",
       "3 25      7      0.7349978    6.699672e-84 0.7787057 0.5385226 0.03031435\n",
       "4 26      7      0.8462787   5.132060e-135 0.7508486 0.5385226 0.01255312\n",
       "5 29      7      0.8539726   5.278697e-140 0.9396097 0.5385226 0.01176771\n",
       "6 30      7      0.6868139    3.617362e-69 0.4759030 0.5385226 0.04307672\n",
       "  EmpFDR    geneName peakName             peakType idx  kmeans\n",
       "1 0.7965846 FAM41C   chr1:1079324-1079824 Distal   29-3 3     \n",
       "2 0.7892789 PLEKHN1  chr1:1068557-1069057 Distal   24-7 3     \n",
       "3 0.7892789 PLEKHN1  chr1:1069078-1069578 Distal   25-7 3     \n",
       "4 0.7892789 PLEKHN1  chr1:1069752-1070252 Distal   26-7 3     \n",
       "5 0.7892789 PLEKHN1  chr1:1079324-1079824 Distal   29-7 3     \n",
       "6 0.7892789 PLEKHN1  chr1:1080052-1080552 Distal   30-7 3     "
      ]
     },
     "metadata": {},
     "output_type": "display_data"
    },
    {
     "data": {
      "text/html": [
       "<style>\n",
       ".list-inline {list-style: none; margin:0; padding: 0}\n",
       ".list-inline>li {display: inline-block}\n",
       ".list-inline>li:not(:last-child)::after {content: \"\\00b7\"; padding: 0 .5ex}\n",
       "</style>\n",
       "<ol class=list-inline><li>22869</li><li>13</li></ol>\n"
      ],
      "text/latex": [
       "\\begin{enumerate*}\n",
       "\\item 22869\n",
       "\\item 13\n",
       "\\end{enumerate*}\n"
      ],
      "text/markdown": [
       "1. 22869\n",
       "2. 13\n",
       "\n",
       "\n"
      ],
      "text/plain": [
       "[1] 22869    13"
      ]
     },
     "metadata": {},
     "output_type": "display_data"
    },
    {
     "name": "stdout",
     "output_type": "stream",
     "text": [
      "# unique peaks_p2g: 11719\n",
      "# unique genes: 7353\n"
     ]
    }
   ],
   "source": [
    "peaktype <- \"enhancer\"\n",
    "\n",
    "# all p2g\n",
    "fname_rds <- sprintf(\"%s/rds/p2g.df.sub.plot_%s.rds\", dir_output_p2g, peaktype)\n",
    "filename_appendix <- \"\"\n",
    "\n",
    "df_p2g <- readRDS(fname_rds)\n",
    "head(df_p2g)\n",
    "dim(df_p2g)\n",
    "\n",
    "peaks_p2g <- unique(df_p2g$peakName)\n",
    "n_upeaks_p2g <- length(peaks_p2g)\n",
    "\n",
    "genes_p2g <- unique(df_p2g$geneName)\n",
    "n_ugenes_p2g <- length(genes_p2g)\n",
    "\n",
    "cat(sprintf(\"# unique peaks_p2g: %d\\n\", n_upeaks_p2g))\n",
    "cat(sprintf(\"# unique genes: %d\\n\", n_ugenes_p2g))\n",
    "\n"
   ]
  },
  {
   "cell_type": "markdown",
   "id": "5ff8f9b2",
   "metadata": {},
   "source": [
    "## df_p2g_epi"
   ]
  },
  {
   "cell_type": "code",
   "execution_count": 11,
   "id": "2ed00d1b",
   "metadata": {},
   "outputs": [
    {
     "data": {
      "text/html": [
       "<table class=\"dataframe\">\n",
       "<caption>A data.frame: 6 × 13</caption>\n",
       "<thead>\n",
       "\t<tr><th></th><th scope=col>idxATAC</th><th scope=col>idxRNA</th><th scope=col>Correlation</th><th scope=col>FDR</th><th scope=col>VarQATAC</th><th scope=col>VarQRNA</th><th scope=col>EmpPval</th><th scope=col>EmpFDR</th><th scope=col>geneName</th><th scope=col>peakName</th><th scope=col>peakType</th><th scope=col>idx</th><th scope=col>kmeans</th></tr>\n",
       "\t<tr><th></th><th scope=col>&lt;int&gt;</th><th scope=col>&lt;int&gt;</th><th scope=col>&lt;dbl&gt;</th><th scope=col>&lt;dbl&gt;</th><th scope=col>&lt;dbl&gt;</th><th scope=col>&lt;dbl&gt;</th><th scope=col>&lt;dbl&gt;</th><th scope=col>&lt;dbl&gt;</th><th scope=col>&lt;chr&gt;</th><th scope=col>&lt;chr&gt;</th><th scope=col>&lt;chr&gt;</th><th scope=col>&lt;chr&gt;</th><th scope=col>&lt;int&gt;</th></tr>\n",
       "</thead>\n",
       "<tbody>\n",
       "\t<tr><th scope=row>1</th><td>29</td><td>3</td><td>0.5394961</td><td> 6.024423e-38</td><td>0.9396097</td><td>0.4338114</td><td>0.11278982</td><td>0.7965846</td><td>FAM41C </td><td>chr1:1079324-1079824</td><td>Distal</td><td>29-3</td><td>3</td></tr>\n",
       "\t<tr><th scope=row>2</th><td>24</td><td>7</td><td>0.7894052</td><td>5.401495e-105</td><td>0.7539227</td><td>0.5385226</td><td>0.01994288</td><td>0.7892789</td><td>PLEKHN1</td><td>chr1:1068557-1069057</td><td>Distal</td><td>24-7</td><td>3</td></tr>\n",
       "\t<tr><th scope=row>3</th><td>25</td><td>7</td><td>0.7349978</td><td> 6.699672e-84</td><td>0.7787057</td><td>0.5385226</td><td>0.03031435</td><td>0.7892789</td><td>PLEKHN1</td><td>chr1:1069078-1069578</td><td>Distal</td><td>25-7</td><td>3</td></tr>\n",
       "\t<tr><th scope=row>4</th><td>26</td><td>7</td><td>0.8462787</td><td>5.132060e-135</td><td>0.7508486</td><td>0.5385226</td><td>0.01255312</td><td>0.7892789</td><td>PLEKHN1</td><td>chr1:1069752-1070252</td><td>Distal</td><td>26-7</td><td>3</td></tr>\n",
       "\t<tr><th scope=row>5</th><td>29</td><td>7</td><td>0.8539726</td><td>5.278697e-140</td><td>0.9396097</td><td>0.5385226</td><td>0.01176771</td><td>0.7892789</td><td>PLEKHN1</td><td>chr1:1079324-1079824</td><td>Distal</td><td>29-7</td><td>3</td></tr>\n",
       "\t<tr><th scope=row>6</th><td>30</td><td>7</td><td>0.6868139</td><td> 3.617362e-69</td><td>0.4759030</td><td>0.5385226</td><td>0.04307672</td><td>0.7892789</td><td>PLEKHN1</td><td>chr1:1080052-1080552</td><td>Distal</td><td>30-7</td><td>3</td></tr>\n",
       "</tbody>\n",
       "</table>\n"
      ],
      "text/latex": [
       "A data.frame: 6 × 13\n",
       "\\begin{tabular}{r|lllllllllllll}\n",
       "  & idxATAC & idxRNA & Correlation & FDR & VarQATAC & VarQRNA & EmpPval & EmpFDR & geneName & peakName & peakType & idx & kmeans\\\\\n",
       "  & <int> & <int> & <dbl> & <dbl> & <dbl> & <dbl> & <dbl> & <dbl> & <chr> & <chr> & <chr> & <chr> & <int>\\\\\n",
       "\\hline\n",
       "\t1 & 29 & 3 & 0.5394961 &  6.024423e-38 & 0.9396097 & 0.4338114 & 0.11278982 & 0.7965846 & FAM41C  & chr1:1079324-1079824 & Distal & 29-3 & 3\\\\\n",
       "\t2 & 24 & 7 & 0.7894052 & 5.401495e-105 & 0.7539227 & 0.5385226 & 0.01994288 & 0.7892789 & PLEKHN1 & chr1:1068557-1069057 & Distal & 24-7 & 3\\\\\n",
       "\t3 & 25 & 7 & 0.7349978 &  6.699672e-84 & 0.7787057 & 0.5385226 & 0.03031435 & 0.7892789 & PLEKHN1 & chr1:1069078-1069578 & Distal & 25-7 & 3\\\\\n",
       "\t4 & 26 & 7 & 0.8462787 & 5.132060e-135 & 0.7508486 & 0.5385226 & 0.01255312 & 0.7892789 & PLEKHN1 & chr1:1069752-1070252 & Distal & 26-7 & 3\\\\\n",
       "\t5 & 29 & 7 & 0.8539726 & 5.278697e-140 & 0.9396097 & 0.5385226 & 0.01176771 & 0.7892789 & PLEKHN1 & chr1:1079324-1079824 & Distal & 29-7 & 3\\\\\n",
       "\t6 & 30 & 7 & 0.6868139 &  3.617362e-69 & 0.4759030 & 0.5385226 & 0.04307672 & 0.7892789 & PLEKHN1 & chr1:1080052-1080552 & Distal & 30-7 & 3\\\\\n",
       "\\end{tabular}\n"
      ],
      "text/markdown": [
       "\n",
       "A data.frame: 6 × 13\n",
       "\n",
       "| <!--/--> | idxATAC &lt;int&gt; | idxRNA &lt;int&gt; | Correlation &lt;dbl&gt; | FDR &lt;dbl&gt; | VarQATAC &lt;dbl&gt; | VarQRNA &lt;dbl&gt; | EmpPval &lt;dbl&gt; | EmpFDR &lt;dbl&gt; | geneName &lt;chr&gt; | peakName &lt;chr&gt; | peakType &lt;chr&gt; | idx &lt;chr&gt; | kmeans &lt;int&gt; |\n",
       "|---|---|---|---|---|---|---|---|---|---|---|---|---|---|\n",
       "| 1 | 29 | 3 | 0.5394961 |  6.024423e-38 | 0.9396097 | 0.4338114 | 0.11278982 | 0.7965846 | FAM41C  | chr1:1079324-1079824 | Distal | 29-3 | 3 |\n",
       "| 2 | 24 | 7 | 0.7894052 | 5.401495e-105 | 0.7539227 | 0.5385226 | 0.01994288 | 0.7892789 | PLEKHN1 | chr1:1068557-1069057 | Distal | 24-7 | 3 |\n",
       "| 3 | 25 | 7 | 0.7349978 |  6.699672e-84 | 0.7787057 | 0.5385226 | 0.03031435 | 0.7892789 | PLEKHN1 | chr1:1069078-1069578 | Distal | 25-7 | 3 |\n",
       "| 4 | 26 | 7 | 0.8462787 | 5.132060e-135 | 0.7508486 | 0.5385226 | 0.01255312 | 0.7892789 | PLEKHN1 | chr1:1069752-1070252 | Distal | 26-7 | 3 |\n",
       "| 5 | 29 | 7 | 0.8539726 | 5.278697e-140 | 0.9396097 | 0.5385226 | 0.01176771 | 0.7892789 | PLEKHN1 | chr1:1079324-1079824 | Distal | 29-7 | 3 |\n",
       "| 6 | 30 | 7 | 0.6868139 |  3.617362e-69 | 0.4759030 | 0.5385226 | 0.04307672 | 0.7892789 | PLEKHN1 | chr1:1080052-1080552 | Distal | 30-7 | 3 |\n",
       "\n"
      ],
      "text/plain": [
       "  idxATAC idxRNA Correlation FDR           VarQATAC  VarQRNA   EmpPval   \n",
       "1 29      3      0.5394961    6.024423e-38 0.9396097 0.4338114 0.11278982\n",
       "2 24      7      0.7894052   5.401495e-105 0.7539227 0.5385226 0.01994288\n",
       "3 25      7      0.7349978    6.699672e-84 0.7787057 0.5385226 0.03031435\n",
       "4 26      7      0.8462787   5.132060e-135 0.7508486 0.5385226 0.01255312\n",
       "5 29      7      0.8539726   5.278697e-140 0.9396097 0.5385226 0.01176771\n",
       "6 30      7      0.6868139    3.617362e-69 0.4759030 0.5385226 0.04307672\n",
       "  EmpFDR    geneName peakName             peakType idx  kmeans\n",
       "1 0.7965846 FAM41C   chr1:1079324-1079824 Distal   29-3 3     \n",
       "2 0.7892789 PLEKHN1  chr1:1068557-1069057 Distal   24-7 3     \n",
       "3 0.7892789 PLEKHN1  chr1:1069078-1069578 Distal   25-7 3     \n",
       "4 0.7892789 PLEKHN1  chr1:1069752-1070252 Distal   26-7 3     \n",
       "5 0.7892789 PLEKHN1  chr1:1079324-1079824 Distal   29-7 3     \n",
       "6 0.7892789 PLEKHN1  chr1:1080052-1080552 Distal   30-7 3     "
      ]
     },
     "metadata": {},
     "output_type": "display_data"
    },
    {
     "data": {
      "text/html": [
       "<style>\n",
       ".list-inline {list-style: none; margin:0; padding: 0}\n",
       ".list-inline>li {display: inline-block}\n",
       ".list-inline>li:not(:last-child)::after {content: \"\\00b7\"; padding: 0 .5ex}\n",
       "</style>\n",
       "<ol class=list-inline><li>15275</li><li>13</li></ol>\n"
      ],
      "text/latex": [
       "\\begin{enumerate*}\n",
       "\\item 15275\n",
       "\\item 13\n",
       "\\end{enumerate*}\n"
      ],
      "text/markdown": [
       "1. 15275\n",
       "2. 13\n",
       "\n",
       "\n"
      ],
      "text/plain": [
       "[1] 15275    13"
      ]
     },
     "metadata": {},
     "output_type": "display_data"
    },
    {
     "name": "stdout",
     "output_type": "stream",
     "text": [
      "# unique peaks epi: 6790\n",
      "# unique genes epi: 3939\n"
     ]
    }
   ],
   "source": [
    "peaktype <- \"enhancer\"\n",
    "\n",
    "# all epithelial cells\n",
    "fname_rds <- sprintf(\"%s/rds/cancer_enriched_%s_p2g_table.rds\", dir_output_p2g, peaktype)\n",
    "\n",
    "df_p2g_epi <- readRDS(fname_rds)\n",
    "head(df_p2g_epi)\n",
    "dim(df_p2g_epi)\n",
    "\n",
    "upeaks_epi <- unique(df_p2g_epi$peakName)\n",
    "n_upeaks_epi <- length(upeaks_epi)\n",
    "\n",
    "ugenes_epi <- unique(df_p2g_epi$geneName)\n",
    "n_ugenes_epi <- length(ugenes_epi)\n",
    "\n",
    "cat(sprintf(\"# unique peaks epi: %d\\n\", n_upeaks_epi))\n",
    "cat(sprintf(\"# unique genes epi: %d\\n\", n_ugenes_epi))\n"
   ]
  },
  {
   "cell_type": "markdown",
   "id": "651aadc8",
   "metadata": {},
   "source": [
    "## df_p2g_normal"
   ]
  },
  {
   "cell_type": "code",
   "execution_count": 12,
   "id": "42680ef1",
   "metadata": {},
   "outputs": [
    {
     "name": "stdout",
     "output_type": "stream",
     "text": [
      "comparision of non-Epi. vs. Epi.\n"
     ]
    },
    {
     "data": {
      "text/html": [
       "<table class=\"dataframe\">\n",
       "<caption>A data.frame: 6 × 13</caption>\n",
       "<thead>\n",
       "\t<tr><th></th><th scope=col>idxATAC</th><th scope=col>idxRNA</th><th scope=col>Correlation</th><th scope=col>FDR</th><th scope=col>VarQATAC</th><th scope=col>VarQRNA</th><th scope=col>EmpPval</th><th scope=col>EmpFDR</th><th scope=col>geneName</th><th scope=col>peakName</th><th scope=col>peakType</th><th scope=col>idx</th><th scope=col>kmeans</th></tr>\n",
       "\t<tr><th></th><th scope=col>&lt;int&gt;</th><th scope=col>&lt;int&gt;</th><th scope=col>&lt;dbl&gt;</th><th scope=col>&lt;dbl&gt;</th><th scope=col>&lt;dbl&gt;</th><th scope=col>&lt;dbl&gt;</th><th scope=col>&lt;dbl&gt;</th><th scope=col>&lt;dbl&gt;</th><th scope=col>&lt;chr&gt;</th><th scope=col>&lt;chr&gt;</th><th scope=col>&lt;chr&gt;</th><th scope=col>&lt;chr&gt;</th><th scope=col>&lt;int&gt;</th></tr>\n",
       "</thead>\n",
       "<tbody>\n",
       "\t<tr><th scope=row>77</th><td> 22</td><td>17</td><td>0.6037769</td><td>1.453477e-49</td><td>0.6319305</td><td>0.4842678</td><td>0.07564391</td><td>0.7892789</td><td>TNFRSF4</td><td>chr1:1059422-1059922</td><td>Distal</td><td>22-17 </td><td>1</td></tr>\n",
       "\t<tr><th scope=row>121</th><td> 77</td><td>31</td><td>0.5395152</td><td>5.981577e-38</td><td>0.8178778</td><td>0.6743580</td><td>0.11277696</td><td>0.7965691</td><td>CCNL2  </td><td>chr1:1430153-1430653</td><td>Distal</td><td>77-31 </td><td>5</td></tr>\n",
       "\t<tr><th scope=row>124</th><td> 77</td><td>33</td><td>0.6222581</td><td>2.030050e-53</td><td>0.8178778</td><td>0.3854527</td><td>0.06704292</td><td>0.7892789</td><td>ANKRD65</td><td>chr1:1430153-1430653</td><td>Distal</td><td>77-33 </td><td>5</td></tr>\n",
       "\t<tr><th scope=row>125</th><td> 85</td><td>34</td><td>0.4932488</td><td>5.055257e-31</td><td>0.5334295</td><td>0.8695504</td><td>0.14746854</td><td>0.8112124</td><td>VWA1   </td><td>chr1:1504831-1505331</td><td>Distal</td><td>85-34 </td><td>5</td></tr>\n",
       "\t<tr><th scope=row>132</th><td>119</td><td>49</td><td>0.6714273</td><td>4.744437e-65</td><td>0.8276508</td><td>0.8432451</td><td>0.04800736</td><td>0.7892789</td><td>GNB1   </td><td>chr1:1906167-1906667</td><td>Distal</td><td>119-49</td><td>5</td></tr>\n",
       "\t<tr><th scope=row>133</th><td>120</td><td>49</td><td>0.6480846</td><td>2.930064e-59</td><td>0.8340593</td><td>0.8432451</td><td>0.05638730</td><td>0.7892789</td><td>GNB1   </td><td>chr1:1908914-1909414</td><td>Distal</td><td>120-49</td><td>5</td></tr>\n",
       "</tbody>\n",
       "</table>\n"
      ],
      "text/latex": [
       "A data.frame: 6 × 13\n",
       "\\begin{tabular}{r|lllllllllllll}\n",
       "  & idxATAC & idxRNA & Correlation & FDR & VarQATAC & VarQRNA & EmpPval & EmpFDR & geneName & peakName & peakType & idx & kmeans\\\\\n",
       "  & <int> & <int> & <dbl> & <dbl> & <dbl> & <dbl> & <dbl> & <dbl> & <chr> & <chr> & <chr> & <chr> & <int>\\\\\n",
       "\\hline\n",
       "\t77 &  22 & 17 & 0.6037769 & 1.453477e-49 & 0.6319305 & 0.4842678 & 0.07564391 & 0.7892789 & TNFRSF4 & chr1:1059422-1059922 & Distal & 22-17  & 1\\\\\n",
       "\t121 &  77 & 31 & 0.5395152 & 5.981577e-38 & 0.8178778 & 0.6743580 & 0.11277696 & 0.7965691 & CCNL2   & chr1:1430153-1430653 & Distal & 77-31  & 5\\\\\n",
       "\t124 &  77 & 33 & 0.6222581 & 2.030050e-53 & 0.8178778 & 0.3854527 & 0.06704292 & 0.7892789 & ANKRD65 & chr1:1430153-1430653 & Distal & 77-33  & 5\\\\\n",
       "\t125 &  85 & 34 & 0.4932488 & 5.055257e-31 & 0.5334295 & 0.8695504 & 0.14746854 & 0.8112124 & VWA1    & chr1:1504831-1505331 & Distal & 85-34  & 5\\\\\n",
       "\t132 & 119 & 49 & 0.6714273 & 4.744437e-65 & 0.8276508 & 0.8432451 & 0.04800736 & 0.7892789 & GNB1    & chr1:1906167-1906667 & Distal & 119-49 & 5\\\\\n",
       "\t133 & 120 & 49 & 0.6480846 & 2.930064e-59 & 0.8340593 & 0.8432451 & 0.05638730 & 0.7892789 & GNB1    & chr1:1908914-1909414 & Distal & 120-49 & 5\\\\\n",
       "\\end{tabular}\n"
      ],
      "text/markdown": [
       "\n",
       "A data.frame: 6 × 13\n",
       "\n",
       "| <!--/--> | idxATAC &lt;int&gt; | idxRNA &lt;int&gt; | Correlation &lt;dbl&gt; | FDR &lt;dbl&gt; | VarQATAC &lt;dbl&gt; | VarQRNA &lt;dbl&gt; | EmpPval &lt;dbl&gt; | EmpFDR &lt;dbl&gt; | geneName &lt;chr&gt; | peakName &lt;chr&gt; | peakType &lt;chr&gt; | idx &lt;chr&gt; | kmeans &lt;int&gt; |\n",
       "|---|---|---|---|---|---|---|---|---|---|---|---|---|---|\n",
       "| 77 |  22 | 17 | 0.6037769 | 1.453477e-49 | 0.6319305 | 0.4842678 | 0.07564391 | 0.7892789 | TNFRSF4 | chr1:1059422-1059922 | Distal | 22-17  | 1 |\n",
       "| 121 |  77 | 31 | 0.5395152 | 5.981577e-38 | 0.8178778 | 0.6743580 | 0.11277696 | 0.7965691 | CCNL2   | chr1:1430153-1430653 | Distal | 77-31  | 5 |\n",
       "| 124 |  77 | 33 | 0.6222581 | 2.030050e-53 | 0.8178778 | 0.3854527 | 0.06704292 | 0.7892789 | ANKRD65 | chr1:1430153-1430653 | Distal | 77-33  | 5 |\n",
       "| 125 |  85 | 34 | 0.4932488 | 5.055257e-31 | 0.5334295 | 0.8695504 | 0.14746854 | 0.8112124 | VWA1    | chr1:1504831-1505331 | Distal | 85-34  | 5 |\n",
       "| 132 | 119 | 49 | 0.6714273 | 4.744437e-65 | 0.8276508 | 0.8432451 | 0.04800736 | 0.7892789 | GNB1    | chr1:1906167-1906667 | Distal | 119-49 | 5 |\n",
       "| 133 | 120 | 49 | 0.6480846 | 2.930064e-59 | 0.8340593 | 0.8432451 | 0.05638730 | 0.7892789 | GNB1    | chr1:1908914-1909414 | Distal | 120-49 | 5 |\n",
       "\n"
      ],
      "text/plain": [
       "    idxATAC idxRNA Correlation FDR          VarQATAC  VarQRNA   EmpPval   \n",
       "77   22     17     0.6037769   1.453477e-49 0.6319305 0.4842678 0.07564391\n",
       "121  77     31     0.5395152   5.981577e-38 0.8178778 0.6743580 0.11277696\n",
       "124  77     33     0.6222581   2.030050e-53 0.8178778 0.3854527 0.06704292\n",
       "125  85     34     0.4932488   5.055257e-31 0.5334295 0.8695504 0.14746854\n",
       "132 119     49     0.6714273   4.744437e-65 0.8276508 0.8432451 0.04800736\n",
       "133 120     49     0.6480846   2.930064e-59 0.8340593 0.8432451 0.05638730\n",
       "    EmpFDR    geneName peakName             peakType idx    kmeans\n",
       "77  0.7892789 TNFRSF4  chr1:1059422-1059922 Distal   22-17  1     \n",
       "121 0.7965691 CCNL2    chr1:1430153-1430653 Distal   77-31  5     \n",
       "124 0.7892789 ANKRD65  chr1:1430153-1430653 Distal   77-33  5     \n",
       "125 0.8112124 VWA1     chr1:1504831-1505331 Distal   85-34  5     \n",
       "132 0.7892789 GNB1     chr1:1906167-1906667 Distal   119-49 5     \n",
       "133 0.7892789 GNB1     chr1:1908914-1909414 Distal   120-49 5     "
      ]
     },
     "metadata": {},
     "output_type": "display_data"
    },
    {
     "data": {
      "text/html": [
       "<style>\n",
       ".list-inline {list-style: none; margin:0; padding: 0}\n",
       ".list-inline>li {display: inline-block}\n",
       ".list-inline>li:not(:last-child)::after {content: \"\\00b7\"; padding: 0 .5ex}\n",
       "</style>\n",
       "<ol class=list-inline><li>7594</li><li>13</li></ol>\n"
      ],
      "text/latex": [
       "\\begin{enumerate*}\n",
       "\\item 7594\n",
       "\\item 13\n",
       "\\end{enumerate*}\n"
      ],
      "text/markdown": [
       "1. 7594\n",
       "2. 13\n",
       "\n",
       "\n"
      ],
      "text/plain": [
       "[1] 7594   13"
      ]
     },
     "metadata": {},
     "output_type": "display_data"
    },
    {
     "name": "stdout",
     "output_type": "stream",
     "text": [
      "# unique peaks for non-Epi.: 4929\n",
      "# unique genes for non-Epi.: 3551\n"
     ]
    }
   ],
   "source": [
    "   \n",
    "#comparision of non-epi vs. epi  \n",
    "group_ref <- \"non-Epi.\"\n",
    "group1 <- \"Epi.\"\n",
    "\n",
    "# not in cancer_enriched_{peaktype}_p2g_table.rds\n",
    "# not in kmeans epithelial clusters\n",
    "# df_p2g_normal contain non-epithelial p2g\n",
    "f <- which(!df_p2g$peakName %in% df_p2g_epi$peakName)\n",
    "df_p2g_normal <- df_p2g[f,]\n",
    "\n",
    "cat(sprintf(\"comparision of %s vs. %s\\n\", group_ref, group1))\n",
    "\n",
    "\n",
    "head(df_p2g_normal)\n",
    "dim(df_p2g_normal)\n",
    "\n",
    "upeaks_normal <- unique(df_p2g_normal$peakName)\n",
    "n_upeaks_normal <- length(upeaks_normal)\n",
    "\n",
    "ugenes_normal <- unique(df_p2g_normal$geneName)\n",
    "n_ugenes_normal <- length(ugenes_normal)\n",
    "\n",
    "cat(sprintf(\"# unique peaks for %s: %d\\n\", group_ref, n_upeaks_normal))\n",
    "cat(sprintf(\"# unique genes for %s: %d\\n\", group_ref, n_ugenes_normal))\n"
   ]
  },
  {
   "cell_type": "code",
   "execution_count": 13,
   "id": "a08dd2e9",
   "metadata": {},
   "outputs": [
    {
     "data": {
      "text/html": [
       "137"
      ],
      "text/latex": [
       "137"
      ],
      "text/markdown": [
       "137"
      ],
      "text/plain": [
       "[1] 137"
      ]
     },
     "metadata": {},
     "output_type": "display_data"
    }
   ],
   "source": [
    "ugenes_common <- intersect(ugenes_epi, ugenes_normal)\n",
    "length(ugenes_common)\n"
   ]
  },
  {
   "cell_type": "code",
   "execution_count": 14,
   "id": "6084d001",
   "metadata": {},
   "outputs": [
    {
     "data": {
      "text/html": [
       "3802"
      ],
      "text/latex": [
       "3802"
      ],
      "text/markdown": [
       "3802"
      ],
      "text/plain": [
       "[1] 3802"
      ]
     },
     "metadata": {},
     "output_type": "display_data"
    }
   ],
   "source": [
    "ugenes_epi_only <- setdiff(ugenes_epi, ugenes_normal)\n",
    "length(ugenes_epi_only)\n"
   ]
  },
  {
   "cell_type": "code",
   "execution_count": 15,
   "id": "34728ca0",
   "metadata": {},
   "outputs": [
    {
     "data": {
      "text/html": [
       "3414"
      ],
      "text/latex": [
       "3414"
      ],
      "text/markdown": [
       "3414"
      ],
      "text/plain": [
       "[1] 3414"
      ]
     },
     "metadata": {},
     "output_type": "display_data"
    }
   ],
   "source": [
    "ugenes_normal_only <- setdiff(ugenes_normal, ugenes_epi)\n",
    "length(ugenes_normal_only)\n"
   ]
  },
  {
   "cell_type": "markdown",
   "id": "5b915017",
   "metadata": {},
   "source": [
    "## barplot"
   ]
  },
  {
   "cell_type": "markdown",
   "id": "dbe55c0e",
   "metadata": {},
   "source": [
    "### total # of genes linked with peaks"
   ]
  },
  {
   "cell_type": "code",
   "execution_count": 16,
   "id": "0545e3f8",
   "metadata": {
    "scrolled": false
   },
   "outputs": [
    {
     "data": {
      "text/html": [
       "<table class=\"dataframe\">\n",
       "<caption>A data.frame: 2 × 2</caption>\n",
       "<thead>\n",
       "\t<tr><th scope=col>type_normal_cancer</th><th scope=col>geneCount</th></tr>\n",
       "\t<tr><th scope=col>&lt;fct&gt;</th><th scope=col>&lt;int&gt;</th></tr>\n",
       "</thead>\n",
       "<tbody>\n",
       "\t<tr><td>non-Epi.</td><td>3551</td></tr>\n",
       "\t<tr><td>Epi.    </td><td>3939</td></tr>\n",
       "</tbody>\n",
       "</table>\n"
      ],
      "text/latex": [
       "A data.frame: 2 × 2\n",
       "\\begin{tabular}{ll}\n",
       " type\\_normal\\_cancer & geneCount\\\\\n",
       " <fct> & <int>\\\\\n",
       "\\hline\n",
       "\t non-Epi. & 3551\\\\\n",
       "\t Epi.     & 3939\\\\\n",
       "\\end{tabular}\n"
      ],
      "text/markdown": [
       "\n",
       "A data.frame: 2 × 2\n",
       "\n",
       "| type_normal_cancer &lt;fct&gt; | geneCount &lt;int&gt; |\n",
       "|---|---|\n",
       "| non-Epi. | 3551 |\n",
       "| Epi.     | 3939 |\n",
       "\n"
      ],
      "text/plain": [
       "  type_normal_cancer geneCount\n",
       "1 non-Epi.           3551     \n",
       "2 Epi.               3939     "
      ]
     },
     "metadata": {},
     "output_type": "display_data"
    },
    {
     "data": {
      "image/png": "[encoded data removed]",
      "text/plain": [
       "plot without title"
      ]
     },
     "metadata": {
      "image/png": {
       "height": 240,
       "width": 198
      }
     },
     "output_type": "display_data"
    }
   ],
   "source": [
    "\n",
    "df_g <- data.frame(type_normal_cancer=factor(c(group_ref, group1), levels=c(group_ref, group1)),\n",
    "            geneCount=c(\n",
    "                n_ugenes_normal,\n",
    "                n_ugenes_epi\n",
    "            ))\n",
    "\n",
    "df_g\n",
    "\n",
    "nv_colors_normal_cancer <- c(\"#93CEFF\", \"forestgreen\")\n",
    "names(nv_colors_normal_cancer) <- c(group_ref, group1)\n",
    "\n",
    "str_condition_plot <- sprintf(\"%s_%s-vs-%s_ngenes_linked%s\", str_condition, group_ref, group1, filename_appendix)\n",
    "gg <- print_ggpubr(df_g,\n",
    "            x = \"type_normal_cancer\", y = \"geneCount\",\n",
    "            color = \"type_normal_cancer\", \n",
    "            fill = \"type_normal_cancer\", \n",
    "            order_x = c(group_ref, group1),\n",
    "            facet.by = NULL, facet.ncol = 5,\n",
    "            plot_type = \"barplot\",\n",
    "            #list_comparison = list(c(\"Normal\", \"Cancer\")),\n",
    "            #symnum.args = NULL,\n",
    "            step.increase = 0.03, label.y = 1500, vjust = -0.4, tip.length = c(0.05, 0.05),\n",
    "            test = NULL, test_label.x = 1, test_label.y = 1, test_vjust = 0.5,\n",
    "            color_manual = nv_colors_normal_cancer,\n",
    "            fill_manual = nv_colors_normal_cancer,\n",
    "            ylimits = c(0, 4000),\n",
    "            ybreaks = pretty(c(0, 6000), n = 4),\n",
    "            yexpand = c(0.1, 0.1),\n",
    "            yintercept = NULL,\n",
    "            xlim = NULL, ylim = NULL,\n",
    "            xlab = \"\", ylab = \"total # of linked genes\",\n",
    "            angle = 0, font_size = 13,\n",
    "            width = 3.3, height = 4,\n",
    "            str_condition_plot = str_condition_plot,\n",
    "            n_log = 0)\n",
    "\n"
   ]
  },
  {
   "cell_type": "markdown",
   "id": "7f5c62c5",
   "metadata": {},
   "source": [
    "comparions of non-epi vs. cse\n",
    "\n",
    "The # of linked gene for df_p2g_cse is slightly higher than those of df_p2g_normal.\n",
    "\n",
    "\n",
    "\n",
    "comparision of (non-epi + normal epi) vs. cse\n",
    "\n",
    "The # of linked gene for df_p2g_normal is much larger since normal epi. has additional p2g for epithelial marker genes.\n"
   ]
  },
  {
   "cell_type": "markdown",
   "id": "8e1836b0",
   "metadata": {},
   "source": [
    "###  num of genes per peak"
   ]
  },
  {
   "cell_type": "markdown",
   "id": "4fba6a58",
   "metadata": {},
   "source": [
    "#### df_summary.epi"
   ]
  },
  {
   "cell_type": "code",
   "execution_count": 17,
   "id": "f536ef2a",
   "metadata": {
    "scrolled": false
   },
   "outputs": [
    {
     "data": {
      "text/html": [
       "<style>\n",
       ".list-inline {list-style: none; margin:0; padding: 0}\n",
       ".list-inline>li {display: inline-block}\n",
       ".list-inline>li:not(:last-child)::after {content: \"\\00b7\"; padding: 0 .5ex}\n",
       "</style>\n",
       "<ol class=list-inline><li>15275</li><li>13</li></ol>\n"
      ],
      "text/latex": [
       "\\begin{enumerate*}\n",
       "\\item 15275\n",
       "\\item 13\n",
       "\\end{enumerate*}\n"
      ],
      "text/markdown": [
       "1. 15275\n",
       "2. 13\n",
       "\n",
       "\n"
      ],
      "text/plain": [
       "[1] 15275    13"
      ]
     },
     "metadata": {},
     "output_type": "display_data"
    },
    {
     "name": "stdout",
     "output_type": "stream",
     "text": [
      "# peaks for Epi.: 15275\n",
      "# unique peaks for Epi.: 6790\n",
      "# unique genes for Epi.: 3939\n"
     ]
    },
    {
     "data": {
      "text/html": [
       "<table class=\"dataframe\">\n",
       "<caption>A grouped_df: 6 × 3</caption>\n",
       "<thead>\n",
       "\t<tr><th scope=col>peakName</th><th scope=col>geneName</th><th scope=col>n</th></tr>\n",
       "\t<tr><th scope=col>&lt;chr&gt;</th><th scope=col>&lt;chr&gt;</th><th scope=col>&lt;int&gt;</th></tr>\n",
       "</thead>\n",
       "<tbody>\n",
       "\t<tr><td>chr1:10018448-10018948</td><td>CLSTN1  </td><td>1</td></tr>\n",
       "\t<tr><td>chr1:10018448-10018948</td><td>CTNNBIP1</td><td>1</td></tr>\n",
       "\t<tr><td>chr1:10018448-10018948</td><td>LZIC    </td><td>1</td></tr>\n",
       "\t<tr><td>chr1:10018448-10018948</td><td>NMNAT1  </td><td>1</td></tr>\n",
       "\t<tr><td>chr1:10635578-10636078</td><td>CASZ1   </td><td>1</td></tr>\n",
       "\t<tr><td>chr1:10635578-10636078</td><td>CENPS   </td><td>1</td></tr>\n",
       "</tbody>\n",
       "</table>\n"
      ],
      "text/latex": [
       "A grouped\\_df: 6 × 3\n",
       "\\begin{tabular}{lll}\n",
       " peakName & geneName & n\\\\\n",
       " <chr> & <chr> & <int>\\\\\n",
       "\\hline\n",
       "\t chr1:10018448-10018948 & CLSTN1   & 1\\\\\n",
       "\t chr1:10018448-10018948 & CTNNBIP1 & 1\\\\\n",
       "\t chr1:10018448-10018948 & LZIC     & 1\\\\\n",
       "\t chr1:10018448-10018948 & NMNAT1   & 1\\\\\n",
       "\t chr1:10635578-10636078 & CASZ1    & 1\\\\\n",
       "\t chr1:10635578-10636078 & CENPS    & 1\\\\\n",
       "\\end{tabular}\n"
      ],
      "text/markdown": [
       "\n",
       "A grouped_df: 6 × 3\n",
       "\n",
       "| peakName &lt;chr&gt; | geneName &lt;chr&gt; | n &lt;int&gt; |\n",
       "|---|---|---|\n",
       "| chr1:10018448-10018948 | CLSTN1   | 1 |\n",
       "| chr1:10018448-10018948 | CTNNBIP1 | 1 |\n",
       "| chr1:10018448-10018948 | LZIC     | 1 |\n",
       "| chr1:10018448-10018948 | NMNAT1   | 1 |\n",
       "| chr1:10635578-10636078 | CASZ1    | 1 |\n",
       "| chr1:10635578-10636078 | CENPS    | 1 |\n",
       "\n"
      ],
      "text/plain": [
       "  peakName               geneName n\n",
       "1 chr1:10018448-10018948 CLSTN1   1\n",
       "2 chr1:10018448-10018948 CTNNBIP1 1\n",
       "3 chr1:10018448-10018948 LZIC     1\n",
       "4 chr1:10018448-10018948 NMNAT1   1\n",
       "5 chr1:10635578-10636078 CASZ1    1\n",
       "6 chr1:10635578-10636078 CENPS    1"
      ]
     },
     "metadata": {},
     "output_type": "display_data"
    },
    {
     "data": {
      "text/html": [
       "<style>\n",
       ".list-inline {list-style: none; margin:0; padding: 0}\n",
       ".list-inline>li {display: inline-block}\n",
       ".list-inline>li:not(:last-child)::after {content: \"\\00b7\"; padding: 0 .5ex}\n",
       "</style>\n",
       "<ol class=list-inline><li>15275</li><li>3</li></ol>\n"
      ],
      "text/latex": [
       "\\begin{enumerate*}\n",
       "\\item 15275\n",
       "\\item 3\n",
       "\\end{enumerate*}\n"
      ],
      "text/markdown": [
       "1. 15275\n",
       "2. 3\n",
       "\n",
       "\n"
      ],
      "text/plain": [
       "[1] 15275     3"
      ]
     },
     "metadata": {},
     "output_type": "display_data"
    },
    {
     "data": {
      "text/html": [
       "<table class=\"dataframe\">\n",
       "<caption>A tibble: 6 × 3</caption>\n",
       "<thead>\n",
       "\t<tr><th scope=col>peakName</th><th scope=col>genes</th><th scope=col>n</th></tr>\n",
       "\t<tr><th scope=col>&lt;chr&gt;</th><th scope=col>&lt;chr&gt;</th><th scope=col>&lt;int&gt;</th></tr>\n",
       "</thead>\n",
       "<tbody>\n",
       "\t<tr><td>chr1:155124589-155125089</td><td>ADAM15, CLK2, DCST1-AS1, DCST2, DPM3, EFNA1, EFNA3, EFNA4, FAM189B, FLAD1, HCN3, KRTCAP2, MTX1, MUC1, PMVK, PYGO2, RUSC1, RUSC1-AS1, SCAMP3, SLC50A1, ZBTB7B</td><td>21</td></tr>\n",
       "\t<tr><td>chr16:1900082-1900582   </td><td>EME2, FAHD1, GFER, HAGH, JPT2, MEIOB, MRPS34, MSRB1, NDUFB10, NME3, NOXO1, NPW, NTHL1, NUBP2, PKD1, RPS2, SNHG9, SYNGR3, TBL3, TSC2, ZNF598                 </td><td>21</td></tr>\n",
       "\t<tr><td>chr1:155117581-155118081</td><td>ADAM15, CLK2, DCST1-AS1, DCST2, EFNA1, EFNA3, EFNA4, FAM189B, FLAD1, HCN3, KRTCAP2, MTX1, MUC1, PMVK, PYGO2, RUSC1, RUSC1-AS1, SCAMP3, SLC50A1, ZBTB7B      </td><td>20</td></tr>\n",
       "\t<tr><td>chr16:1935255-1935755   </td><td>EME2, FAHD1, GFER, HAGH, MRPS34, MSRB1, NDUFB10, NME3, NOXO1, NTHL1, NUBP2, PKD1, RPS2, SNHG19, SNHG9, SYNGR3, TBL3, TRAF7, TSC2, ZNF598                    </td><td>20</td></tr>\n",
       "\t<tr><td>chr1:155222900-155223400</td><td>ADAM15, CLK2, DCST1-AS1, DCST2, EFNA1, EFNA3, EFNA4, FAM189B, FLAD1, GBA, HCN3, KRTCAP2, LENEP, MTX1, MUC1, RUSC1, SCAMP3, SLC50A1, ZBTB7B                  </td><td>19</td></tr>\n",
       "\t<tr><td>chr1:155224624-155225124</td><td>ADAM15, CLK2, DCST1-AS1, DCST2, EFNA1, EFNA3, EFNA4, FAM189B, FLAD1, GBA, HCN3, KRTCAP2, MTX1, MUC1, RUSC1, SCAMP3, SLC50A1, ZBTB7B                         </td><td>18</td></tr>\n",
       "</tbody>\n",
       "</table>\n"
      ],
      "text/latex": [
       "A tibble: 6 × 3\n",
       "\\begin{tabular}{lll}\n",
       " peakName & genes & n\\\\\n",
       " <chr> & <chr> & <int>\\\\\n",
       "\\hline\n",
       "\t chr1:155124589-155125089 & ADAM15, CLK2, DCST1-AS1, DCST2, DPM3, EFNA1, EFNA3, EFNA4, FAM189B, FLAD1, HCN3, KRTCAP2, MTX1, MUC1, PMVK, PYGO2, RUSC1, RUSC1-AS1, SCAMP3, SLC50A1, ZBTB7B & 21\\\\\n",
       "\t chr16:1900082-1900582    & EME2, FAHD1, GFER, HAGH, JPT2, MEIOB, MRPS34, MSRB1, NDUFB10, NME3, NOXO1, NPW, NTHL1, NUBP2, PKD1, RPS2, SNHG9, SYNGR3, TBL3, TSC2, ZNF598                  & 21\\\\\n",
       "\t chr1:155117581-155118081 & ADAM15, CLK2, DCST1-AS1, DCST2, EFNA1, EFNA3, EFNA4, FAM189B, FLAD1, HCN3, KRTCAP2, MTX1, MUC1, PMVK, PYGO2, RUSC1, RUSC1-AS1, SCAMP3, SLC50A1, ZBTB7B       & 20\\\\\n",
       "\t chr16:1935255-1935755    & EME2, FAHD1, GFER, HAGH, MRPS34, MSRB1, NDUFB10, NME3, NOXO1, NTHL1, NUBP2, PKD1, RPS2, SNHG19, SNHG9, SYNGR3, TBL3, TRAF7, TSC2, ZNF598                     & 20\\\\\n",
       "\t chr1:155222900-155223400 & ADAM15, CLK2, DCST1-AS1, DCST2, EFNA1, EFNA3, EFNA4, FAM189B, FLAD1, GBA, HCN3, KRTCAP2, LENEP, MTX1, MUC1, RUSC1, SCAMP3, SLC50A1, ZBTB7B                   & 19\\\\\n",
       "\t chr1:155224624-155225124 & ADAM15, CLK2, DCST1-AS1, DCST2, EFNA1, EFNA3, EFNA4, FAM189B, FLAD1, GBA, HCN3, KRTCAP2, MTX1, MUC1, RUSC1, SCAMP3, SLC50A1, ZBTB7B                          & 18\\\\\n",
       "\\end{tabular}\n"
      ],
      "text/markdown": [
       "\n",
       "A tibble: 6 × 3\n",
       "\n",
       "| peakName &lt;chr&gt; | genes &lt;chr&gt; | n &lt;int&gt; |\n",
       "|---|---|---|\n",
       "| chr1:155124589-155125089 | ADAM15, CLK2, DCST1-AS1, DCST2, DPM3, EFNA1, EFNA3, EFNA4, FAM189B, FLAD1, HCN3, KRTCAP2, MTX1, MUC1, PMVK, PYGO2, RUSC1, RUSC1-AS1, SCAMP3, SLC50A1, ZBTB7B | 21 |\n",
       "| chr16:1900082-1900582    | EME2, FAHD1, GFER, HAGH, JPT2, MEIOB, MRPS34, MSRB1, NDUFB10, NME3, NOXO1, NPW, NTHL1, NUBP2, PKD1, RPS2, SNHG9, SYNGR3, TBL3, TSC2, ZNF598                  | 21 |\n",
       "| chr1:155117581-155118081 | ADAM15, CLK2, DCST1-AS1, DCST2, EFNA1, EFNA3, EFNA4, FAM189B, FLAD1, HCN3, KRTCAP2, MTX1, MUC1, PMVK, PYGO2, RUSC1, RUSC1-AS1, SCAMP3, SLC50A1, ZBTB7B       | 20 |\n",
       "| chr16:1935255-1935755    | EME2, FAHD1, GFER, HAGH, MRPS34, MSRB1, NDUFB10, NME3, NOXO1, NTHL1, NUBP2, PKD1, RPS2, SNHG19, SNHG9, SYNGR3, TBL3, TRAF7, TSC2, ZNF598                     | 20 |\n",
       "| chr1:155222900-155223400 | ADAM15, CLK2, DCST1-AS1, DCST2, EFNA1, EFNA3, EFNA4, FAM189B, FLAD1, GBA, HCN3, KRTCAP2, LENEP, MTX1, MUC1, RUSC1, SCAMP3, SLC50A1, ZBTB7B                   | 19 |\n",
       "| chr1:155224624-155225124 | ADAM15, CLK2, DCST1-AS1, DCST2, EFNA1, EFNA3, EFNA4, FAM189B, FLAD1, GBA, HCN3, KRTCAP2, MTX1, MUC1, RUSC1, SCAMP3, SLC50A1, ZBTB7B                          | 18 |\n",
       "\n"
      ],
      "text/plain": [
       "  peakName                \n",
       "1 chr1:155124589-155125089\n",
       "2 chr16:1900082-1900582   \n",
       "3 chr1:155117581-155118081\n",
       "4 chr16:1935255-1935755   \n",
       "5 chr1:155222900-155223400\n",
       "6 chr1:155224624-155225124\n",
       "  genes                                                                                                                                                       \n",
       "1 ADAM15, CLK2, DCST1-AS1, DCST2, DPM3, EFNA1, EFNA3, EFNA4, FAM189B, FLAD1, HCN3, KRTCAP2, MTX1, MUC1, PMVK, PYGO2, RUSC1, RUSC1-AS1, SCAMP3, SLC50A1, ZBTB7B\n",
       "2 EME2, FAHD1, GFER, HAGH, JPT2, MEIOB, MRPS34, MSRB1, NDUFB10, NME3, NOXO1, NPW, NTHL1, NUBP2, PKD1, RPS2, SNHG9, SYNGR3, TBL3, TSC2, ZNF598                 \n",
       "3 ADAM15, CLK2, DCST1-AS1, DCST2, EFNA1, EFNA3, EFNA4, FAM189B, FLAD1, HCN3, KRTCAP2, MTX1, MUC1, PMVK, PYGO2, RUSC1, RUSC1-AS1, SCAMP3, SLC50A1, ZBTB7B      \n",
       "4 EME2, FAHD1, GFER, HAGH, MRPS34, MSRB1, NDUFB10, NME3, NOXO1, NTHL1, NUBP2, PKD1, RPS2, SNHG19, SNHG9, SYNGR3, TBL3, TRAF7, TSC2, ZNF598                    \n",
       "5 ADAM15, CLK2, DCST1-AS1, DCST2, EFNA1, EFNA3, EFNA4, FAM189B, FLAD1, GBA, HCN3, KRTCAP2, LENEP, MTX1, MUC1, RUSC1, SCAMP3, SLC50A1, ZBTB7B                  \n",
       "6 ADAM15, CLK2, DCST1-AS1, DCST2, EFNA1, EFNA3, EFNA4, FAM189B, FLAD1, GBA, HCN3, KRTCAP2, MTX1, MUC1, RUSC1, SCAMP3, SLC50A1, ZBTB7B                         \n",
       "  n \n",
       "1 21\n",
       "2 21\n",
       "3 20\n",
       "4 20\n",
       "5 19\n",
       "6 18"
      ]
     },
     "metadata": {},
     "output_type": "display_data"
    },
    {
     "data": {
      "text/html": [
       "<table class=\"dataframe\">\n",
       "<caption>A tibble: 6 × 3</caption>\n",
       "<thead>\n",
       "\t<tr><th scope=col>peakName</th><th scope=col>genes</th><th scope=col>n</th></tr>\n",
       "\t<tr><th scope=col>&lt;chr&gt;</th><th scope=col>&lt;chr&gt;</th><th scope=col>&lt;int&gt;</th></tr>\n",
       "</thead>\n",
       "<tbody>\n",
       "\t<tr><td>chrX:56920258-56920758</td><td>SPIN3  </td><td>1</td></tr>\n",
       "\t<tr><td>chrX:56946147-56946647</td><td>SPIN3  </td><td>1</td></tr>\n",
       "\t<tr><td>chrX:57643615-57644115</td><td>NLRP2B </td><td>1</td></tr>\n",
       "\t<tr><td>chrX:68489963-68490463</td><td>YIPF6  </td><td>1</td></tr>\n",
       "\t<tr><td>chrX:74382625-74383125</td><td>SLC16A2</td><td>1</td></tr>\n",
       "\t<tr><td>chrX:8067709-8068209  </td><td>PNPLA4 </td><td>1</td></tr>\n",
       "</tbody>\n",
       "</table>\n"
      ],
      "text/latex": [
       "A tibble: 6 × 3\n",
       "\\begin{tabular}{lll}\n",
       " peakName & genes & n\\\\\n",
       " <chr> & <chr> & <int>\\\\\n",
       "\\hline\n",
       "\t chrX:56920258-56920758 & SPIN3   & 1\\\\\n",
       "\t chrX:56946147-56946647 & SPIN3   & 1\\\\\n",
       "\t chrX:57643615-57644115 & NLRP2B  & 1\\\\\n",
       "\t chrX:68489963-68490463 & YIPF6   & 1\\\\\n",
       "\t chrX:74382625-74383125 & SLC16A2 & 1\\\\\n",
       "\t chrX:8067709-8068209   & PNPLA4  & 1\\\\\n",
       "\\end{tabular}\n"
      ],
      "text/markdown": [
       "\n",
       "A tibble: 6 × 3\n",
       "\n",
       "| peakName &lt;chr&gt; | genes &lt;chr&gt; | n &lt;int&gt; |\n",
       "|---|---|---|\n",
       "| chrX:56920258-56920758 | SPIN3   | 1 |\n",
       "| chrX:56946147-56946647 | SPIN3   | 1 |\n",
       "| chrX:57643615-57644115 | NLRP2B  | 1 |\n",
       "| chrX:68489963-68490463 | YIPF6   | 1 |\n",
       "| chrX:74382625-74383125 | SLC16A2 | 1 |\n",
       "| chrX:8067709-8068209   | PNPLA4  | 1 |\n",
       "\n"
      ],
      "text/plain": [
       "  peakName               genes   n\n",
       "1 chrX:56920258-56920758 SPIN3   1\n",
       "2 chrX:56946147-56946647 SPIN3   1\n",
       "3 chrX:57643615-57644115 NLRP2B  1\n",
       "4 chrX:68489963-68490463 YIPF6   1\n",
       "5 chrX:74382625-74383125 SLC16A2 1\n",
       "6 chrX:8067709-8068209   PNPLA4  1"
      ]
     },
     "metadata": {},
     "output_type": "display_data"
    },
    {
     "data": {
      "text/html": [
       "<style>\n",
       ".list-inline {list-style: none; margin:0; padding: 0}\n",
       ".list-inline>li {display: inline-block}\n",
       ".list-inline>li:not(:last-child)::after {content: \"\\00b7\"; padding: 0 .5ex}\n",
       "</style>\n",
       "<ol class=list-inline><li>6790</li><li>3</li></ol>\n"
      ],
      "text/latex": [
       "\\begin{enumerate*}\n",
       "\\item 6790\n",
       "\\item 3\n",
       "\\end{enumerate*}\n"
      ],
      "text/markdown": [
       "1. 6790\n",
       "2. 3\n",
       "\n",
       "\n"
      ],
      "text/plain": [
       "[1] 6790    3"
      ]
     },
     "metadata": {},
     "output_type": "display_data"
    },
    {
     "data": {
      "text/html": [
       "15275"
      ],
      "text/latex": [
       "15275"
      ],
      "text/markdown": [
       "15275"
      ],
      "text/plain": [
       "[1] 15275"
      ]
     },
     "metadata": {},
     "output_type": "display_data"
    },
    {
     "data": {
      "text/html": [
       "2.24963181148748"
      ],
      "text/latex": [
       "2.24963181148748"
      ],
      "text/markdown": [
       "2.24963181148748"
      ],
      "text/plain": [
       "[1] 2.249632"
      ]
     },
     "metadata": {},
     "output_type": "display_data"
    }
   ],
   "source": [
    "dim(df_p2g_epi)\n",
    "\n",
    "n_peaks_epi <- dim(df_p2g_epi)[1]\n",
    "cat(sprintf(\"# peaks for %s: %d\\n\", group1, n_peaks_epi))\n",
    "\n",
    "n_upeaks_epi <- length(unique(df_p2g_epi$peakName))\n",
    "n_ugenes_epi <- length(unique(df_p2g_epi$geneName))\n",
    "cat(sprintf(\"# unique peaks for %s: %d\\n\", group1, n_upeaks_epi))\n",
    "cat(sprintf(\"# unique genes for %s: %d\\n\", group1, n_ugenes_epi))\n",
    "\n",
    "df_summary <- df_p2g_epi %>% group_by(peakName) %>% dplyr::count(geneName)\n",
    "df_summary <- df_summary[order(df_summary$n, decreasing=T),]\n",
    "head(df_summary)\n",
    "dim(df_summary)\n",
    "\n",
    "df_summary <- df_p2g_epi %>% group_by(peakName) %>% \n",
    "                    dplyr::summarise(genes=paste(sort(unique(geneName)), collapse=\", \"),\n",
    "                                     n = n_distinct(geneName))\n",
    "df_summary.epi <- df_summary[order(df_summary$n, decreasing=T),]\n",
    "head(df_summary.epi)\n",
    "tail(df_summary.epi)\n",
    "dim(df_summary.epi)\n",
    "sum(df_summary.epi$n)\n",
    "mean(df_summary.epi$n)\n"
   ]
  },
  {
   "cell_type": "markdown",
   "id": "948f88ad",
   "metadata": {},
   "source": [
    "#### df_summary.normal"
   ]
  },
  {
   "cell_type": "code",
   "execution_count": 18,
   "id": "e87c59aa",
   "metadata": {},
   "outputs": [
    {
     "data": {
      "text/html": [
       "<style>\n",
       ".list-inline {list-style: none; margin:0; padding: 0}\n",
       ".list-inline>li {display: inline-block}\n",
       ".list-inline>li:not(:last-child)::after {content: \"\\00b7\"; padding: 0 .5ex}\n",
       "</style>\n",
       "<ol class=list-inline><li>7594</li><li>13</li></ol>\n"
      ],
      "text/latex": [
       "\\begin{enumerate*}\n",
       "\\item 7594\n",
       "\\item 13\n",
       "\\end{enumerate*}\n"
      ],
      "text/markdown": [
       "1. 7594\n",
       "2. 13\n",
       "\n",
       "\n"
      ],
      "text/plain": [
       "[1] 7594   13"
      ]
     },
     "metadata": {},
     "output_type": "display_data"
    },
    {
     "name": "stdout",
     "output_type": "stream",
     "text": [
      "# peaks for non-Epi.: 7594\n",
      "# unique peaks for non-Epi.: 4929\n",
      "# unique genes for non-Epi.: 3551\n"
     ]
    },
    {
     "data": {
      "text/html": [
       "<table class=\"dataframe\">\n",
       "<caption>A grouped_df: 6 × 3</caption>\n",
       "<thead>\n",
       "\t<tr><th scope=col>peakName</th><th scope=col>geneName</th><th scope=col>n</th></tr>\n",
       "\t<tr><th scope=col>&lt;chr&gt;</th><th scope=col>&lt;chr&gt;</th><th scope=col>&lt;int&gt;</th></tr>\n",
       "</thead>\n",
       "<tbody>\n",
       "\t<tr><td>chr1:100292596-100293096</td><td>CDC14A</td><td>1</td></tr>\n",
       "\t<tr><td>chr1:100621997-100622497</td><td>VCAM1 </td><td>1</td></tr>\n",
       "\t<tr><td>chr1:101111990-101112490</td><td>S1PR1 </td><td>1</td></tr>\n",
       "\t<tr><td>chr1:101161496-101161996</td><td>S1PR1 </td><td>1</td></tr>\n",
       "\t<tr><td>chr1:101181920-101182420</td><td>S1PR1 </td><td>1</td></tr>\n",
       "\t<tr><td>chr1:101242272-101242772</td><td>S1PR1 </td><td>1</td></tr>\n",
       "</tbody>\n",
       "</table>\n"
      ],
      "text/latex": [
       "A grouped\\_df: 6 × 3\n",
       "\\begin{tabular}{lll}\n",
       " peakName & geneName & n\\\\\n",
       " <chr> & <chr> & <int>\\\\\n",
       "\\hline\n",
       "\t chr1:100292596-100293096 & CDC14A & 1\\\\\n",
       "\t chr1:100621997-100622497 & VCAM1  & 1\\\\\n",
       "\t chr1:101111990-101112490 & S1PR1  & 1\\\\\n",
       "\t chr1:101161496-101161996 & S1PR1  & 1\\\\\n",
       "\t chr1:101181920-101182420 & S1PR1  & 1\\\\\n",
       "\t chr1:101242272-101242772 & S1PR1  & 1\\\\\n",
       "\\end{tabular}\n"
      ],
      "text/markdown": [
       "\n",
       "A grouped_df: 6 × 3\n",
       "\n",
       "| peakName &lt;chr&gt; | geneName &lt;chr&gt; | n &lt;int&gt; |\n",
       "|---|---|---|\n",
       "| chr1:100292596-100293096 | CDC14A | 1 |\n",
       "| chr1:100621997-100622497 | VCAM1  | 1 |\n",
       "| chr1:101111990-101112490 | S1PR1  | 1 |\n",
       "| chr1:101161496-101161996 | S1PR1  | 1 |\n",
       "| chr1:101181920-101182420 | S1PR1  | 1 |\n",
       "| chr1:101242272-101242772 | S1PR1  | 1 |\n",
       "\n"
      ],
      "text/plain": [
       "  peakName                 geneName n\n",
       "1 chr1:100292596-100293096 CDC14A   1\n",
       "2 chr1:100621997-100622497 VCAM1    1\n",
       "3 chr1:101111990-101112490 S1PR1    1\n",
       "4 chr1:101161496-101161996 S1PR1    1\n",
       "5 chr1:101181920-101182420 S1PR1    1\n",
       "6 chr1:101242272-101242772 S1PR1    1"
      ]
     },
     "metadata": {},
     "output_type": "display_data"
    },
    {
     "data": {
      "text/html": [
       "<style>\n",
       ".list-inline {list-style: none; margin:0; padding: 0}\n",
       ".list-inline>li {display: inline-block}\n",
       ".list-inline>li:not(:last-child)::after {content: \"\\00b7\"; padding: 0 .5ex}\n",
       "</style>\n",
       "<ol class=list-inline><li>7594</li><li>3</li></ol>\n"
      ],
      "text/latex": [
       "\\begin{enumerate*}\n",
       "\\item 7594\n",
       "\\item 3\n",
       "\\end{enumerate*}\n"
      ],
      "text/markdown": [
       "1. 7594\n",
       "2. 3\n",
       "\n",
       "\n"
      ],
      "text/plain": [
       "[1] 7594    3"
      ]
     },
     "metadata": {},
     "output_type": "display_data"
    },
    {
     "data": {
      "text/html": [
       "<table class=\"dataframe\">\n",
       "<caption>A tibble: 6 × 3</caption>\n",
       "<thead>\n",
       "\t<tr><th scope=col>peakName</th><th scope=col>genes</th><th scope=col>n</th></tr>\n",
       "\t<tr><th scope=col>&lt;chr&gt;</th><th scope=col>&lt;chr&gt;</th><th scope=col>&lt;int&gt;</th></tr>\n",
       "</thead>\n",
       "<tbody>\n",
       "\t<tr><td>chr6:30500589-30501089  </td><td>ABCF1, ATAT1, C6orf136, DHX16, GNL1, HLA-E, MDC1, PPP1R18, TRIM39          </td><td>9</td></tr>\n",
       "\t<tr><td>chr11:64331686-64332186 </td><td>CCDC88B, DNAJC4, FERMT3, NUDT22, PLCB3, PRDX5, TRMT112, TRPT1              </td><td>8</td></tr>\n",
       "\t<tr><td>chr6:32794409-32794909  </td><td>HLA-DMA, HLA-DMB, HLA-DOA, HLA-DQA1, HLA-DQA2, HLA-DQB1, HLA-DQB2, HLA-DRB1</td><td>8</td></tr>\n",
       "\t<tr><td>chr9:136642306-136642806</td><td>CCDC183, EGFL7, INPP5E, LCN6, NOTCH1, RABL6, SEC16A, TRAF2                 </td><td>8</td></tr>\n",
       "\t<tr><td>chr9:136644791-136645291</td><td>CCDC183, EGFL7, INPP5E, LCN6, NOTCH1, RABL6, SEC16A, TRAF2                 </td><td>8</td></tr>\n",
       "\t<tr><td>chr9:136646343-136646843</td><td>CCDC183, EGFL7, INPP5E, LCN6, NOTCH1, RABL6, SEC16A, TRAF2                 </td><td>8</td></tr>\n",
       "</tbody>\n",
       "</table>\n"
      ],
      "text/latex": [
       "A tibble: 6 × 3\n",
       "\\begin{tabular}{lll}\n",
       " peakName & genes & n\\\\\n",
       " <chr> & <chr> & <int>\\\\\n",
       "\\hline\n",
       "\t chr6:30500589-30501089   & ABCF1, ATAT1, C6orf136, DHX16, GNL1, HLA-E, MDC1, PPP1R18, TRIM39           & 9\\\\\n",
       "\t chr11:64331686-64332186  & CCDC88B, DNAJC4, FERMT3, NUDT22, PLCB3, PRDX5, TRMT112, TRPT1               & 8\\\\\n",
       "\t chr6:32794409-32794909   & HLA-DMA, HLA-DMB, HLA-DOA, HLA-DQA1, HLA-DQA2, HLA-DQB1, HLA-DQB2, HLA-DRB1 & 8\\\\\n",
       "\t chr9:136642306-136642806 & CCDC183, EGFL7, INPP5E, LCN6, NOTCH1, RABL6, SEC16A, TRAF2                  & 8\\\\\n",
       "\t chr9:136644791-136645291 & CCDC183, EGFL7, INPP5E, LCN6, NOTCH1, RABL6, SEC16A, TRAF2                  & 8\\\\\n",
       "\t chr9:136646343-136646843 & CCDC183, EGFL7, INPP5E, LCN6, NOTCH1, RABL6, SEC16A, TRAF2                  & 8\\\\\n",
       "\\end{tabular}\n"
      ],
      "text/markdown": [
       "\n",
       "A tibble: 6 × 3\n",
       "\n",
       "| peakName &lt;chr&gt; | genes &lt;chr&gt; | n &lt;int&gt; |\n",
       "|---|---|---|\n",
       "| chr6:30500589-30501089   | ABCF1, ATAT1, C6orf136, DHX16, GNL1, HLA-E, MDC1, PPP1R18, TRIM39           | 9 |\n",
       "| chr11:64331686-64332186  | CCDC88B, DNAJC4, FERMT3, NUDT22, PLCB3, PRDX5, TRMT112, TRPT1               | 8 |\n",
       "| chr6:32794409-32794909   | HLA-DMA, HLA-DMB, HLA-DOA, HLA-DQA1, HLA-DQA2, HLA-DQB1, HLA-DQB2, HLA-DRB1 | 8 |\n",
       "| chr9:136642306-136642806 | CCDC183, EGFL7, INPP5E, LCN6, NOTCH1, RABL6, SEC16A, TRAF2                  | 8 |\n",
       "| chr9:136644791-136645291 | CCDC183, EGFL7, INPP5E, LCN6, NOTCH1, RABL6, SEC16A, TRAF2                  | 8 |\n",
       "| chr9:136646343-136646843 | CCDC183, EGFL7, INPP5E, LCN6, NOTCH1, RABL6, SEC16A, TRAF2                  | 8 |\n",
       "\n"
      ],
      "text/plain": [
       "  peakName                \n",
       "1 chr6:30500589-30501089  \n",
       "2 chr11:64331686-64332186 \n",
       "3 chr6:32794409-32794909  \n",
       "4 chr9:136642306-136642806\n",
       "5 chr9:136644791-136645291\n",
       "6 chr9:136646343-136646843\n",
       "  genes                                                                       n\n",
       "1 ABCF1, ATAT1, C6orf136, DHX16, GNL1, HLA-E, MDC1, PPP1R18, TRIM39           9\n",
       "2 CCDC88B, DNAJC4, FERMT3, NUDT22, PLCB3, PRDX5, TRMT112, TRPT1               8\n",
       "3 HLA-DMA, HLA-DMB, HLA-DOA, HLA-DQA1, HLA-DQA2, HLA-DQB1, HLA-DQB2, HLA-DRB1 8\n",
       "4 CCDC183, EGFL7, INPP5E, LCN6, NOTCH1, RABL6, SEC16A, TRAF2                  8\n",
       "5 CCDC183, EGFL7, INPP5E, LCN6, NOTCH1, RABL6, SEC16A, TRAF2                  8\n",
       "6 CCDC183, EGFL7, INPP5E, LCN6, NOTCH1, RABL6, SEC16A, TRAF2                  8"
      ]
     },
     "metadata": {},
     "output_type": "display_data"
    },
    {
     "data": {
      "text/html": [
       "<table class=\"dataframe\">\n",
       "<caption>A tibble: 6 × 3</caption>\n",
       "<thead>\n",
       "\t<tr><th scope=col>peakName</th><th scope=col>genes</th><th scope=col>n</th></tr>\n",
       "\t<tr><th scope=col>&lt;chr&gt;</th><th scope=col>&lt;chr&gt;</th><th scope=col>&lt;int&gt;</th></tr>\n",
       "</thead>\n",
       "<tbody>\n",
       "\t<tr><td>chrX:48487219-48487719</td><td>SLC38A5</td><td>1</td></tr>\n",
       "\t<tr><td>chrX:50838826-50839326</td><td>SHROOM4</td><td>1</td></tr>\n",
       "\t<tr><td>chrX:68894918-68895418</td><td>STARD8 </td><td>1</td></tr>\n",
       "\t<tr><td>chrX:71871303-71871803</td><td>NHSL2  </td><td>1</td></tr>\n",
       "\t<tr><td>chrX:96436073-96436573</td><td>DIAPH2 </td><td>1</td></tr>\n",
       "\t<tr><td>chrX:96564612-96565112</td><td>DIAPH2 </td><td>1</td></tr>\n",
       "</tbody>\n",
       "</table>\n"
      ],
      "text/latex": [
       "A tibble: 6 × 3\n",
       "\\begin{tabular}{lll}\n",
       " peakName & genes & n\\\\\n",
       " <chr> & <chr> & <int>\\\\\n",
       "\\hline\n",
       "\t chrX:48487219-48487719 & SLC38A5 & 1\\\\\n",
       "\t chrX:50838826-50839326 & SHROOM4 & 1\\\\\n",
       "\t chrX:68894918-68895418 & STARD8  & 1\\\\\n",
       "\t chrX:71871303-71871803 & NHSL2   & 1\\\\\n",
       "\t chrX:96436073-96436573 & DIAPH2  & 1\\\\\n",
       "\t chrX:96564612-96565112 & DIAPH2  & 1\\\\\n",
       "\\end{tabular}\n"
      ],
      "text/markdown": [
       "\n",
       "A tibble: 6 × 3\n",
       "\n",
       "| peakName &lt;chr&gt; | genes &lt;chr&gt; | n &lt;int&gt; |\n",
       "|---|---|---|\n",
       "| chrX:48487219-48487719 | SLC38A5 | 1 |\n",
       "| chrX:50838826-50839326 | SHROOM4 | 1 |\n",
       "| chrX:68894918-68895418 | STARD8  | 1 |\n",
       "| chrX:71871303-71871803 | NHSL2   | 1 |\n",
       "| chrX:96436073-96436573 | DIAPH2  | 1 |\n",
       "| chrX:96564612-96565112 | DIAPH2  | 1 |\n",
       "\n"
      ],
      "text/plain": [
       "  peakName               genes   n\n",
       "1 chrX:48487219-48487719 SLC38A5 1\n",
       "2 chrX:50838826-50839326 SHROOM4 1\n",
       "3 chrX:68894918-68895418 STARD8  1\n",
       "4 chrX:71871303-71871803 NHSL2   1\n",
       "5 chrX:96436073-96436573 DIAPH2  1\n",
       "6 chrX:96564612-96565112 DIAPH2  1"
      ]
     },
     "metadata": {},
     "output_type": "display_data"
    },
    {
     "data": {
      "text/html": [
       "<style>\n",
       ".list-inline {list-style: none; margin:0; padding: 0}\n",
       ".list-inline>li {display: inline-block}\n",
       ".list-inline>li:not(:last-child)::after {content: \"\\00b7\"; padding: 0 .5ex}\n",
       "</style>\n",
       "<ol class=list-inline><li>4929</li><li>3</li></ol>\n"
      ],
      "text/latex": [
       "\\begin{enumerate*}\n",
       "\\item 4929\n",
       "\\item 3\n",
       "\\end{enumerate*}\n"
      ],
      "text/markdown": [
       "1. 4929\n",
       "2. 3\n",
       "\n",
       "\n"
      ],
      "text/plain": [
       "[1] 4929    3"
      ]
     },
     "metadata": {},
     "output_type": "display_data"
    },
    {
     "data": {
      "text/html": [
       "7594"
      ],
      "text/latex": [
       "7594"
      ],
      "text/markdown": [
       "7594"
      ],
      "text/plain": [
       "[1] 7594"
      ]
     },
     "metadata": {},
     "output_type": "display_data"
    },
    {
     "data": {
      "text/html": [
       "1.54067762223575"
      ],
      "text/latex": [
       "1.54067762223575"
      ],
      "text/markdown": [
       "1.54067762223575"
      ],
      "text/plain": [
       "[1] 1.540678"
      ]
     },
     "metadata": {},
     "output_type": "display_data"
    }
   ],
   "source": [
    "dim(df_p2g_normal)\n",
    "\n",
    "n_peaks_normal <- dim(df_p2g_normal)[1]\n",
    "cat(sprintf(\"# peaks for %s: %d\\n\", group_ref, n_peaks_normal))\n",
    "\n",
    "n_upeaks_normal <- length(unique(df_p2g_normal$peakName))\n",
    "n_ugenes_normal <- length(unique(df_p2g_normal$geneName))\n",
    "cat(sprintf(\"# unique peaks for %s: %d\\n\", group_ref, n_upeaks_normal))\n",
    "cat(sprintf(\"# unique genes for %s: %d\\n\", group_ref, n_ugenes_normal))\n",
    "\n",
    "df_summary <- df_p2g_normal %>% group_by(peakName) %>% dplyr::count(geneName)\n",
    "df_summary <- df_summary[order(df_summary$n, decreasing=T),]\n",
    "head(df_summary)\n",
    "dim(df_summary)\n",
    "\n",
    "df_summary <- df_p2g_normal %>% group_by(peakName) %>% \n",
    "                    dplyr::summarise(genes=paste(sort(unique(geneName)), collapse=\", \"),\n",
    "                                     n = n_distinct(geneName))\n",
    "df_summary.normal <- df_summary[order(df_summary$n, decreasing=T),]\n",
    "head(df_summary.normal)\n",
    "tail(df_summary.normal)\n",
    "dim(df_summary.normal)\n",
    "sum(df_summary.normal$n)\n",
    "mean(df_summary.normal$n)\n"
   ]
  },
  {
   "cell_type": "markdown",
   "id": "6a3d7181",
   "metadata": {},
   "source": [
    "#### print"
   ]
  },
  {
   "cell_type": "code",
   "execution_count": 19,
   "id": "d5dd1cef",
   "metadata": {},
   "outputs": [
    {
     "data": {
      "text/html": [
       "<table class=\"dataframe\">\n",
       "<caption>A data.frame: 2 × 2</caption>\n",
       "<thead>\n",
       "\t<tr><th scope=col>type_normal_cancer</th><th scope=col>geneCount</th></tr>\n",
       "\t<tr><th scope=col>&lt;fct&gt;</th><th scope=col>&lt;dbl&gt;</th></tr>\n",
       "</thead>\n",
       "<tbody>\n",
       "\t<tr><td>non-Epi.</td><td>1.540678</td></tr>\n",
       "\t<tr><td>Epi.    </td><td>2.249632</td></tr>\n",
       "</tbody>\n",
       "</table>\n"
      ],
      "text/latex": [
       "A data.frame: 2 × 2\n",
       "\\begin{tabular}{ll}\n",
       " type\\_normal\\_cancer & geneCount\\\\\n",
       " <fct> & <dbl>\\\\\n",
       "\\hline\n",
       "\t non-Epi. & 1.540678\\\\\n",
       "\t Epi.     & 2.249632\\\\\n",
       "\\end{tabular}\n"
      ],
      "text/markdown": [
       "\n",
       "A data.frame: 2 × 2\n",
       "\n",
       "| type_normal_cancer &lt;fct&gt; | geneCount &lt;dbl&gt; |\n",
       "|---|---|\n",
       "| non-Epi. | 1.540678 |\n",
       "| Epi.     | 2.249632 |\n",
       "\n"
      ],
      "text/plain": [
       "  type_normal_cancer geneCount\n",
       "1 non-Epi.           1.540678 \n",
       "2 Epi.               2.249632 "
      ]
     },
     "metadata": {},
     "output_type": "display_data"
    },
    {
     "data": {
      "image/png": "[encoded data removed]",
      "text/plain": [
       "plot without title"
      ]
     },
     "metadata": {
      "image/png": {
       "height": 240,
       "width": 180
      }
     },
     "output_type": "display_data"
    }
   ],
   "source": [
    "\n",
    "df_g <- data.frame(type_normal_cancer=factor(c(group_ref, group1), levels=c(group_ref, group1)),\n",
    "            geneCount=c(\n",
    "                mean(df_summary.normal$n),\n",
    "                mean(df_summary.epi$n)\n",
    "            ))\n",
    "\n",
    "df_g\n",
    "\n",
    "str_condition_plot <- sprintf(\"%s_%s-vs-%s_ngenes_linked_per_peak%s\", str_condition,\n",
    "                              group_ref, group1, filename_appendix)\n",
    "gg <- print_ggpubr(df_g,\n",
    "            x = \"type_normal_cancer\", y = \"geneCount\",\n",
    "            color = \"type_normal_cancer\", \n",
    "            fill = \"type_normal_cancer\", \n",
    "            order_x = c(group_ref, group1),\n",
    "            facet.by = NULL, facet.ncol = 5,\n",
    "            plot_type = \"barplot\",\n",
    "            #list_comparison = list(c(\"Normal\", \"Cancer\")),\n",
    "            #symnum.args = NULL,\n",
    "            step.increase = 0.03, label.y = 2.75, vjust = -0.4, tip.length = c(0.05, 0.05),\n",
    "            test = NULL, test_label.x = 1, test_label.y = 1, test_vjust = 0.5,\n",
    "            color_manual = nv_colors_normal_cancer,\n",
    "            fill_manual = nv_colors_normal_cancer,\n",
    "            ylimits = c(0, 2.5),\n",
    "            ybreaks = pretty(c(0, 2.5), n = 3),\n",
    "            yexpand = c(0.1, 0.1),\n",
    "            yintercept = NULL,\n",
    "            xlim = NULL, ylim = NULL,\n",
    "            xlab = \"\", ylab = \"# of linked genes per peak\",\n",
    "            angle = 0, font_size = 13,\n",
    "            width = 3, height = 4,\n",
    "            str_condition_plot = str_condition_plot,\n",
    "            n_log = 0)\n"
   ]
  },
  {
   "cell_type": "code",
   "execution_count": null,
   "id": "8bc6701a",
   "metadata": {},
   "outputs": [],
   "source": []
  }
 ],
 "metadata": {
  "kernelspec": {
   "display_name": "R 4.1.2",
   "language": "R",
   "name": "r4.1.2"
  },
  "language_info": {
   "codemirror_mode": "r",
   "file_extension": ".r",
   "mimetype": "text/x-r-source",
   "name": "R",
   "pygments_lexer": "r",
   "version": "4.1.2"
  },
  "toc": {
   "base_numbering": 1,
   "nav_menu": {},
   "number_sections": true,
   "sideBar": true,
   "skip_h1_title": false,
   "title_cell": "Table of Contents",
   "title_sidebar": "Contents",
   "toc_cell": false,
   "toc_position": {
    "height": "calc(100% - 180px)",
    "left": "10px",
    "top": "150px",
    "width": "190.594px"
   },
   "toc_section_display": true,
   "toc_window_display": true
  }
 },
 "nbformat": 4,
 "nbformat_minor": 5
}
