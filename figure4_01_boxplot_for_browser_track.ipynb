{
 "cells": [
  {
   "cell_type": "markdown",
   "id": "f42aca45",
   "metadata": {},
   "source": [
    "# load library"
   ]
  },
  {
   "cell_type": "code",
   "execution_count": 1,
   "id": "3923e930",
   "metadata": {},
   "outputs": [],
   "source": [
    "source(\"r/jupyter_common.R\")\n",
    "\n",
    "source(\"r/enrichment_analysis.R\")\n",
    "source(\"r/find_markers.R\")\n",
    "source(\"r/identify_cell_types.R\")\n",
    "source(\"r/plot_sc_clusters.R\")\n"
   ]
  },
  {
   "cell_type": "code",
   "execution_count": 2,
   "id": "076042f0",
   "metadata": {
    "scrolled": false
   },
   "outputs": [],
   "source": [
    "# data structure\n",
    "suppressPackageStartupMessages(library(data.table))\n",
    "\n",
    "# scRNA-seq\n",
    "suppressPackageStartupMessages(library(Seurat))\n"
   ]
  },
  {
   "cell_type": "markdown",
   "id": "9945ecc0",
   "metadata": {},
   "source": [
    "# parameters"
   ]
  },
  {
   "cell_type": "code",
   "execution_count": 3,
   "id": "13a1e10d",
   "metadata": {},
   "outputs": [],
   "source": [
    "col_cluster_types <- \"cluster.type.harmony\"\n",
    "str_column_of_meta_data_cluster <- \"RNA_harmony_th.0\"\n",
    "str_umap_reduction <- \"umapharmony\"\n",
    "\n",
    "figure_format <- \"pdf\"\n"
   ]
  },
  {
   "cell_type": "markdown",
   "id": "589fe403",
   "metadata": {},
   "source": [
    "# read scRNA-seq"
   ]
  },
  {
   "cell_type": "code",
   "execution_count": 4,
   "id": "d5f0426d",
   "metadata": {},
   "outputs": [],
   "source": [
    "cancer_type <- \"male-bc\"\n",
    "\n",
    "dir_rna <- \"/home/hkim77/francolab.w/sc-rna-seq/male-bc/run-20220725\"\n",
    "fname_rna <- sprintf(\"%s/output_male-bc/rds_%s/male-bc_sc-rna-seq_merged_seurat_obj.rds\",\n",
    "                     dir_rna, cancer_type)\n",
    "\n",
    "rna <- readRDS(fname_rna)\n",
    "\n"
   ]
  },
  {
   "cell_type": "markdown",
   "id": "6aee4999",
   "metadata": {},
   "source": [
    "https://mojaveazure.github.io/seurat-object/reference/Seurat-methods.html\n",
    "\n",
    "dim: The number of features (nrow) and cells (ncol) for the default assay; note: while the number of features changes depending on the active assay, the number of cells remains the same across all assays\n"
   ]
  },
  {
   "cell_type": "markdown",
   "id": "d06395fc",
   "metadata": {},
   "source": [
    "## list_sort_atac"
   ]
  },
  {
   "cell_type": "code",
   "execution_count": 5,
   "id": "c695a084",
   "metadata": {},
   "outputs": [
    {
     "data": {
      "text/html": [
       "<table class=\"dataframe\">\n",
       "<caption>A data.frame: 2 × 20</caption>\n",
       "<thead>\n",
       "\t<tr><th scope=col>Sample</th><th scope=col>NA</th><th scope=col>Adipocytes</th><th scope=col>CD4+ T-cells</th><th scope=col>CD8+ T-cells</th><th scope=col>Chondrocytes</th><th scope=col>DCs</th><th scope=col>Endothelial cells</th><th scope=col>Epi. Non-tumor</th><th scope=col>Epi. Tumor</th><th scope=col>Epi. Unassigned</th><th scope=col>Fibroblasts</th><th scope=col>HSC</th><th scope=col>Macrophages</th><th scope=col>Mast cells</th><th scope=col>Mesangial cells</th><th scope=col>Monocytes</th><th scope=col>Myocytes</th><th scope=col>Pericytes</th><th scope=col>Smooth muscle</th></tr>\n",
       "\t<tr><th scope=col>&lt;chr&gt;</th><th scope=col>&lt;int&gt;</th><th scope=col>&lt;int&gt;</th><th scope=col>&lt;int&gt;</th><th scope=col>&lt;int&gt;</th><th scope=col>&lt;int&gt;</th><th scope=col>&lt;int&gt;</th><th scope=col>&lt;int&gt;</th><th scope=col>&lt;int&gt;</th><th scope=col>&lt;int&gt;</th><th scope=col>&lt;int&gt;</th><th scope=col>&lt;int&gt;</th><th scope=col>&lt;int&gt;</th><th scope=col>&lt;int&gt;</th><th scope=col>&lt;int&gt;</th><th scope=col>&lt;int&gt;</th><th scope=col>&lt;int&gt;</th><th scope=col>&lt;int&gt;</th><th scope=col>&lt;int&gt;</th><th scope=col>&lt;int&gt;</th></tr>\n",
       "</thead>\n",
       "<tbody>\n",
       "\t<tr><td>446B7L</td><td> 7</td><td>30</td><td>NA</td><td>1</td><td> 1</td><td> 4</td><td>1306</td><td>164</td><td>1647</td><td>1865</td><td>502</td><td>NA</td><td>41</td><td>NA</td><td>2</td><td>4</td><td> 9</td><td> 1</td><td>NA</td></tr>\n",
       "\t<tr><td>4CC61L</td><td>13</td><td> 2</td><td> 1</td><td>4</td><td>22</td><td>26</td><td>   2</td><td> NA</td><td>2648</td><td>  31</td><td>503</td><td> 1</td><td>95</td><td> 2</td><td>1</td><td>5</td><td>NA</td><td>NA</td><td> 1</td></tr>\n",
       "</tbody>\n",
       "</table>\n"
      ],
      "text/latex": [
       "A data.frame: 2 × 20\n",
       "\\begin{tabular}{llllllllllllllllllll}\n",
       " Sample & NA & Adipocytes & CD4+ T-cells & CD8+ T-cells & Chondrocytes & DCs & Endothelial cells & Epi. Non-tumor & Epi. Tumor & Epi. Unassigned & Fibroblasts & HSC & Macrophages & Mast cells & Mesangial cells & Monocytes & Myocytes & Pericytes & Smooth muscle\\\\\n",
       " <chr> & <int> & <int> & <int> & <int> & <int> & <int> & <int> & <int> & <int> & <int> & <int> & <int> & <int> & <int> & <int> & <int> & <int> & <int> & <int>\\\\\n",
       "\\hline\n",
       "\t 446B7L &  7 & 30 & NA & 1 &  1 &  4 & 1306 & 164 & 1647 & 1865 & 502 & NA & 41 & NA & 2 & 4 &  9 &  1 & NA\\\\\n",
       "\t 4CC61L & 13 &  2 &  1 & 4 & 22 & 26 &    2 &  NA & 2648 &   31 & 503 &  1 & 95 &  2 & 1 & 5 & NA & NA &  1\\\\\n",
       "\\end{tabular}\n"
      ],
      "text/markdown": [
       "\n",
       "A data.frame: 2 × 20\n",
       "\n",
       "| Sample &lt;chr&gt; | NA &lt;int&gt; | Adipocytes &lt;int&gt; | CD4+ T-cells &lt;int&gt; | CD8+ T-cells &lt;int&gt; | Chondrocytes &lt;int&gt; | DCs &lt;int&gt; | Endothelial cells &lt;int&gt; | Epi. Non-tumor &lt;int&gt; | Epi. Tumor &lt;int&gt; | Epi. Unassigned &lt;int&gt; | Fibroblasts &lt;int&gt; | HSC &lt;int&gt; | Macrophages &lt;int&gt; | Mast cells &lt;int&gt; | Mesangial cells &lt;int&gt; | Monocytes &lt;int&gt; | Myocytes &lt;int&gt; | Pericytes &lt;int&gt; | Smooth muscle &lt;int&gt; |\n",
       "|---|---|---|---|---|---|---|---|---|---|---|---|---|---|---|---|---|---|---|---|\n",
       "| 446B7L |  7 | 30 | NA | 1 |  1 |  4 | 1306 | 164 | 1647 | 1865 | 502 | NA | 41 | NA | 2 | 4 |  9 |  1 | NA |\n",
       "| 4CC61L | 13 |  2 |  1 | 4 | 22 | 26 |    2 |  NA | 2648 |   31 | 503 |  1 | 95 |  2 | 1 | 5 | NA | NA |  1 |\n",
       "\n"
      ],
      "text/plain": [
       "  Sample NA Adipocytes CD4+ T-cells CD8+ T-cells Chondrocytes DCs\n",
       "1 446B7L  7 30         NA           1             1            4 \n",
       "2 4CC61L 13  2          1           4            22           26 \n",
       "  Endothelial cells Epi. Non-tumor Epi. Tumor Epi. Unassigned Fibroblasts HSC\n",
       "1 1306              164            1647       1865            502         NA \n",
       "2    2               NA            2648         31            503          1 \n",
       "  Macrophages Mast cells Mesangial cells Monocytes Myocytes Pericytes\n",
       "1 41          NA         2               4          9        1       \n",
       "2 95           2         1               5         NA       NA       \n",
       "  Smooth muscle\n",
       "1 NA           \n",
       "2  1           "
      ]
     },
     "metadata": {},
     "output_type": "display_data"
    },
    {
     "data": {
      "text/html": [
       "<table class=\"dataframe\">\n",
       "<caption>A data.frame: 2 × 8</caption>\n",
       "<thead>\n",
       "\t<tr><th scope=col>Sample</th><th scope=col>NA</th><th scope=col>Chondrocytes</th><th scope=col>HSC</th><th scope=col>Mesangial cells</th><th scope=col>Myocytes</th><th scope=col>Pericytes</th><th scope=col>Smooth muscle</th></tr>\n",
       "\t<tr><th scope=col>&lt;chr&gt;</th><th scope=col>&lt;int&gt;</th><th scope=col>&lt;int&gt;</th><th scope=col>&lt;int&gt;</th><th scope=col>&lt;int&gt;</th><th scope=col>&lt;int&gt;</th><th scope=col>&lt;int&gt;</th><th scope=col>&lt;int&gt;</th></tr>\n",
       "</thead>\n",
       "<tbody>\n",
       "\t<tr><td>446B7L</td><td> 7</td><td> 1</td><td>NA</td><td>2</td><td> 9</td><td> 1</td><td>NA</td></tr>\n",
       "\t<tr><td>4CC61L</td><td>13</td><td>22</td><td> 1</td><td>1</td><td>NA</td><td>NA</td><td> 1</td></tr>\n",
       "</tbody>\n",
       "</table>\n"
      ],
      "text/latex": [
       "A data.frame: 2 × 8\n",
       "\\begin{tabular}{llllllll}\n",
       " Sample & NA & Chondrocytes & HSC & Mesangial cells & Myocytes & Pericytes & Smooth muscle\\\\\n",
       " <chr> & <int> & <int> & <int> & <int> & <int> & <int> & <int>\\\\\n",
       "\\hline\n",
       "\t 446B7L &  7 &  1 & NA & 2 &  9 &  1 & NA\\\\\n",
       "\t 4CC61L & 13 & 22 &  1 & 1 & NA & NA &  1\\\\\n",
       "\\end{tabular}\n"
      ],
      "text/markdown": [
       "\n",
       "A data.frame: 2 × 8\n",
       "\n",
       "| Sample &lt;chr&gt; | NA &lt;int&gt; | Chondrocytes &lt;int&gt; | HSC &lt;int&gt; | Mesangial cells &lt;int&gt; | Myocytes &lt;int&gt; | Pericytes &lt;int&gt; | Smooth muscle &lt;int&gt; |\n",
       "|---|---|---|---|---|---|---|---|\n",
       "| 446B7L |  7 |  1 | NA | 2 |  9 |  1 | NA |\n",
       "| 4CC61L | 13 | 22 |  1 | 1 | NA | NA |  1 |\n",
       "\n"
      ],
      "text/plain": [
       "  Sample NA Chondrocytes HSC Mesangial cells Myocytes Pericytes Smooth muscle\n",
       "1 446B7L  7  1           NA  2                9        1        NA           \n",
       "2 4CC61L 13 22            1  1               NA       NA         1           "
      ]
     },
     "metadata": {},
     "output_type": "display_data"
    },
    {
     "data": {
      "text/html": [
       "<table class=\"dataframe\">\n",
       "<caption>A data.frame: 2 × 14</caption>\n",
       "<thead>\n",
       "\t<tr><th scope=col>Sample</th><th scope=col>Adipocytes</th><th scope=col>CD4+ T-cells</th><th scope=col>CD8+ T-cells</th><th scope=col>DCs</th><th scope=col>Endothelial cells</th><th scope=col>Epi. Non-tumor</th><th scope=col>Epi. Tumor</th><th scope=col>Epi. Unassigned</th><th scope=col>Fibroblasts</th><th scope=col>Macrophages</th><th scope=col>Mast cells</th><th scope=col>Monocytes</th><th scope=col>Others</th></tr>\n",
       "\t<tr><th scope=col>&lt;chr&gt;</th><th scope=col>&lt;int&gt;</th><th scope=col>&lt;int&gt;</th><th scope=col>&lt;int&gt;</th><th scope=col>&lt;int&gt;</th><th scope=col>&lt;int&gt;</th><th scope=col>&lt;int&gt;</th><th scope=col>&lt;int&gt;</th><th scope=col>&lt;int&gt;</th><th scope=col>&lt;int&gt;</th><th scope=col>&lt;int&gt;</th><th scope=col>&lt;int&gt;</th><th scope=col>&lt;int&gt;</th><th scope=col>&lt;int&gt;</th></tr>\n",
       "</thead>\n",
       "<tbody>\n",
       "\t<tr><td>446B7L</td><td>30</td><td>NA</td><td>1</td><td> 4</td><td>1306</td><td>164</td><td>1647</td><td>1865</td><td>502</td><td>41</td><td>NA</td><td>4</td><td>20</td></tr>\n",
       "\t<tr><td>4CC61L</td><td> 2</td><td> 1</td><td>4</td><td>26</td><td>   2</td><td> NA</td><td>2648</td><td>  31</td><td>503</td><td>95</td><td> 2</td><td>5</td><td>38</td></tr>\n",
       "</tbody>\n",
       "</table>\n"
      ],
      "text/latex": [
       "A data.frame: 2 × 14\n",
       "\\begin{tabular}{llllllllllllll}\n",
       " Sample & Adipocytes & CD4+ T-cells & CD8+ T-cells & DCs & Endothelial cells & Epi. Non-tumor & Epi. Tumor & Epi. Unassigned & Fibroblasts & Macrophages & Mast cells & Monocytes & Others\\\\\n",
       " <chr> & <int> & <int> & <int> & <int> & <int> & <int> & <int> & <int> & <int> & <int> & <int> & <int> & <int>\\\\\n",
       "\\hline\n",
       "\t 446B7L & 30 & NA & 1 &  4 & 1306 & 164 & 1647 & 1865 & 502 & 41 & NA & 4 & 20\\\\\n",
       "\t 4CC61L &  2 &  1 & 4 & 26 &    2 &  NA & 2648 &   31 & 503 & 95 &  2 & 5 & 38\\\\\n",
       "\\end{tabular}\n"
      ],
      "text/markdown": [
       "\n",
       "A data.frame: 2 × 14\n",
       "\n",
       "| Sample &lt;chr&gt; | Adipocytes &lt;int&gt; | CD4+ T-cells &lt;int&gt; | CD8+ T-cells &lt;int&gt; | DCs &lt;int&gt; | Endothelial cells &lt;int&gt; | Epi. Non-tumor &lt;int&gt; | Epi. Tumor &lt;int&gt; | Epi. Unassigned &lt;int&gt; | Fibroblasts &lt;int&gt; | Macrophages &lt;int&gt; | Mast cells &lt;int&gt; | Monocytes &lt;int&gt; | Others &lt;int&gt; |\n",
       "|---|---|---|---|---|---|---|---|---|---|---|---|---|---|\n",
       "| 446B7L | 30 | NA | 1 |  4 | 1306 | 164 | 1647 | 1865 | 502 | 41 | NA | 4 | 20 |\n",
       "| 4CC61L |  2 |  1 | 4 | 26 |    2 |  NA | 2648 |   31 | 503 | 95 |  2 | 5 | 38 |\n",
       "\n"
      ],
      "text/plain": [
       "  Sample Adipocytes CD4+ T-cells CD8+ T-cells DCs Endothelial cells\n",
       "1 446B7L 30         NA           1             4  1306             \n",
       "2 4CC61L  2          1           4            26     2             \n",
       "  Epi. Non-tumor Epi. Tumor Epi. Unassigned Fibroblasts Macrophages Mast cells\n",
       "1 164            1647       1865            502         41          NA        \n",
       "2  NA            2648         31            503         95           2        \n",
       "  Monocytes Others\n",
       "1 4         20    \n",
       "2 5         38    "
      ]
     },
     "metadata": {},
     "output_type": "display_data"
    }
   ],
   "source": [
    "\n",
    "list_sort_atac <- sort_cluster_members(rna, args,\n",
    "                    col_cluster_types = col_cluster_types,\n",
    "                    str_umap_reduction = str_umap_reduction,\n",
    "                    f_merge_immune_cell = FALSE)\n"
   ]
  },
  {
   "cell_type": "markdown",
   "id": "3bee85c9",
   "metadata": {},
   "source": [
    "## nv_colors"
   ]
  },
  {
   "cell_type": "code",
   "execution_count": 6,
   "id": "84e68316",
   "metadata": {},
   "outputs": [
    {
     "data": {
      "text/html": [
       "<style>\n",
       ".dl-inline {width: auto; margin:0; padding: 0}\n",
       ".dl-inline>dt, .dl-inline>dd {float: none; width: auto; display: inline-block}\n",
       ".dl-inline>dt::after {content: \":\\0020\"; padding-right: .5ex}\n",
       ".dl-inline>dt:not(:first-of-type) {padding-left: .5ex}\n",
       "</style><dl class=dl-inline><dt>1-Epi. Unassigned</dt><dd>'#A0E989'</dd><dt>8-Epi. Unassigned</dt><dd>'#87CB72'</dd><dt>0-Epi. Tumor</dt><dd>'#6EAE5C'</dd><dt>2-Epi. Tumor</dt><dd>'#559145'</dd><dt>5-Epi. Tumor</dt><dd>'#3C742F'</dd><dt>6-Epi. Tumor</dt><dd>'#245719'</dd><dt>4-Fibroblasts</dt><dd>'#FABFD2'</dd><dt>3-Endothelial cells</dt><dd>'#93CEFF'</dd><dt>7-Macrophages</dt><dd>'#EEC900'</dd></dl>\n"
      ],
      "text/latex": [
       "\\begin{description*}\n",
       "\\item[1-Epi. Unassigned] '\\#A0E989'\n",
       "\\item[8-Epi. Unassigned] '\\#87CB72'\n",
       "\\item[0-Epi. Tumor] '\\#6EAE5C'\n",
       "\\item[2-Epi. Tumor] '\\#559145'\n",
       "\\item[5-Epi. Tumor] '\\#3C742F'\n",
       "\\item[6-Epi. Tumor] '\\#245719'\n",
       "\\item[4-Fibroblasts] '\\#FABFD2'\n",
       "\\item[3-Endothelial cells] '\\#93CEFF'\n",
       "\\item[7-Macrophages] '\\#EEC900'\n",
       "\\end{description*}\n"
      ],
      "text/markdown": [
       "1-Epi. Unassigned\n",
       ":   '#A0E989'8-Epi. Unassigned\n",
       ":   '#87CB72'0-Epi. Tumor\n",
       ":   '#6EAE5C'2-Epi. Tumor\n",
       ":   '#559145'5-Epi. Tumor\n",
       ":   '#3C742F'6-Epi. Tumor\n",
       ":   '#245719'4-Fibroblasts\n",
       ":   '#FABFD2'3-Endothelial cells\n",
       ":   '#93CEFF'7-Macrophages\n",
       ":   '#EEC900'\n",
       "\n"
      ],
      "text/plain": [
       "  1-Epi. Unassigned   8-Epi. Unassigned        0-Epi. Tumor        2-Epi. Tumor \n",
       "          \"#A0E989\"           \"#87CB72\"           \"#6EAE5C\"           \"#559145\" \n",
       "       5-Epi. Tumor        6-Epi. Tumor       4-Fibroblasts 3-Endothelial cells \n",
       "          \"#3C742F\"           \"#245719\"           \"#FABFD2\"           \"#93CEFF\" \n",
       "      7-Macrophages \n",
       "          \"#EEC900\" "
      ]
     },
     "metadata": {},
     "output_type": "display_data"
    }
   ],
   "source": [
    "nv_colors <- list_sort_atac$nv_color_cluster_type_ordered\n",
    "nv_colors\n"
   ]
  },
  {
   "cell_type": "markdown",
   "id": "12908667",
   "metadata": {},
   "source": [
    "# multiple genes"
   ]
  },
  {
   "cell_type": "markdown",
   "id": "8b289a2e",
   "metadata": {},
   "source": [
    "## pattern_cluster.type_removal"
   ]
  },
  {
   "cell_type": "code",
   "execution_count": 7,
   "id": "620a573e",
   "metadata": {},
   "outputs": [],
   "source": [
    "pattern_cluster.type_removal <- \"1-|6-|8-\"\n"
   ]
  },
  {
   "cell_type": "markdown",
   "id": "9150526c",
   "metadata": {},
   "source": [
    "## genes_of_interest"
   ]
  },
  {
   "cell_type": "code",
   "execution_count": 8,
   "id": "f9bbcedb",
   "metadata": {},
   "outputs": [],
   "source": [
    "genes_of_interest <- c(\"ANXA2\", \"LAMB3\", \"PRDX4\")\n"
   ]
  },
  {
   "cell_type": "markdown",
   "id": "673e5571",
   "metadata": {},
   "source": [
    "## order_x"
   ]
  },
  {
   "cell_type": "code",
   "execution_count": 9,
   "id": "f107fe00",
   "metadata": {},
   "outputs": [],
   "source": [
    "order_x <- c(\"0-Epi. Tumor\", \"2-Epi. Tumor\", \n",
    "            \"4-Fibroblasts\", \"5-Fibroblasts\", \"3-Endothelial cells\",\n",
    "            \"7-Macrophages\")\n"
   ]
  },
  {
   "cell_type": "markdown",
   "id": "067ab095",
   "metadata": {},
   "source": [
    "## boxplot"
   ]
  },
  {
   "cell_type": "code",
   "execution_count": 10,
   "id": "06c42844",
   "metadata": {},
   "outputs": [
    {
     "data": {
      "image/png": "[encoded data removed]",
      "text/plain": [
       "plot without title"
      ]
     },
     "metadata": {
      "image/png": {
       "height": 540,
       "width": 240
      }
     },
     "output_type": "display_data"
    }
   ],
   "source": [
    "facet.by <- genes_of_interest\n",
    "str_title <- \"genes_selected\"\n",
    "\n",
    "gg <- print_ggpubr(rna,\n",
    "            x = col_cluster_types, y = NULL, color = col_cluster_types, \n",
    "            order_x = order_x,   \n",
    "            facet.by = facet.by, facet.ncol = 1,\n",
    "            plot_type = \"boxplot\",\n",
    "            color_manual = nv_colors, fill_manual = nv_colors,\n",
    "            ylimits = c(-1, 5),\n",
    "            ybreaks = pretty(c(0, 4), n = 2),\n",
    "            yexpand = c(0, 0),\n",
    "            yintercept = NULL,\n",
    "            xlim = NULL, ylim = NULL,\n",
    "            xlab = \"\", ylab = \"log normalized counts\",\n",
    "            angle = 45, font_size = 13,\n",
    "            width = 4, height = 9,\n",
    "            str_condition_plot = sprintf(\"cluster_type_%s\", str_title),\n",
    "            n_log = 0)\n"
   ]
  },
  {
   "cell_type": "markdown",
   "id": "d3335947",
   "metadata": {},
   "source": [
    "# session info"
   ]
  },
  {
   "cell_type": "code",
   "execution_count": 11,
   "id": "04158981",
   "metadata": {},
   "outputs": [],
   "source": [
    "writeLines(capture.output(sessionInfo()), \"txt/sessionInfo.txt\")\n"
   ]
  },
  {
   "cell_type": "markdown",
   "id": "11a8c620",
   "metadata": {},
   "source": [
    "# reference"
   ]
  },
  {
   "cell_type": "markdown",
   "id": "674ff0fb",
   "metadata": {},
   "source": [
    "https://satijalab.org/seurat/\n",
    "\n"
   ]
  },
  {
   "cell_type": "code",
   "execution_count": null,
   "id": "43319b6c",
   "metadata": {},
   "outputs": [],
   "source": []
  }
 ],
 "metadata": {
  "kernelspec": {
   "display_name": "R 4.1.2",
   "language": "R",
   "name": "r4.1.2"
  },
  "language_info": {
   "codemirror_mode": "r",
   "file_extension": ".r",
   "mimetype": "text/x-r-source",
   "name": "R",
   "pygments_lexer": "r",
   "version": "4.1.2"
  },
  "toc": {
   "base_numbering": 1,
   "nav_menu": {},
   "number_sections": true,
   "sideBar": true,
   "skip_h1_title": false,
   "title_cell": "Table of Contents",
   "title_sidebar": "Contents",
   "toc_cell": false,
   "toc_position": {
    "height": "calc(100% - 180px)",
    "left": "10px",
    "top": "150px",
    "width": "196px"
   },
   "toc_section_display": true,
   "toc_window_display": true
  }
 },
 "nbformat": 4,
 "nbformat_minor": 5
}
