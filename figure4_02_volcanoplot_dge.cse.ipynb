{
 "cells": [
  {
   "cell_type": "markdown",
   "id": "f42aca45",
   "metadata": {},
   "source": [
    "# load library"
   ]
  },
  {
   "cell_type": "code",
   "execution_count": 1,
   "id": "3923e930",
   "metadata": {},
   "outputs": [],
   "source": [
    "source(\"r/jupyter_common.R\")\n",
    "source(\"r/identify_cell_types.R\")\n",
    "source(\"r/plot_sc_clusters.R\")\n"
   ]
  },
  {
   "cell_type": "code",
   "execution_count": 2,
   "id": "076042f0",
   "metadata": {
    "scrolled": false
   },
   "outputs": [],
   "source": [
    "# data structure\n",
    "suppressPackageStartupMessages(library(data.table))\n",
    "\n",
    "# single cell analysis\n",
    "suppressPackageStartupMessages(library(Seurat))\n",
    "suppressPackageStartupMessages(library(ArchR))\n"
   ]
  },
  {
   "cell_type": "markdown",
   "id": "3076641a",
   "metadata": {},
   "source": [
    "# parameters"
   ]
  },
  {
   "cell_type": "code",
   "execution_count": 3,
   "id": "b03f885a",
   "metadata": {},
   "outputs": [
    {
     "data": {
      "text/html": [
       "'RNA_harmony_th.0'"
      ],
      "text/latex": [
       "'RNA\\_harmony\\_th.0'"
      ],
      "text/markdown": [
       "'RNA_harmony_th.0'"
      ],
      "text/plain": [
       "[1] \"RNA_harmony_th.0\""
      ]
     },
     "metadata": {},
     "output_type": "display_data"
    },
    {
     "data": {
      "text/html": [
       "'umapharmony'"
      ],
      "text/latex": [
       "'umapharmony'"
      ],
      "text/markdown": [
       "'umapharmony'"
      ],
      "text/plain": [
       "[1] \"umapharmony\""
      ]
     },
     "metadata": {},
     "output_type": "display_data"
    },
    {
     "data": {
      "text/html": [
       "'cluster.type.harmony'"
      ],
      "text/latex": [
       "'cluster.type.harmony'"
      ],
      "text/markdown": [
       "'cluster.type.harmony'"
      ],
      "text/plain": [
       "[1] \"cluster.type.harmony\""
      ]
     },
     "metadata": {},
     "output_type": "display_data"
    }
   ],
   "source": [
    "str_condition <- \"male-bc\"\n",
    "\n",
    "args <- list()\n",
    "args$cancer_type <- \"male-bc\"\n",
    "args$method_to_identify_cell_types <- \"singler_blueprint_encode\"\n",
    "args$harmony_theta <- 0\n",
    "\n",
    "str_column_of_meta_data_harmony <- sprintf(\"RNA_harmony_th.%s\", paste(args$harmony_theta, collapse=\",\"))\n",
    "\n",
    "str_reduction <- \"pca\"\n",
    "str_umap_reduction <- \"umap\"  \n",
    "col_cluster_types <- \"cluster.type\"\n",
    "\n",
    "if (args$harmony_theta >= 0) {\n",
    "    str_column_of_meta_data_cluster <- str_column_of_meta_data_harmony\n",
    "    str_reduction <- \"harmony\"\n",
    "    str_umap_reduction <- \"umapharmony\"\n",
    "    col_cluster_types <- \"cluster.type.harmony\"\n",
    "}\n",
    "\n",
    "\n",
    "str_column_of_meta_data_cluster\n",
    "str_umap_reduction\n",
    "col_cluster_types\n",
    "\n",
    "figure_format <- \"pdf\"\n",
    "\n"
   ]
  },
  {
   "cell_type": "markdown",
   "id": "903ba810",
   "metadata": {},
   "source": [
    "## set.seed"
   ]
  },
  {
   "cell_type": "code",
   "execution_count": 4,
   "id": "d7f3721f",
   "metadata": {},
   "outputs": [],
   "source": [
    "# set seed for reproducibility\n",
    "set.seed(51)\n",
    "\n"
   ]
  },
  {
   "cell_type": "markdown",
   "id": "da94731b",
   "metadata": {},
   "source": [
    "## display"
   ]
  },
  {
   "cell_type": "code",
   "execution_count": 5,
   "id": "ba2f35ef",
   "metadata": {},
   "outputs": [],
   "source": [
    "options(repr.matrix.max.cols=150, repr.matrix.max.rows=50)\n",
    "\n"
   ]
  },
  {
   "cell_type": "markdown",
   "id": "1a493c43",
   "metadata": {},
   "source": [
    "# read scRNA-seq DEGs"
   ]
  },
  {
   "cell_type": "code",
   "execution_count": 6,
   "id": "d52458cb",
   "metadata": {},
   "outputs": [
    {
     "data": {
      "text/html": [
       "<table class=\"dataframe\">\n",
       "<caption>A data.frame: 6 × 8</caption>\n",
       "<thead>\n",
       "\t<tr><th></th><th scope=col>p_val</th><th scope=col>avg_log2FC</th><th scope=col>pct.1</th><th scope=col>pct.2</th><th scope=col>p_val_adj</th><th scope=col>expr_min</th><th scope=col>expr_mean</th><th scope=col>expr_max</th></tr>\n",
       "\t<tr><th></th><th scope=col>&lt;dbl&gt;</th><th scope=col>&lt;dbl&gt;</th><th scope=col>&lt;dbl&gt;</th><th scope=col>&lt;dbl&gt;</th><th scope=col>&lt;dbl&gt;</th><th scope=col>&lt;dbl&gt;</th><th scope=col>&lt;dbl&gt;</th><th scope=col>&lt;dbl&gt;</th></tr>\n",
       "</thead>\n",
       "<tbody>\n",
       "\t<tr><th scope=row>RPS4Y1</th><td>1.655515e-174</td><td>2.313585</td><td>0.948</td><td>0.000</td><td>4.144417e-170</td><td>0</td><td>1.459589</td><td>2.984242</td></tr>\n",
       "\t<tr><th scope=row>TNFRSF12A</th><td>3.075781e-164</td><td>2.987610</td><td>0.997</td><td>0.270</td><td>7.699909e-160</td><td>0</td><td>2.620978</td><td>4.394236</td></tr>\n",
       "\t<tr><th scope=row>ISG20</th><td>3.978188e-146</td><td>2.525560</td><td>0.945</td><td>0.118</td><td>9.958995e-142</td><td>0</td><td>1.751471</td><td>3.843429</td></tr>\n",
       "\t<tr><th scope=row>S100A6</th><td>2.320176e-145</td><td>3.401509</td><td>1.000</td><td>0.574</td><td>5.808329e-141</td><td>0</td><td>4.662926</td><td>6.206801</td></tr>\n",
       "\t<tr><th scope=row>LGALS3</th><td>2.298172e-142</td><td>2.358381</td><td>0.997</td><td>0.445</td><td>5.753244e-138</td><td>0</td><td>2.710801</td><td>4.376743</td></tr>\n",
       "\t<tr><th scope=row>SLC3A2</th><td>1.997836e-141</td><td>2.358616</td><td>0.995</td><td>0.296</td><td>5.001382e-137</td><td>0</td><td>2.079425</td><td>4.490780</td></tr>\n",
       "</tbody>\n",
       "</table>\n"
      ],
      "text/latex": [
       "A data.frame: 6 × 8\n",
       "\\begin{tabular}{r|llllllll}\n",
       "  & p\\_val & avg\\_log2FC & pct.1 & pct.2 & p\\_val\\_adj & expr\\_min & expr\\_mean & expr\\_max\\\\\n",
       "  & <dbl> & <dbl> & <dbl> & <dbl> & <dbl> & <dbl> & <dbl> & <dbl>\\\\\n",
       "\\hline\n",
       "\tRPS4Y1 & 1.655515e-174 & 2.313585 & 0.948 & 0.000 & 4.144417e-170 & 0 & 1.459589 & 2.984242\\\\\n",
       "\tTNFRSF12A & 3.075781e-164 & 2.987610 & 0.997 & 0.270 & 7.699909e-160 & 0 & 2.620978 & 4.394236\\\\\n",
       "\tISG20 & 3.978188e-146 & 2.525560 & 0.945 & 0.118 & 9.958995e-142 & 0 & 1.751471 & 3.843429\\\\\n",
       "\tS100A6 & 2.320176e-145 & 3.401509 & 1.000 & 0.574 & 5.808329e-141 & 0 & 4.662926 & 6.206801\\\\\n",
       "\tLGALS3 & 2.298172e-142 & 2.358381 & 0.997 & 0.445 & 5.753244e-138 & 0 & 2.710801 & 4.376743\\\\\n",
       "\tSLC3A2 & 1.997836e-141 & 2.358616 & 0.995 & 0.296 & 5.001382e-137 & 0 & 2.079425 & 4.490780\\\\\n",
       "\\end{tabular}\n"
      ],
      "text/markdown": [
       "\n",
       "A data.frame: 6 × 8\n",
       "\n",
       "| <!--/--> | p_val &lt;dbl&gt; | avg_log2FC &lt;dbl&gt; | pct.1 &lt;dbl&gt; | pct.2 &lt;dbl&gt; | p_val_adj &lt;dbl&gt; | expr_min &lt;dbl&gt; | expr_mean &lt;dbl&gt; | expr_max &lt;dbl&gt; |\n",
       "|---|---|---|---|---|---|---|---|---|\n",
       "| RPS4Y1 | 1.655515e-174 | 2.313585 | 0.948 | 0.000 | 4.144417e-170 | 0 | 1.459589 | 2.984242 |\n",
       "| TNFRSF12A | 3.075781e-164 | 2.987610 | 0.997 | 0.270 | 7.699909e-160 | 0 | 2.620978 | 4.394236 |\n",
       "| ISG20 | 3.978188e-146 | 2.525560 | 0.945 | 0.118 | 9.958995e-142 | 0 | 1.751471 | 3.843429 |\n",
       "| S100A6 | 2.320176e-145 | 3.401509 | 1.000 | 0.574 | 5.808329e-141 | 0 | 4.662926 | 6.206801 |\n",
       "| LGALS3 | 2.298172e-142 | 2.358381 | 0.997 | 0.445 | 5.753244e-138 | 0 | 2.710801 | 4.376743 |\n",
       "| SLC3A2 | 1.997836e-141 | 2.358616 | 0.995 | 0.296 | 5.001382e-137 | 0 | 2.079425 | 4.490780 |\n",
       "\n"
      ],
      "text/plain": [
       "          p_val         avg_log2FC pct.1 pct.2 p_val_adj     expr_min expr_mean\n",
       "RPS4Y1    1.655515e-174 2.313585   0.948 0.000 4.144417e-170 0        1.459589 \n",
       "TNFRSF12A 3.075781e-164 2.987610   0.997 0.270 7.699909e-160 0        2.620978 \n",
       "ISG20     3.978188e-146 2.525560   0.945 0.118 9.958995e-142 0        1.751471 \n",
       "S100A6    2.320176e-145 3.401509   1.000 0.574 5.808329e-141 0        4.662926 \n",
       "LGALS3    2.298172e-142 2.358381   0.997 0.445 5.753244e-138 0        2.710801 \n",
       "SLC3A2    1.997836e-141 2.358616   0.995 0.296 5.001382e-137 0        2.079425 \n",
       "          expr_max\n",
       "RPS4Y1    2.984242\n",
       "TNFRSF12A 4.394236\n",
       "ISG20     3.843429\n",
       "S100A6    6.206801\n",
       "LGALS3    4.376743\n",
       "SLC3A2    4.490780"
      ]
     },
     "metadata": {},
     "output_type": "display_data"
    },
    {
     "data": {
      "text/html": [
       "<style>\n",
       ".list-inline {list-style: none; margin:0; padding: 0}\n",
       ".list-inline>li {display: inline-block}\n",
       ".list-inline>li:not(:last-child)::after {content: \"\\00b7\"; padding: 0 .5ex}\n",
       "</style>\n",
       "<ol class=list-inline><li>1018</li><li>8</li></ol>\n"
      ],
      "text/latex": [
       "\\begin{enumerate*}\n",
       "\\item 1018\n",
       "\\item 8\n",
       "\\end{enumerate*}\n"
      ],
      "text/markdown": [
       "1. 1018\n",
       "2. 8\n",
       "\n",
       "\n"
      ],
      "text/plain": [
       "[1] 1018    8"
      ]
     },
     "metadata": {},
     "output_type": "display_data"
    },
    {
     "data": {
      "text/html": [
       "4.14441678613453e-170"
      ],
      "text/latex": [
       "4.14441678613453e-170"
      ],
      "text/markdown": [
       "4.14441678613453e-170"
      ],
      "text/plain": [
       "[1] 4.144417e-170"
      ]
     },
     "metadata": {},
     "output_type": "display_data"
    }
   ],
   "source": [
    "fname_dge <- \"tsv/male-bc_er+bc-epi_er+bc_vs_male-bc.tsv\"\n",
    "\n",
    "df_dge <- read.table(fname_dge, header = TRUE, as.is = TRUE, row.names = 1)\n",
    "head(df_dge)\n",
    "dim(df_dge)\n",
    "\n",
    "min(df_dge$p_val_adj)"
   ]
  },
  {
   "cell_type": "code",
   "execution_count": 7,
   "id": "563a07fd",
   "metadata": {},
   "outputs": [
    {
     "data": {
      "image/png": "[encoded data removed]",
      "text/plain": [
       "Plot with title “Histogram of df_dge$avg_log2FC”"
      ]
     },
     "metadata": {
      "image/png": {
       "height": 300.6,
       "width": 600
      }
     },
     "output_type": "display_data"
    }
   ],
   "source": [
    "options(repr.plot.width=10, repr.plot.height=5.01)\n",
    "hist(df_dge$avg_log2FC, 30)\n"
   ]
  },
  {
   "cell_type": "markdown",
   "id": "2309446b",
   "metadata": {},
   "source": [
    "# overlap with p2g.df.sub.plot.cancer_specific"
   ]
  },
  {
   "cell_type": "markdown",
   "id": "10486737",
   "metadata": {},
   "source": [
    "## load p2g.df.sub.plot.cancer_specific"
   ]
  },
  {
   "cell_type": "code",
   "execution_count": 8,
   "id": "46b93179",
   "metadata": {},
   "outputs": [
    {
     "data": {
      "text/html": [
       "<table class=\"dataframe\">\n",
       "<caption>A data.frame: 6 × 13</caption>\n",
       "<thead>\n",
       "\t<tr><th></th><th scope=col>idxATAC</th><th scope=col>idxRNA</th><th scope=col>Correlation</th><th scope=col>FDR</th><th scope=col>VarQATAC</th><th scope=col>VarQRNA</th><th scope=col>EmpPval</th><th scope=col>EmpFDR</th><th scope=col>geneName</th><th scope=col>peakName</th><th scope=col>peakType</th><th scope=col>idx</th><th scope=col>kmeans</th></tr>\n",
       "\t<tr><th></th><th scope=col>&lt;int&gt;</th><th scope=col>&lt;int&gt;</th><th scope=col>&lt;dbl&gt;</th><th scope=col>&lt;dbl&gt;</th><th scope=col>&lt;dbl&gt;</th><th scope=col>&lt;dbl&gt;</th><th scope=col>&lt;dbl&gt;</th><th scope=col>&lt;dbl&gt;</th><th scope=col>&lt;chr&gt;</th><th scope=col>&lt;chr&gt;</th><th scope=col>&lt;chr&gt;</th><th scope=col>&lt;chr&gt;</th><th scope=col>&lt;int&gt;</th></tr>\n",
       "</thead>\n",
       "<tbody>\n",
       "\t<tr><th scope=row>1</th><td>29</td><td>3</td><td>0.5394961</td><td> 6.024423e-38</td><td>0.9396097</td><td>0.4338114</td><td>0.11278982</td><td>0.7965846</td><td>FAM41C </td><td>chr1:1079324-1079824</td><td>Distal</td><td>29-3</td><td>5</td></tr>\n",
       "\t<tr><th scope=row>2</th><td>24</td><td>7</td><td>0.7894052</td><td>5.401495e-105</td><td>0.7539227</td><td>0.5385226</td><td>0.01994288</td><td>0.7892789</td><td>PLEKHN1</td><td>chr1:1068557-1069057</td><td>Distal</td><td>24-7</td><td>5</td></tr>\n",
       "\t<tr><th scope=row>3</th><td>25</td><td>7</td><td>0.7349978</td><td> 6.699672e-84</td><td>0.7787057</td><td>0.5385226</td><td>0.03031435</td><td>0.7892789</td><td>PLEKHN1</td><td>chr1:1069078-1069578</td><td>Distal</td><td>25-7</td><td>2</td></tr>\n",
       "\t<tr><th scope=row>4</th><td>26</td><td>7</td><td>0.8462787</td><td>5.132060e-135</td><td>0.7508486</td><td>0.5385226</td><td>0.01255312</td><td>0.7892789</td><td>PLEKHN1</td><td>chr1:1069752-1070252</td><td>Distal</td><td>26-7</td><td>2</td></tr>\n",
       "\t<tr><th scope=row>5</th><td>29</td><td>7</td><td>0.8539726</td><td>5.278697e-140</td><td>0.9396097</td><td>0.5385226</td><td>0.01176771</td><td>0.7892789</td><td>PLEKHN1</td><td>chr1:1079324-1079824</td><td>Distal</td><td>29-7</td><td>5</td></tr>\n",
       "\t<tr><th scope=row>6</th><td>30</td><td>7</td><td>0.6868139</td><td> 3.617362e-69</td><td>0.4759030</td><td>0.5385226</td><td>0.04307672</td><td>0.7892789</td><td>PLEKHN1</td><td>chr1:1080052-1080552</td><td>Distal</td><td>30-7</td><td>5</td></tr>\n",
       "</tbody>\n",
       "</table>\n"
      ],
      "text/latex": [
       "A data.frame: 6 × 13\n",
       "\\begin{tabular}{r|lllllllllllll}\n",
       "  & idxATAC & idxRNA & Correlation & FDR & VarQATAC & VarQRNA & EmpPval & EmpFDR & geneName & peakName & peakType & idx & kmeans\\\\\n",
       "  & <int> & <int> & <dbl> & <dbl> & <dbl> & <dbl> & <dbl> & <dbl> & <chr> & <chr> & <chr> & <chr> & <int>\\\\\n",
       "\\hline\n",
       "\t1 & 29 & 3 & 0.5394961 &  6.024423e-38 & 0.9396097 & 0.4338114 & 0.11278982 & 0.7965846 & FAM41C  & chr1:1079324-1079824 & Distal & 29-3 & 5\\\\\n",
       "\t2 & 24 & 7 & 0.7894052 & 5.401495e-105 & 0.7539227 & 0.5385226 & 0.01994288 & 0.7892789 & PLEKHN1 & chr1:1068557-1069057 & Distal & 24-7 & 5\\\\\n",
       "\t3 & 25 & 7 & 0.7349978 &  6.699672e-84 & 0.7787057 & 0.5385226 & 0.03031435 & 0.7892789 & PLEKHN1 & chr1:1069078-1069578 & Distal & 25-7 & 2\\\\\n",
       "\t4 & 26 & 7 & 0.8462787 & 5.132060e-135 & 0.7508486 & 0.5385226 & 0.01255312 & 0.7892789 & PLEKHN1 & chr1:1069752-1070252 & Distal & 26-7 & 2\\\\\n",
       "\t5 & 29 & 7 & 0.8539726 & 5.278697e-140 & 0.9396097 & 0.5385226 & 0.01176771 & 0.7892789 & PLEKHN1 & chr1:1079324-1079824 & Distal & 29-7 & 5\\\\\n",
       "\t6 & 30 & 7 & 0.6868139 &  3.617362e-69 & 0.4759030 & 0.5385226 & 0.04307672 & 0.7892789 & PLEKHN1 & chr1:1080052-1080552 & Distal & 30-7 & 5\\\\\n",
       "\\end{tabular}\n"
      ],
      "text/markdown": [
       "\n",
       "A data.frame: 6 × 13\n",
       "\n",
       "| <!--/--> | idxATAC &lt;int&gt; | idxRNA &lt;int&gt; | Correlation &lt;dbl&gt; | FDR &lt;dbl&gt; | VarQATAC &lt;dbl&gt; | VarQRNA &lt;dbl&gt; | EmpPval &lt;dbl&gt; | EmpFDR &lt;dbl&gt; | geneName &lt;chr&gt; | peakName &lt;chr&gt; | peakType &lt;chr&gt; | idx &lt;chr&gt; | kmeans &lt;int&gt; |\n",
       "|---|---|---|---|---|---|---|---|---|---|---|---|---|---|\n",
       "| 1 | 29 | 3 | 0.5394961 |  6.024423e-38 | 0.9396097 | 0.4338114 | 0.11278982 | 0.7965846 | FAM41C  | chr1:1079324-1079824 | Distal | 29-3 | 5 |\n",
       "| 2 | 24 | 7 | 0.7894052 | 5.401495e-105 | 0.7539227 | 0.5385226 | 0.01994288 | 0.7892789 | PLEKHN1 | chr1:1068557-1069057 | Distal | 24-7 | 5 |\n",
       "| 3 | 25 | 7 | 0.7349978 |  6.699672e-84 | 0.7787057 | 0.5385226 | 0.03031435 | 0.7892789 | PLEKHN1 | chr1:1069078-1069578 | Distal | 25-7 | 2 |\n",
       "| 4 | 26 | 7 | 0.8462787 | 5.132060e-135 | 0.7508486 | 0.5385226 | 0.01255312 | 0.7892789 | PLEKHN1 | chr1:1069752-1070252 | Distal | 26-7 | 2 |\n",
       "| 5 | 29 | 7 | 0.8539726 | 5.278697e-140 | 0.9396097 | 0.5385226 | 0.01176771 | 0.7892789 | PLEKHN1 | chr1:1079324-1079824 | Distal | 29-7 | 5 |\n",
       "| 6 | 30 | 7 | 0.6868139 |  3.617362e-69 | 0.4759030 | 0.5385226 | 0.04307672 | 0.7892789 | PLEKHN1 | chr1:1080052-1080552 | Distal | 30-7 | 5 |\n",
       "\n"
      ],
      "text/plain": [
       "  idxATAC idxRNA Correlation FDR           VarQATAC  VarQRNA   EmpPval   \n",
       "1 29      3      0.5394961    6.024423e-38 0.9396097 0.4338114 0.11278982\n",
       "2 24      7      0.7894052   5.401495e-105 0.7539227 0.5385226 0.01994288\n",
       "3 25      7      0.7349978    6.699672e-84 0.7787057 0.5385226 0.03031435\n",
       "4 26      7      0.8462787   5.132060e-135 0.7508486 0.5385226 0.01255312\n",
       "5 29      7      0.8539726   5.278697e-140 0.9396097 0.5385226 0.01176771\n",
       "6 30      7      0.6868139    3.617362e-69 0.4759030 0.5385226 0.04307672\n",
       "  EmpFDR    geneName peakName             peakType idx  kmeans\n",
       "1 0.7965846 FAM41C   chr1:1079324-1079824 Distal   29-3 5     \n",
       "2 0.7892789 PLEKHN1  chr1:1068557-1069057 Distal   24-7 5     \n",
       "3 0.7892789 PLEKHN1  chr1:1069078-1069578 Distal   25-7 2     \n",
       "4 0.7892789 PLEKHN1  chr1:1069752-1070252 Distal   26-7 2     \n",
       "5 0.7892789 PLEKHN1  chr1:1079324-1079824 Distal   29-7 5     \n",
       "6 0.7892789 PLEKHN1  chr1:1080052-1080552 Distal   30-7 5     "
      ]
     },
     "metadata": {},
     "output_type": "display_data"
    },
    {
     "data": {
      "text/html": [
       "<style>\n",
       ".list-inline {list-style: none; margin:0; padding: 0}\n",
       ".list-inline>li {display: inline-block}\n",
       ".list-inline>li:not(:last-child)::after {content: \"\\00b7\"; padding: 0 .5ex}\n",
       "</style>\n",
       "<ol class=list-inline><li>11551</li><li>13</li></ol>\n"
      ],
      "text/latex": [
       "\\begin{enumerate*}\n",
       "\\item 11551\n",
       "\\item 13\n",
       "\\end{enumerate*}\n"
      ],
      "text/markdown": [
       "1. 11551\n",
       "2. 13\n",
       "\n",
       "\n"
      ],
      "text/plain": [
       "[1] 11551    13"
      ]
     },
     "metadata": {},
     "output_type": "display_data"
    },
    {
     "name": "stdout",
     "output_type": "stream",
     "text": [
      "\tn_p2g.enhancer.cancer_specific: 11551\n",
      "\tn_peaks.p2g.enhancer.cancer_specific: 5141\n"
     ]
    }
   ],
   "source": [
    "peaktype <- \"enhancer\"\n",
    "\n",
    "dir_atac <- \"/home/hkim77/francolab.w/sc-atac-seq/male-bc/run-20220725\"\n",
    "dir_output <- sprintf(\"%s/output_male-bc\", dir_atac)\n",
    "dir_output_p2g <- sprintf(\"%s/output_p2g_male-bc\", dir_atac)\n",
    "\n",
    "fname_rds <- sprintf(\"%s/rds/cancer_specific_%s_p2g_table.rds\", dir_output_p2g, peaktype)\n",
    "\n",
    "p2g.df.sub.plot.cancer_specific <- readRDS(fname_rds)\n",
    "head(p2g.df.sub.plot.cancer_specific)\n",
    "dim(p2g.df.sub.plot.cancer_specific)\n",
    "\n",
    "n_p2g.cancer_specific <- nrow(p2g.df.sub.plot.cancer_specific)\n",
    "var <- sprintf(\"n_p2g.%s.cancer_specific\", peaktype)\n",
    "cat(sprintf(\"\\t%s: %d\\n\", var, n_p2g.cancer_specific))\n",
    "\n",
    "n_peaks.p2g.cancer_specific <- length(unique(p2g.df.sub.plot.cancer_specific$idxATAC))\n",
    "var <- sprintf(\"n_peaks.p2g.%s.cancer_specific\", peaktype)\n",
    "cat(sprintf(\"\\t%s: %d\\n\", var, n_peaks.p2g.cancer_specific))\n"
   ]
  },
  {
   "cell_type": "markdown",
   "id": "b8d7ab07",
   "metadata": {},
   "source": [
    "## df_dge.cse"
   ]
  },
  {
   "cell_type": "code",
   "execution_count": 9,
   "id": "439b3272",
   "metadata": {},
   "outputs": [
    {
     "data": {
      "text/html": [
       "<table class=\"dataframe\">\n",
       "<caption>A data.frame: 6 × 8</caption>\n",
       "<thead>\n",
       "\t<tr><th></th><th scope=col>p_val</th><th scope=col>avg_log2FC</th><th scope=col>pct.1</th><th scope=col>pct.2</th><th scope=col>p_val_adj</th><th scope=col>expr_min</th><th scope=col>expr_mean</th><th scope=col>expr_max</th></tr>\n",
       "\t<tr><th></th><th scope=col>&lt;dbl&gt;</th><th scope=col>&lt;dbl&gt;</th><th scope=col>&lt;dbl&gt;</th><th scope=col>&lt;dbl&gt;</th><th scope=col>&lt;dbl&gt;</th><th scope=col>&lt;dbl&gt;</th><th scope=col>&lt;dbl&gt;</th><th scope=col>&lt;dbl&gt;</th></tr>\n",
       "</thead>\n",
       "<tbody>\n",
       "\t<tr><th scope=row>ISG20</th><td>3.978188e-146</td><td>2.525560</td><td>0.945</td><td>0.118</td><td>9.958995e-142</td><td>0.0000000</td><td>1.751471</td><td>3.843429</td></tr>\n",
       "\t<tr><th scope=row>S100A6</th><td>2.320176e-145</td><td>3.401509</td><td>1.000</td><td>0.574</td><td>5.808329e-141</td><td>0.0000000</td><td>4.662926</td><td>6.206801</td></tr>\n",
       "\t<tr><th scope=row>SAT1</th><td>8.599381e-139</td><td>2.803190</td><td>1.000</td><td>0.667</td><td>2.152769e-134</td><td>0.2981702</td><td>3.742109</td><td>5.598026</td></tr>\n",
       "\t<tr><th scope=row>MYL12A</th><td>1.249291e-130</td><td>2.150761</td><td>0.998</td><td>0.570</td><td>3.127474e-126</td><td>0.0000000</td><td>2.650992</td><td>4.167212</td></tr>\n",
       "\t<tr><th scope=row>PPP1R14B</th><td>8.975878e-129</td><td>1.897139</td><td>0.995</td><td>0.375</td><td>2.247021e-124</td><td>0.0000000</td><td>2.040378</td><td>3.449861</td></tr>\n",
       "\t<tr><th scope=row>ANXA2</th><td>7.186044e-128</td><td>1.925806</td><td>0.999</td><td>0.668</td><td>1.798954e-123</td><td>0.0000000</td><td>2.983556</td><td>4.697529</td></tr>\n",
       "</tbody>\n",
       "</table>\n"
      ],
      "text/latex": [
       "A data.frame: 6 × 8\n",
       "\\begin{tabular}{r|llllllll}\n",
       "  & p\\_val & avg\\_log2FC & pct.1 & pct.2 & p\\_val\\_adj & expr\\_min & expr\\_mean & expr\\_max\\\\\n",
       "  & <dbl> & <dbl> & <dbl> & <dbl> & <dbl> & <dbl> & <dbl> & <dbl>\\\\\n",
       "\\hline\n",
       "\tISG20 & 3.978188e-146 & 2.525560 & 0.945 & 0.118 & 9.958995e-142 & 0.0000000 & 1.751471 & 3.843429\\\\\n",
       "\tS100A6 & 2.320176e-145 & 3.401509 & 1.000 & 0.574 & 5.808329e-141 & 0.0000000 & 4.662926 & 6.206801\\\\\n",
       "\tSAT1 & 8.599381e-139 & 2.803190 & 1.000 & 0.667 & 2.152769e-134 & 0.2981702 & 3.742109 & 5.598026\\\\\n",
       "\tMYL12A & 1.249291e-130 & 2.150761 & 0.998 & 0.570 & 3.127474e-126 & 0.0000000 & 2.650992 & 4.167212\\\\\n",
       "\tPPP1R14B & 8.975878e-129 & 1.897139 & 0.995 & 0.375 & 2.247021e-124 & 0.0000000 & 2.040378 & 3.449861\\\\\n",
       "\tANXA2 & 7.186044e-128 & 1.925806 & 0.999 & 0.668 & 1.798954e-123 & 0.0000000 & 2.983556 & 4.697529\\\\\n",
       "\\end{tabular}\n"
      ],
      "text/markdown": [
       "\n",
       "A data.frame: 6 × 8\n",
       "\n",
       "| <!--/--> | p_val &lt;dbl&gt; | avg_log2FC &lt;dbl&gt; | pct.1 &lt;dbl&gt; | pct.2 &lt;dbl&gt; | p_val_adj &lt;dbl&gt; | expr_min &lt;dbl&gt; | expr_mean &lt;dbl&gt; | expr_max &lt;dbl&gt; |\n",
       "|---|---|---|---|---|---|---|---|---|\n",
       "| ISG20 | 3.978188e-146 | 2.525560 | 0.945 | 0.118 | 9.958995e-142 | 0.0000000 | 1.751471 | 3.843429 |\n",
       "| S100A6 | 2.320176e-145 | 3.401509 | 1.000 | 0.574 | 5.808329e-141 | 0.0000000 | 4.662926 | 6.206801 |\n",
       "| SAT1 | 8.599381e-139 | 2.803190 | 1.000 | 0.667 | 2.152769e-134 | 0.2981702 | 3.742109 | 5.598026 |\n",
       "| MYL12A | 1.249291e-130 | 2.150761 | 0.998 | 0.570 | 3.127474e-126 | 0.0000000 | 2.650992 | 4.167212 |\n",
       "| PPP1R14B | 8.975878e-129 | 1.897139 | 0.995 | 0.375 | 2.247021e-124 | 0.0000000 | 2.040378 | 3.449861 |\n",
       "| ANXA2 | 7.186044e-128 | 1.925806 | 0.999 | 0.668 | 1.798954e-123 | 0.0000000 | 2.983556 | 4.697529 |\n",
       "\n"
      ],
      "text/plain": [
       "         p_val         avg_log2FC pct.1 pct.2 p_val_adj     expr_min  expr_mean\n",
       "ISG20    3.978188e-146 2.525560   0.945 0.118 9.958995e-142 0.0000000 1.751471 \n",
       "S100A6   2.320176e-145 3.401509   1.000 0.574 5.808329e-141 0.0000000 4.662926 \n",
       "SAT1     8.599381e-139 2.803190   1.000 0.667 2.152769e-134 0.2981702 3.742109 \n",
       "MYL12A   1.249291e-130 2.150761   0.998 0.570 3.127474e-126 0.0000000 2.650992 \n",
       "PPP1R14B 8.975878e-129 1.897139   0.995 0.375 2.247021e-124 0.0000000 2.040378 \n",
       "ANXA2    7.186044e-128 1.925806   0.999 0.668 1.798954e-123 0.0000000 2.983556 \n",
       "         expr_max\n",
       "ISG20    3.843429\n",
       "S100A6   6.206801\n",
       "SAT1     5.598026\n",
       "MYL12A   4.167212\n",
       "PPP1R14B 3.449861\n",
       "ANXA2    4.697529"
      ]
     },
     "metadata": {},
     "output_type": "display_data"
    },
    {
     "data": {
      "text/html": [
       "<style>\n",
       ".list-inline {list-style: none; margin:0; padding: 0}\n",
       ".list-inline>li {display: inline-block}\n",
       ".list-inline>li:not(:last-child)::after {content: \"\\00b7\"; padding: 0 .5ex}\n",
       "</style>\n",
       "<ol class=list-inline><li>363</li><li>8</li></ol>\n"
      ],
      "text/latex": [
       "\\begin{enumerate*}\n",
       "\\item 363\n",
       "\\item 8\n",
       "\\end{enumerate*}\n"
      ],
      "text/markdown": [
       "1. 363\n",
       "2. 8\n",
       "\n",
       "\n"
      ],
      "text/plain": [
       "[1] 363   8"
      ]
     },
     "metadata": {},
     "output_type": "display_data"
    }
   ],
   "source": [
    "f <- rownames(df_dge) %in% p2g.df.sub.plot.cancer_specific$geneName\n",
    "\n",
    "df_dge.cse <- df_dge[f,]\n",
    "\n",
    "head(df_dge.cse)\n",
    "dim(df_dge.cse)\n",
    "\n"
   ]
  },
  {
   "cell_type": "markdown",
   "id": "d8ace701",
   "metadata": {},
   "source": [
    "### write.table"
   ]
  },
  {
   "cell_type": "code",
   "execution_count": 10,
   "id": "617c04cc",
   "metadata": {},
   "outputs": [],
   "source": [
    "write.table(df_dge.cse, \n",
    "   file=\"tsv/df_dge.cse.tsv\",\n",
    "   row.names = T, col.names = T, quote = F, sep = \"\\t\")\n"
   ]
  },
  {
   "cell_type": "markdown",
   "id": "bd227f40",
   "metadata": {},
   "source": [
    "## p2g_genes_female_vs_male.cse"
   ]
  },
  {
   "cell_type": "code",
   "execution_count": 11,
   "id": "5b8222b0",
   "metadata": {},
   "outputs": [
    {
     "data": {
      "text/html": [
       "<style>\n",
       ".list-inline {list-style: none; margin:0; padding: 0}\n",
       ".list-inline>li {display: inline-block}\n",
       ".list-inline>li:not(:last-child)::after {content: \"\\00b7\"; padding: 0 .5ex}\n",
       "</style>\n",
       "<ol class=list-inline><li>'ISG20'</li><li>'S100A6'</li><li>'SAT1'</li><li>'MYL12A'</li><li>'PPP1R14B'</li><li>'ANXA2'</li><li>'MYL12B'</li><li>'TKT'</li><li>'HSPB8'</li><li>'S100A16'</li><li>'PIM3'</li><li>'NAA20'</li><li>'SH3BGRL3'</li><li>'SQOR'</li><li>'FHL2'</li><li>'LAMB3'</li><li>'CAPN2'</li><li>'TALDO1'</li><li>'CLTB'</li><li>'PFKP'</li><li>'USP53'</li><li>'PHLDA2'</li><li>'SLC39A1'</li><li>'CD47'</li><li>'NDUFV2'</li><li>'PAWR'</li><li>'PPIF'</li><li>'BAG1'</li><li>'CSRP1'</li><li>'SLK'</li><li>'CLIP1'</li><li>'MYH9'</li><li>'C1QBP'</li><li>'MGLL'</li><li>'ZNF706'</li><li>'PHLDA3'</li><li>'PRDX4'</li><li>'S100A14'</li><li>'HES4'</li><li>'GNAS'</li><li>'SFN'</li><li>'VDAC2'</li><li>'GTF2A2'</li><li>'TMEM40'</li><li>'MGST1'</li><li>'FABP3'</li><li>'CCT3'</li><li>'FSTL3'</li><li>'METRN'</li><li>'TUBB4B'</li><li>'ACTN1'</li><li>'TACSTD2'</li><li>'FBXO32'</li><li>'SPTSSA'</li><li>'KRT23'</li><li>'GDF15'</li><li>'SERPINA1'</li><li>'WFDC2'</li><li>'YWHAZ'</li><li>'KRT7'</li><li>'TPM1'</li></ol>\n"
      ],
      "text/latex": [
       "\\begin{enumerate*}\n",
       "\\item 'ISG20'\n",
       "\\item 'S100A6'\n",
       "\\item 'SAT1'\n",
       "\\item 'MYL12A'\n",
       "\\item 'PPP1R14B'\n",
       "\\item 'ANXA2'\n",
       "\\item 'MYL12B'\n",
       "\\item 'TKT'\n",
       "\\item 'HSPB8'\n",
       "\\item 'S100A16'\n",
       "\\item 'PIM3'\n",
       "\\item 'NAA20'\n",
       "\\item 'SH3BGRL3'\n",
       "\\item 'SQOR'\n",
       "\\item 'FHL2'\n",
       "\\item 'LAMB3'\n",
       "\\item 'CAPN2'\n",
       "\\item 'TALDO1'\n",
       "\\item 'CLTB'\n",
       "\\item 'PFKP'\n",
       "\\item 'USP53'\n",
       "\\item 'PHLDA2'\n",
       "\\item 'SLC39A1'\n",
       "\\item 'CD47'\n",
       "\\item 'NDUFV2'\n",
       "\\item 'PAWR'\n",
       "\\item 'PPIF'\n",
       "\\item 'BAG1'\n",
       "\\item 'CSRP1'\n",
       "\\item 'SLK'\n",
       "\\item 'CLIP1'\n",
       "\\item 'MYH9'\n",
       "\\item 'C1QBP'\n",
       "\\item 'MGLL'\n",
       "\\item 'ZNF706'\n",
       "\\item 'PHLDA3'\n",
       "\\item 'PRDX4'\n",
       "\\item 'S100A14'\n",
       "\\item 'HES4'\n",
       "\\item 'GNAS'\n",
       "\\item 'SFN'\n",
       "\\item 'VDAC2'\n",
       "\\item 'GTF2A2'\n",
       "\\item 'TMEM40'\n",
       "\\item 'MGST1'\n",
       "\\item 'FABP3'\n",
       "\\item 'CCT3'\n",
       "\\item 'FSTL3'\n",
       "\\item 'METRN'\n",
       "\\item 'TUBB4B'\n",
       "\\item 'ACTN1'\n",
       "\\item 'TACSTD2'\n",
       "\\item 'FBXO32'\n",
       "\\item 'SPTSSA'\n",
       "\\item 'KRT23'\n",
       "\\item 'GDF15'\n",
       "\\item 'SERPINA1'\n",
       "\\item 'WFDC2'\n",
       "\\item 'YWHAZ'\n",
       "\\item 'KRT7'\n",
       "\\item 'TPM1'\n",
       "\\end{enumerate*}\n"
      ],
      "text/markdown": [
       "1. 'ISG20'\n",
       "2. 'S100A6'\n",
       "3. 'SAT1'\n",
       "4. 'MYL12A'\n",
       "5. 'PPP1R14B'\n",
       "6. 'ANXA2'\n",
       "7. 'MYL12B'\n",
       "8. 'TKT'\n",
       "9. 'HSPB8'\n",
       "10. 'S100A16'\n",
       "11. 'PIM3'\n",
       "12. 'NAA20'\n",
       "13. 'SH3BGRL3'\n",
       "14. 'SQOR'\n",
       "15. 'FHL2'\n",
       "16. 'LAMB3'\n",
       "17. 'CAPN2'\n",
       "18. 'TALDO1'\n",
       "19. 'CLTB'\n",
       "20. 'PFKP'\n",
       "21. 'USP53'\n",
       "22. 'PHLDA2'\n",
       "23. 'SLC39A1'\n",
       "24. 'CD47'\n",
       "25. 'NDUFV2'\n",
       "26. 'PAWR'\n",
       "27. 'PPIF'\n",
       "28. 'BAG1'\n",
       "29. 'CSRP1'\n",
       "30. 'SLK'\n",
       "31. 'CLIP1'\n",
       "32. 'MYH9'\n",
       "33. 'C1QBP'\n",
       "34. 'MGLL'\n",
       "35. 'ZNF706'\n",
       "36. 'PHLDA3'\n",
       "37. 'PRDX4'\n",
       "38. 'S100A14'\n",
       "39. 'HES4'\n",
       "40. 'GNAS'\n",
       "41. 'SFN'\n",
       "42. 'VDAC2'\n",
       "43. 'GTF2A2'\n",
       "44. 'TMEM40'\n",
       "45. 'MGST1'\n",
       "46. 'FABP3'\n",
       "47. 'CCT3'\n",
       "48. 'FSTL3'\n",
       "49. 'METRN'\n",
       "50. 'TUBB4B'\n",
       "51. 'ACTN1'\n",
       "52. 'TACSTD2'\n",
       "53. 'FBXO32'\n",
       "54. 'SPTSSA'\n",
       "55. 'KRT23'\n",
       "56. 'GDF15'\n",
       "57. 'SERPINA1'\n",
       "58. 'WFDC2'\n",
       "59. 'YWHAZ'\n",
       "60. 'KRT7'\n",
       "61. 'TPM1'\n",
       "\n",
       "\n"
      ],
      "text/plain": [
       " [1] \"ISG20\"    \"S100A6\"   \"SAT1\"     \"MYL12A\"   \"PPP1R14B\" \"ANXA2\"   \n",
       " [7] \"MYL12B\"   \"TKT\"      \"HSPB8\"    \"S100A16\"  \"PIM3\"     \"NAA20\"   \n",
       "[13] \"SH3BGRL3\" \"SQOR\"     \"FHL2\"     \"LAMB3\"    \"CAPN2\"    \"TALDO1\"  \n",
       "[19] \"CLTB\"     \"PFKP\"     \"USP53\"    \"PHLDA2\"   \"SLC39A1\"  \"CD47\"    \n",
       "[25] \"NDUFV2\"   \"PAWR\"     \"PPIF\"     \"BAG1\"     \"CSRP1\"    \"SLK\"     \n",
       "[31] \"CLIP1\"    \"MYH9\"     \"C1QBP\"    \"MGLL\"     \"ZNF706\"   \"PHLDA3\"  \n",
       "[37] \"PRDX4\"    \"S100A14\"  \"HES4\"     \"GNAS\"     \"SFN\"      \"VDAC2\"   \n",
       "[43] \"GTF2A2\"   \"TMEM40\"   \"MGST1\"    \"FABP3\"    \"CCT3\"     \"FSTL3\"   \n",
       "[49] \"METRN\"    \"TUBB4B\"   \"ACTN1\"    \"TACSTD2\"  \"FBXO32\"   \"SPTSSA\"  \n",
       "[55] \"KRT23\"    \"GDF15\"    \"SERPINA1\" \"WFDC2\"    \"YWHAZ\"    \"KRT7\"    \n",
       "[61] \"TPM1\"    "
      ]
     },
     "metadata": {},
     "output_type": "display_data"
    },
    {
     "name": "stdout",
     "output_type": "stream",
     "text": [
      "[1] 61\n"
     ]
    }
   ],
   "source": [
    "f <- (abs(df_dge.cse$avg_log2FC) > 1.0 & df_dge.cse$p_val_adj < 0.01)\n",
    "p2g_genes_female_vs_male.cse <- rownames(df_dge.cse[f,])\n",
    "p2g_genes_female_vs_male.cse\n",
    "print(length(p2g_genes_female_vs_male.cse))\n",
    "\n",
    "if (length(p2g_genes_female_vs_male.cse) < 5) {\n",
    "    p2g_genes_female_vs_male.cse <- rownames(df_dge.cse)\n",
    "    print(p2g_genes_female_vs_male.cse)\n",
    "    print(length(p2g_genes_female_vs_male.cse))\n",
    "}\n"
   ]
  },
  {
   "cell_type": "markdown",
   "id": "062b143f",
   "metadata": {},
   "source": [
    "## genes_of_interest"
   ]
  },
  {
   "cell_type": "code",
   "execution_count": 12,
   "id": "1d107535",
   "metadata": {},
   "outputs": [],
   "source": [
    "genes_for_label <- c(\"ANXA2\", \"LAMB3\", \"SAT1\", \"S100A6\",\n",
    "                     \"CSRP1\",\n",
    "                     \"PRDX4\",\n",
    "                     \"TMEM40\",\n",
    "                     \"FABP3\",\n",
    "                     \"KRT23\")\n"
   ]
  },
  {
   "cell_type": "markdown",
   "id": "5f08726c",
   "metadata": {},
   "source": [
    "## volcanoplot"
   ]
  },
  {
   "cell_type": "code",
   "execution_count": 13,
   "id": "adcdcc18",
   "metadata": {},
   "outputs": [
    {
     "data": {
      "image/png": "[encoded data removed]",
      "text/plain": [
       "plot without title"
      ]
     },
     "metadata": {
      "image/png": {
       "height": 420,
       "width": 420
      }
     },
     "output_type": "display_data"
    }
   ],
   "source": [
    "\n",
    "gg <- get_volcano_plot(df_dge.cse,\n",
    "                       th_log2fc = 1.0,\n",
    "                       th_padj = 0.01,\n",
    "                       str_condition = \"Female BC vs. Male BC\",\n",
    "                       label.select = genes_for_label,\n",
    "                       col_log2fc = \"avg_log2FC\",\n",
    "                       col_padj = \"p_val_adj\")\n",
    "\n",
    "str_condition_tmp <- sprintf(\"%s_sc-rna-seq_female-bc-vs-male-bc.enhancer_overlap\", str_condition)\n",
    "filename <- sprintf(\"volcanoplot_%s\", str_condition_tmp)\n",
    "print_figure(gg, width=7, height=7, file=filename)\n",
    "\n"
   ]
  },
  {
   "cell_type": "markdown",
   "id": "b3781263",
   "metadata": {},
   "source": [
    "## check genes"
   ]
  },
  {
   "cell_type": "code",
   "execution_count": 14,
   "id": "6f85d962",
   "metadata": {},
   "outputs": [
    {
     "data": {
      "text/html": [
       "<table class=\"dataframe\">\n",
       "<caption>A data.frame: 3 × 8</caption>\n",
       "<thead>\n",
       "\t<tr><th></th><th scope=col>p_val</th><th scope=col>avg_log2FC</th><th scope=col>pct.1</th><th scope=col>pct.2</th><th scope=col>p_val_adj</th><th scope=col>expr_min</th><th scope=col>expr_mean</th><th scope=col>expr_max</th></tr>\n",
       "\t<tr><th></th><th scope=col>&lt;dbl&gt;</th><th scope=col>&lt;dbl&gt;</th><th scope=col>&lt;dbl&gt;</th><th scope=col>&lt;dbl&gt;</th><th scope=col>&lt;dbl&gt;</th><th scope=col>&lt;dbl&gt;</th><th scope=col>&lt;dbl&gt;</th><th scope=col>&lt;dbl&gt;</th></tr>\n",
       "</thead>\n",
       "<tbody>\n",
       "\t<tr><th scope=row>PRDX4</th><td> 7.475931e-83</td><td>1.003037</td><td>0.953</td><td>0.334</td><td> 1.871525e-78</td><td>0</td><td>1.262914</td><td>2.857949</td></tr>\n",
       "\t<tr><th scope=row>ANXA2</th><td>7.186044e-128</td><td>1.925806</td><td>0.999</td><td>0.668</td><td>1.798954e-123</td><td>0</td><td>2.983556</td><td>4.697529</td></tr>\n",
       "\t<tr><th scope=row>LAMB3</th><td>1.040945e-107</td><td>1.189003</td><td>0.693</td><td>0.019</td><td>2.605902e-103</td><td>0</td><td>0.686677</td><td>3.027851</td></tr>\n",
       "</tbody>\n",
       "</table>\n"
      ],
      "text/latex": [
       "A data.frame: 3 × 8\n",
       "\\begin{tabular}{r|llllllll}\n",
       "  & p\\_val & avg\\_log2FC & pct.1 & pct.2 & p\\_val\\_adj & expr\\_min & expr\\_mean & expr\\_max\\\\\n",
       "  & <dbl> & <dbl> & <dbl> & <dbl> & <dbl> & <dbl> & <dbl> & <dbl>\\\\\n",
       "\\hline\n",
       "\tPRDX4 &  7.475931e-83 & 1.003037 & 0.953 & 0.334 &  1.871525e-78 & 0 & 1.262914 & 2.857949\\\\\n",
       "\tANXA2 & 7.186044e-128 & 1.925806 & 0.999 & 0.668 & 1.798954e-123 & 0 & 2.983556 & 4.697529\\\\\n",
       "\tLAMB3 & 1.040945e-107 & 1.189003 & 0.693 & 0.019 & 2.605902e-103 & 0 & 0.686677 & 3.027851\\\\\n",
       "\\end{tabular}\n"
      ],
      "text/markdown": [
       "\n",
       "A data.frame: 3 × 8\n",
       "\n",
       "| <!--/--> | p_val &lt;dbl&gt; | avg_log2FC &lt;dbl&gt; | pct.1 &lt;dbl&gt; | pct.2 &lt;dbl&gt; | p_val_adj &lt;dbl&gt; | expr_min &lt;dbl&gt; | expr_mean &lt;dbl&gt; | expr_max &lt;dbl&gt; |\n",
       "|---|---|---|---|---|---|---|---|---|\n",
       "| PRDX4 |  7.475931e-83 | 1.003037 | 0.953 | 0.334 |  1.871525e-78 | 0 | 1.262914 | 2.857949 |\n",
       "| ANXA2 | 7.186044e-128 | 1.925806 | 0.999 | 0.668 | 1.798954e-123 | 0 | 2.983556 | 4.697529 |\n",
       "| LAMB3 | 1.040945e-107 | 1.189003 | 0.693 | 0.019 | 2.605902e-103 | 0 | 0.686677 | 3.027851 |\n",
       "\n"
      ],
      "text/plain": [
       "      p_val         avg_log2FC pct.1 pct.2 p_val_adj     expr_min expr_mean\n",
       "PRDX4  7.475931e-83 1.003037   0.953 0.334  1.871525e-78 0        1.262914 \n",
       "ANXA2 7.186044e-128 1.925806   0.999 0.668 1.798954e-123 0        2.983556 \n",
       "LAMB3 1.040945e-107 1.189003   0.693 0.019 2.605902e-103 0        0.686677 \n",
       "      expr_max\n",
       "PRDX4 2.857949\n",
       "ANXA2 4.697529\n",
       "LAMB3 3.027851"
      ]
     },
     "metadata": {},
     "output_type": "display_data"
    },
    {
     "data": {
      "text/html": [
       "<table class=\"dataframe\">\n",
       "<caption>A data.frame: 3 × 8</caption>\n",
       "<thead>\n",
       "\t<tr><th></th><th scope=col>p_val</th><th scope=col>avg_log2FC</th><th scope=col>pct.1</th><th scope=col>pct.2</th><th scope=col>p_val_adj</th><th scope=col>expr_min</th><th scope=col>expr_mean</th><th scope=col>expr_max</th></tr>\n",
       "\t<tr><th></th><th scope=col>&lt;dbl&gt;</th><th scope=col>&lt;dbl&gt;</th><th scope=col>&lt;dbl&gt;</th><th scope=col>&lt;dbl&gt;</th><th scope=col>&lt;dbl&gt;</th><th scope=col>&lt;dbl&gt;</th><th scope=col>&lt;dbl&gt;</th><th scope=col>&lt;dbl&gt;</th></tr>\n",
       "</thead>\n",
       "<tbody>\n",
       "\t<tr><th scope=row>PRDX4</th><td> 7.475931e-83</td><td>1.003037</td><td>0.953</td><td>0.334</td><td> 1.871525e-78</td><td>0</td><td>1.262914</td><td>2.857949</td></tr>\n",
       "\t<tr><th scope=row>ANXA2</th><td>7.186044e-128</td><td>1.925806</td><td>0.999</td><td>0.668</td><td>1.798954e-123</td><td>0</td><td>2.983556</td><td>4.697529</td></tr>\n",
       "\t<tr><th scope=row>LAMB3</th><td>1.040945e-107</td><td>1.189003</td><td>0.693</td><td>0.019</td><td>2.605902e-103</td><td>0</td><td>0.686677</td><td>3.027851</td></tr>\n",
       "</tbody>\n",
       "</table>\n"
      ],
      "text/latex": [
       "A data.frame: 3 × 8\n",
       "\\begin{tabular}{r|llllllll}\n",
       "  & p\\_val & avg\\_log2FC & pct.1 & pct.2 & p\\_val\\_adj & expr\\_min & expr\\_mean & expr\\_max\\\\\n",
       "  & <dbl> & <dbl> & <dbl> & <dbl> & <dbl> & <dbl> & <dbl> & <dbl>\\\\\n",
       "\\hline\n",
       "\tPRDX4 &  7.475931e-83 & 1.003037 & 0.953 & 0.334 &  1.871525e-78 & 0 & 1.262914 & 2.857949\\\\\n",
       "\tANXA2 & 7.186044e-128 & 1.925806 & 0.999 & 0.668 & 1.798954e-123 & 0 & 2.983556 & 4.697529\\\\\n",
       "\tLAMB3 & 1.040945e-107 & 1.189003 & 0.693 & 0.019 & 2.605902e-103 & 0 & 0.686677 & 3.027851\\\\\n",
       "\\end{tabular}\n"
      ],
      "text/markdown": [
       "\n",
       "A data.frame: 3 × 8\n",
       "\n",
       "| <!--/--> | p_val &lt;dbl&gt; | avg_log2FC &lt;dbl&gt; | pct.1 &lt;dbl&gt; | pct.2 &lt;dbl&gt; | p_val_adj &lt;dbl&gt; | expr_min &lt;dbl&gt; | expr_mean &lt;dbl&gt; | expr_max &lt;dbl&gt; |\n",
       "|---|---|---|---|---|---|---|---|---|\n",
       "| PRDX4 |  7.475931e-83 | 1.003037 | 0.953 | 0.334 |  1.871525e-78 | 0 | 1.262914 | 2.857949 |\n",
       "| ANXA2 | 7.186044e-128 | 1.925806 | 0.999 | 0.668 | 1.798954e-123 | 0 | 2.983556 | 4.697529 |\n",
       "| LAMB3 | 1.040945e-107 | 1.189003 | 0.693 | 0.019 | 2.605902e-103 | 0 | 0.686677 | 3.027851 |\n",
       "\n"
      ],
      "text/plain": [
       "      p_val         avg_log2FC pct.1 pct.2 p_val_adj     expr_min expr_mean\n",
       "PRDX4  7.475931e-83 1.003037   0.953 0.334  1.871525e-78 0        1.262914 \n",
       "ANXA2 7.186044e-128 1.925806   0.999 0.668 1.798954e-123 0        2.983556 \n",
       "LAMB3 1.040945e-107 1.189003   0.693 0.019 2.605902e-103 0        0.686677 \n",
       "      expr_max\n",
       "PRDX4 2.857949\n",
       "ANXA2 4.697529\n",
       "LAMB3 3.027851"
      ]
     },
     "metadata": {},
     "output_type": "display_data"
    }
   ],
   "source": [
    "genes <- c(\"PRDX4\", \"ANXA2\", \"LAMB3\")\n",
    "\n",
    "df_dge[genes,]\n",
    "df_dge.cse[genes,]\n"
   ]
  },
  {
   "cell_type": "markdown",
   "id": "ebfa2225",
   "metadata": {},
   "source": [
    "# session info"
   ]
  },
  {
   "cell_type": "code",
   "execution_count": 15,
   "id": "79ea0fa8",
   "metadata": {},
   "outputs": [],
   "source": [
    "writeLines(capture.output(sessionInfo()), \"txt/sessionInfo.txt\")\n"
   ]
  },
  {
   "cell_type": "markdown",
   "id": "11a8c620",
   "metadata": {},
   "source": [
    "# reference"
   ]
  },
  {
   "cell_type": "markdown",
   "id": "674ff0fb",
   "metadata": {},
   "source": [
    "https://satijalab.org/seurat/\n",
    "\n"
   ]
  },
  {
   "cell_type": "code",
   "execution_count": null,
   "id": "43319b6c",
   "metadata": {},
   "outputs": [],
   "source": []
  }
 ],
 "metadata": {
  "kernelspec": {
   "display_name": "R 4.1.2",
   "language": "R",
   "name": "r4.1.2"
  },
  "language_info": {
   "codemirror_mode": "r",
   "file_extension": ".r",
   "mimetype": "text/x-r-source",
   "name": "R",
   "pygments_lexer": "r",
   "version": "4.1.2"
  },
  "toc": {
   "base_numbering": 1,
   "nav_menu": {},
   "number_sections": true,
   "sideBar": true,
   "skip_h1_title": false,
   "title_cell": "Table of Contents",
   "title_sidebar": "Contents",
   "toc_cell": false,
   "toc_position": {
    "height": "calc(100% - 180px)",
    "left": "10px",
    "top": "150px",
    "width": "196px"
   },
   "toc_section_display": true,
   "toc_window_display": true
  }
 },
 "nbformat": 4,
 "nbformat_minor": 5
}
