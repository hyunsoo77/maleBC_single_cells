{
 "cells": [
  {
   "cell_type": "markdown",
   "id": "3284530f",
   "metadata": {},
   "source": [
    "# load library"
   ]
  },
  {
   "cell_type": "code",
   "execution_count": 1,
   "id": "f939d5bc",
   "metadata": {},
   "outputs": [],
   "source": [
    "source(\"r/jupyter_common.R\")\n",
    "source(\"r/identify_cell_types.R\")\n",
    "source(\"r/plot_sc_clusters.R\")\n",
    "\n",
    "source(\"r/archr/archr_functions_modified.R\")\n",
    "\n"
   ]
  },
  {
   "cell_type": "code",
   "execution_count": 2,
   "id": "799fba15",
   "metadata": {
    "scrolled": false
   },
   "outputs": [],
   "source": [
    "# data structure\n",
    "suppressPackageStartupMessages(library(data.table))\n",
    "suppressPackageStartupMessages(library(GenomicRanges))\n",
    "\n",
    "# single cell analysis\n",
    "suppressPackageStartupMessages(library(Seurat))\n",
    "suppressPackageStartupMessages(library(ArchR))\n"
   ]
  },
  {
   "cell_type": "code",
   "execution_count": 3,
   "id": "372e49c3",
   "metadata": {},
   "outputs": [
    {
     "name": "stderr",
     "output_type": "stream",
     "text": [
      "Setting default number of Parallel threads to 1.\n",
      "\n"
     ]
    },
    {
     "data": {
      "text/html": [
       "1"
      ],
      "text/latex": [
       "1"
      ],
      "text/markdown": [
       "1"
      ],
      "text/plain": [
       "[1] 1"
      ]
     },
     "metadata": {},
     "output_type": "display_data"
    },
    {
     "name": "stderr",
     "output_type": "stream",
     "text": [
      "Setting default genome to Hg38.\n",
      "\n"
     ]
    }
   ],
   "source": [
    "addArchRThreads(threads=1)\n",
    "getArchRThreads()\n",
    "\n",
    "addArchRGenome(\"hg38\")\n"
   ]
  },
  {
   "cell_type": "markdown",
   "id": "852487f1",
   "metadata": {},
   "source": [
    "# parameters"
   ]
  },
  {
   "cell_type": "code",
   "execution_count": 4,
   "id": "5ec2c06b",
   "metadata": {},
   "outputs": [
    {
     "data": {
      "text/html": [
       "'RNA_harmony_th.0'"
      ],
      "text/latex": [
       "'RNA\\_harmony\\_th.0'"
      ],
      "text/markdown": [
       "'RNA_harmony_th.0'"
      ],
      "text/plain": [
       "[1] \"RNA_harmony_th.0\""
      ]
     },
     "metadata": {},
     "output_type": "display_data"
    },
    {
     "data": {
      "text/html": [
       "'umapharmony'"
      ],
      "text/latex": [
       "'umapharmony'"
      ],
      "text/markdown": [
       "'umapharmony'"
      ],
      "text/plain": [
       "[1] \"umapharmony\""
      ]
     },
     "metadata": {},
     "output_type": "display_data"
    },
    {
     "data": {
      "text/html": [
       "'cell.type.harmony'"
      ],
      "text/latex": [
       "'cell.type.harmony'"
      ],
      "text/markdown": [
       "'cell.type.harmony'"
      ],
      "text/plain": [
       "[1] \"cell.type.harmony\""
      ]
     },
     "metadata": {},
     "output_type": "display_data"
    }
   ],
   "source": [
    "str_condition <- \"male-bc\"\n",
    "\n",
    "args <- list()\n",
    "args$cancer_type <- \"male-bc\"\n",
    "args$method_to_identify_cell_types <- \"singler_blueprint_encode\"\n",
    "args$harmony_theta <- 0\n",
    "\n",
    "str_column_of_meta_data_harmony <- sprintf(\"RNA_harmony_th.%s\", paste(args$harmony_theta, collapse=\",\"))\n",
    "\n",
    "str_reduction <- \"pca\"\n",
    "str_umap_reduction <- \"umap\"  \n",
    "col_cell.type <- \"cell.type\"\n",
    "\n",
    "if (args$harmony_theta >= 0) {\n",
    "    str_column_of_meta_data_cluster <- str_column_of_meta_data_harmony\n",
    "    str_reduction <- \"harmony\"\n",
    "    str_umap_reduction <- \"umapharmony\"\n",
    "    col_cell.type <- \"cell.type.harmony\"\n",
    "}\n",
    "\n",
    "\n",
    "str_column_of_meta_data_cluster\n",
    "str_umap_reduction\n",
    "col_cell.type\n",
    "\n",
    "\n",
    "figure_format <- \"pdf\"\n"
   ]
  },
  {
   "cell_type": "markdown",
   "id": "3e9a047b",
   "metadata": {},
   "source": [
    "## set.seed"
   ]
  },
  {
   "cell_type": "code",
   "execution_count": 5,
   "id": "4b8bf910",
   "metadata": {},
   "outputs": [],
   "source": [
    "# set seed for reproducibility\n",
    "set.seed(51)\n",
    "\n"
   ]
  },
  {
   "cell_type": "markdown",
   "id": "f690fb7e",
   "metadata": {},
   "source": [
    "## display"
   ]
  },
  {
   "cell_type": "code",
   "execution_count": 6,
   "id": "93ddd75e",
   "metadata": {},
   "outputs": [],
   "source": [
    "options(repr.matrix.max.cols=150, repr.matrix.max.rows=50)\n",
    "\n"
   ]
  },
  {
   "cell_type": "code",
   "execution_count": 7,
   "id": "49a5cc25",
   "metadata": {},
   "outputs": [
    {
     "name": "stderr",
     "output_type": "stream",
     "text": [
      "Setting addArchRVerbose = FALSE\n",
      "\n"
     ]
    }
   ],
   "source": [
    "addArchRVerbose(verbose = FALSE)\n"
   ]
  },
  {
   "cell_type": "markdown",
   "id": "d803ab6e",
   "metadata": {},
   "source": [
    "# read peaks"
   ]
  },
  {
   "cell_type": "markdown",
   "id": "1663cfe5",
   "metadata": {},
   "source": [
    "## gr_encode"
   ]
  },
  {
   "cell_type": "code",
   "execution_count": 8,
   "id": "924c9203",
   "metadata": {},
   "outputs": [],
   "source": [
    "df_encode.all <- read.delim(\"./reference/genome_annotation/GRCh38-cCREs.bed.gz\", header =F)\n",
    "colnames(df_encode.all)[1:3] <- c(\"seqnames\",\"start\",\"end\")\n",
    "\n",
    "gr_encode <<- makeGRangesFromDataFrame(df_encode.all)\n",
    "\n"
   ]
  },
  {
   "cell_type": "markdown",
   "id": "a170c0fc",
   "metadata": {},
   "source": [
    "## gr_hmec"
   ]
  },
  {
   "cell_type": "code",
   "execution_count": 9,
   "id": "626031be",
   "metadata": {},
   "outputs": [],
   "source": [
    "gr_hmec <- readRDS(\"reference/normal_cell_lines_breast/HMEC_H3K27ac_peaks.rds\")\n"
   ]
  },
  {
   "cell_type": "markdown",
   "id": "90b73c0f",
   "metadata": {},
   "source": [
    "# read scATAC-seq"
   ]
  },
  {
   "cell_type": "code",
   "execution_count": 10,
   "id": "34e72423",
   "metadata": {},
   "outputs": [
    {
     "name": "stderr",
     "output_type": "stream",
     "text": [
      "\n",
      "           ___      .______        ______  __    __  .______      \n",
      "          /   \\     |   _  \\      /      ||  |  |  | |   _  \\     \n",
      "         /  ^  \\    |  |_)  |    |  ,----'|  |__|  | |  |_)  |    \n",
      "        /  /_\\  \\   |      /     |  |     |   __   | |      /     \n",
      "       /  _____  \\  |  |\\  \\\\___ |  `----.|  |  |  | |  |\\  \\\\___.\n",
      "      /__/     \\__\\ | _| `._____| \\______||__|  |__| | _| `._____|\n",
      "    \n",
      "\n"
     ]
    },
    {
     "data": {
      "text/plain": [
       "class: ArchRProject \n",
       "outputDirectory: /datastore/nextgenout5/share/labs/francolab/hyunsoo.kim/sc-atac-seq/male-bc/run-20220725/output_male-bc/archr_output \n",
       "samples(2): 4CC61L 446B7L\n",
       "sampleColData names(1): ArrowFiles\n",
       "cellColData names(47): Sample TSSEnrichment ... RNA_harmony_th.0\n",
       "  cluster.type.harmony\n",
       "numberOfCells(1): 10379\n",
       "medianTSS(1): 10.012\n",
       "medianFrags(1): 6247"
      ]
     },
     "metadata": {},
     "output_type": "display_data"
    }
   ],
   "source": [
    "dir_atac <- \"/home/hkim77/francolab.w/sc-atac-seq/male-bc/run-20220725\"\n",
    "dir_output <- sprintf(\"%s/output_male-bc\", dir_atac)\n",
    "dir_output_p2g <- sprintf(\"%s/output_p2g_male-bc\", dir_atac)\n",
    "fname_atac <- sprintf(\"%s/rds/male-bc_archrproj_obj_final.rds\", dir_output)\n",
    "\n",
    "atac <- readRDS(fname_atac)\n",
    "atac\n"
   ]
  },
  {
   "cell_type": "markdown",
   "id": "267a526e",
   "metadata": {},
   "source": [
    "## list_sort_atac"
   ]
  },
  {
   "cell_type": "code",
   "execution_count": 11,
   "id": "7dfeb68d",
   "metadata": {},
   "outputs": [
    {
     "data": {
      "text/html": [
       "<table class=\"dataframe\">\n",
       "<caption>A data.frame: 2 × 6</caption>\n",
       "<thead>\n",
       "\t<tr><th scope=col>Sample</th><th scope=col>Endothelial cells</th><th scope=col>Epi. Tumor</th><th scope=col>Epi. Unassigned</th><th scope=col>Fibroblasts</th><th scope=col>Macrophages</th></tr>\n",
       "\t<tr><th scope=col>&lt;chr&gt;</th><th scope=col>&lt;int&gt;</th><th scope=col>&lt;int&gt;</th><th scope=col>&lt;int&gt;</th><th scope=col>&lt;int&gt;</th><th scope=col>&lt;int&gt;</th></tr>\n",
       "</thead>\n",
       "<tbody>\n",
       "\t<tr><td>446B7L</td><td>2204</td><td>1624</td><td>1027</td><td>1622</td><td>183</td></tr>\n",
       "\t<tr><td>4CC61L</td><td>  NA</td><td>2629</td><td>  NA</td><td> 404</td><td>686</td></tr>\n",
       "</tbody>\n",
       "</table>\n"
      ],
      "text/latex": [
       "A data.frame: 2 × 6\n",
       "\\begin{tabular}{llllll}\n",
       " Sample & Endothelial cells & Epi. Tumor & Epi. Unassigned & Fibroblasts & Macrophages\\\\\n",
       " <chr> & <int> & <int> & <int> & <int> & <int>\\\\\n",
       "\\hline\n",
       "\t 446B7L & 2204 & 1624 & 1027 & 1622 & 183\\\\\n",
       "\t 4CC61L &   NA & 2629 &   NA &  404 & 686\\\\\n",
       "\\end{tabular}\n"
      ],
      "text/markdown": [
       "\n",
       "A data.frame: 2 × 6\n",
       "\n",
       "| Sample &lt;chr&gt; | Endothelial cells &lt;int&gt; | Epi. Tumor &lt;int&gt; | Epi. Unassigned &lt;int&gt; | Fibroblasts &lt;int&gt; | Macrophages &lt;int&gt; |\n",
       "|---|---|---|---|---|---|\n",
       "| 446B7L | 2204 | 1624 | 1027 | 1622 | 183 |\n",
       "| 4CC61L |   NA | 2629 |   NA |  404 | 686 |\n",
       "\n"
      ],
      "text/plain": [
       "  Sample Endothelial cells Epi. Tumor Epi. Unassigned Fibroblasts Macrophages\n",
       "1 446B7L 2204              1624       1027            1622        183        \n",
       "2 4CC61L   NA              2629         NA             404        686        "
      ]
     },
     "metadata": {},
     "output_type": "display_data"
    },
    {
     "data": {
      "text/html": [
       "<table class=\"dataframe\">\n",
       "<caption>A data.frame: 2 × 1</caption>\n",
       "<thead>\n",
       "\t<tr><th scope=col>Sample</th></tr>\n",
       "\t<tr><th scope=col>&lt;chr&gt;</th></tr>\n",
       "</thead>\n",
       "<tbody>\n",
       "\t<tr><td>446B7L</td></tr>\n",
       "\t<tr><td>4CC61L</td></tr>\n",
       "</tbody>\n",
       "</table>\n"
      ],
      "text/latex": [
       "A data.frame: 2 × 1\n",
       "\\begin{tabular}{l}\n",
       " Sample\\\\\n",
       " <chr>\\\\\n",
       "\\hline\n",
       "\t 446B7L\\\\\n",
       "\t 4CC61L\\\\\n",
       "\\end{tabular}\n"
      ],
      "text/markdown": [
       "\n",
       "A data.frame: 2 × 1\n",
       "\n",
       "| Sample &lt;chr&gt; |\n",
       "|---|\n",
       "| 446B7L |\n",
       "| 4CC61L |\n",
       "\n"
      ],
      "text/plain": [
       "  Sample\n",
       "1 446B7L\n",
       "2 4CC61L"
      ]
     },
     "metadata": {},
     "output_type": "display_data"
    },
    {
     "data": {
      "text/html": [
       "<table class=\"dataframe\">\n",
       "<caption>A data.frame: 2 × 6</caption>\n",
       "<thead>\n",
       "\t<tr><th scope=col>Sample</th><th scope=col>Endothelial cells</th><th scope=col>Epi. Tumor</th><th scope=col>Epi. Unassigned</th><th scope=col>Fibroblasts</th><th scope=col>Macrophages</th></tr>\n",
       "\t<tr><th scope=col>&lt;chr&gt;</th><th scope=col>&lt;int&gt;</th><th scope=col>&lt;int&gt;</th><th scope=col>&lt;int&gt;</th><th scope=col>&lt;int&gt;</th><th scope=col>&lt;int&gt;</th></tr>\n",
       "</thead>\n",
       "<tbody>\n",
       "\t<tr><td>446B7L</td><td>2204</td><td>1624</td><td>1027</td><td>1622</td><td>183</td></tr>\n",
       "\t<tr><td>4CC61L</td><td>  NA</td><td>2629</td><td>  NA</td><td> 404</td><td>686</td></tr>\n",
       "</tbody>\n",
       "</table>\n"
      ],
      "text/latex": [
       "A data.frame: 2 × 6\n",
       "\\begin{tabular}{llllll}\n",
       " Sample & Endothelial cells & Epi. Tumor & Epi. Unassigned & Fibroblasts & Macrophages\\\\\n",
       " <chr> & <int> & <int> & <int> & <int> & <int>\\\\\n",
       "\\hline\n",
       "\t 446B7L & 2204 & 1624 & 1027 & 1622 & 183\\\\\n",
       "\t 4CC61L &   NA & 2629 &   NA &  404 & 686\\\\\n",
       "\\end{tabular}\n"
      ],
      "text/markdown": [
       "\n",
       "A data.frame: 2 × 6\n",
       "\n",
       "| Sample &lt;chr&gt; | Endothelial cells &lt;int&gt; | Epi. Tumor &lt;int&gt; | Epi. Unassigned &lt;int&gt; | Fibroblasts &lt;int&gt; | Macrophages &lt;int&gt; |\n",
       "|---|---|---|---|---|---|\n",
       "| 446B7L | 2204 | 1624 | 1027 | 1622 | 183 |\n",
       "| 4CC61L |   NA | 2629 |   NA |  404 | 686 |\n",
       "\n"
      ],
      "text/plain": [
       "  Sample Endothelial cells Epi. Tumor Epi. Unassigned Fibroblasts Macrophages\n",
       "1 446B7L 2204              1624       1027            1622        183        \n",
       "2 4CC61L   NA              2629         NA             404        686        "
      ]
     },
     "metadata": {},
     "output_type": "display_data"
    }
   ],
   "source": [
    "\n",
    "list_sort_atac <- sort_cluster_members(atac, args,\n",
    "                    col_cluster_types = col_cluster_types,\n",
    "                    str_umap_reduction = str_umap_reduction,\n",
    "                    f_merge_immune_cell = FALSE)\n",
    "\n"
   ]
  },
  {
   "cell_type": "markdown",
   "id": "39e59a28",
   "metadata": {},
   "source": [
    "# read proj.archr.for_comparison"
   ]
  },
  {
   "cell_type": "code",
   "execution_count": 12,
   "id": "c16ade21",
   "metadata": {},
   "outputs": [
    {
     "name": "stderr",
     "output_type": "stream",
     "text": [
      "\n",
      "           ___      .______        ______  __    __  .______      \n",
      "          /   \\     |   _  \\      /      ||  |  |  | |   _  \\     \n",
      "         /  ^  \\    |  |_)  |    |  ,----'|  |__|  | |  |_)  |    \n",
      "        /  /_\\  \\   |      /     |  |     |   __   | |      /     \n",
      "       /  _____  \\  |  |\\  \\\\___ |  `----.|  |  |  | |  |\\  \\\\___.\n",
      "      /__/     \\__\\ | _| `._____| \\______||__|  |__| | _| `._____|\n",
      "    \n",
      "\n"
     ]
    },
    {
     "data": {
      "text/plain": [
       "class: ArchRProject \n",
       "outputDirectory: /datastore/nextgenout5/share/labs/francolab/hyunsoo.kim/sc-atac-seq/male-bc/run-20220725/output_p2g_male-bc/archr_output \n",
       "samples(2): 446B7L 4CC61L\n",
       "sampleColData names(1): ArrowFiles\n",
       "cellColData names(47): Sample TSSEnrichment ... RNA_harmony_th.0\n",
       "  cluster.type.harmony\n",
       "numberOfCells(1): 9100\n",
       "medianTSS(1): 9.99\n",
       "medianFrags(1): 6419.5"
      ]
     },
     "metadata": {},
     "output_type": "display_data"
    }
   ],
   "source": [
    "fname_atac.for_comparison <- sprintf(\"%s/rds/proj.archr.for_comparison.normal-vs-cancer_cancer-specific_enhancer.rds\",\n",
    "                        dir_output_p2g)\n",
    "\n",
    "atac.for_comparison <- readRDS(fname_atac.for_comparison)\n",
    "atac.for_comparison\n"
   ]
  },
  {
   "cell_type": "markdown",
   "id": "ccac057f",
   "metadata": {},
   "source": [
    "# overlap with p2g.df.sub.plot.cancer_specific"
   ]
  },
  {
   "cell_type": "markdown",
   "id": "757d4e18",
   "metadata": {},
   "source": [
    "## load p2g.df.sub.plot.cancer_specific"
   ]
  },
  {
   "cell_type": "code",
   "execution_count": 13,
   "id": "9acf773f",
   "metadata": {},
   "outputs": [
    {
     "data": {
      "text/html": [
       "<table class=\"dataframe\">\n",
       "<caption>A data.frame: 6 × 13</caption>\n",
       "<thead>\n",
       "\t<tr><th></th><th scope=col>idxATAC</th><th scope=col>idxRNA</th><th scope=col>Correlation</th><th scope=col>FDR</th><th scope=col>VarQATAC</th><th scope=col>VarQRNA</th><th scope=col>EmpPval</th><th scope=col>EmpFDR</th><th scope=col>geneName</th><th scope=col>peakName</th><th scope=col>peakType</th><th scope=col>idx</th><th scope=col>kmeans</th></tr>\n",
       "\t<tr><th></th><th scope=col>&lt;int&gt;</th><th scope=col>&lt;int&gt;</th><th scope=col>&lt;dbl&gt;</th><th scope=col>&lt;dbl&gt;</th><th scope=col>&lt;dbl&gt;</th><th scope=col>&lt;dbl&gt;</th><th scope=col>&lt;dbl&gt;</th><th scope=col>&lt;dbl&gt;</th><th scope=col>&lt;chr&gt;</th><th scope=col>&lt;chr&gt;</th><th scope=col>&lt;chr&gt;</th><th scope=col>&lt;chr&gt;</th><th scope=col>&lt;int&gt;</th></tr>\n",
       "</thead>\n",
       "<tbody>\n",
       "\t<tr><th scope=row>1</th><td>29</td><td>3</td><td>0.5394961</td><td> 6.024423e-38</td><td>0.9396097</td><td>0.4338114</td><td>0.11278982</td><td>0.7965846</td><td>FAM41C </td><td>chr1:1079324-1079824</td><td>Distal</td><td>29-3</td><td>5</td></tr>\n",
       "\t<tr><th scope=row>2</th><td>24</td><td>7</td><td>0.7894052</td><td>5.401495e-105</td><td>0.7539227</td><td>0.5385226</td><td>0.01994288</td><td>0.7892789</td><td>PLEKHN1</td><td>chr1:1068557-1069057</td><td>Distal</td><td>24-7</td><td>5</td></tr>\n",
       "\t<tr><th scope=row>3</th><td>25</td><td>7</td><td>0.7349978</td><td> 6.699672e-84</td><td>0.7787057</td><td>0.5385226</td><td>0.03031435</td><td>0.7892789</td><td>PLEKHN1</td><td>chr1:1069078-1069578</td><td>Distal</td><td>25-7</td><td>2</td></tr>\n",
       "\t<tr><th scope=row>4</th><td>26</td><td>7</td><td>0.8462787</td><td>5.132060e-135</td><td>0.7508486</td><td>0.5385226</td><td>0.01255312</td><td>0.7892789</td><td>PLEKHN1</td><td>chr1:1069752-1070252</td><td>Distal</td><td>26-7</td><td>2</td></tr>\n",
       "\t<tr><th scope=row>5</th><td>29</td><td>7</td><td>0.8539726</td><td>5.278697e-140</td><td>0.9396097</td><td>0.5385226</td><td>0.01176771</td><td>0.7892789</td><td>PLEKHN1</td><td>chr1:1079324-1079824</td><td>Distal</td><td>29-7</td><td>5</td></tr>\n",
       "\t<tr><th scope=row>6</th><td>30</td><td>7</td><td>0.6868139</td><td> 3.617362e-69</td><td>0.4759030</td><td>0.5385226</td><td>0.04307672</td><td>0.7892789</td><td>PLEKHN1</td><td>chr1:1080052-1080552</td><td>Distal</td><td>30-7</td><td>5</td></tr>\n",
       "</tbody>\n",
       "</table>\n"
      ],
      "text/latex": [
       "A data.frame: 6 × 13\n",
       "\\begin{tabular}{r|lllllllllllll}\n",
       "  & idxATAC & idxRNA & Correlation & FDR & VarQATAC & VarQRNA & EmpPval & EmpFDR & geneName & peakName & peakType & idx & kmeans\\\\\n",
       "  & <int> & <int> & <dbl> & <dbl> & <dbl> & <dbl> & <dbl> & <dbl> & <chr> & <chr> & <chr> & <chr> & <int>\\\\\n",
       "\\hline\n",
       "\t1 & 29 & 3 & 0.5394961 &  6.024423e-38 & 0.9396097 & 0.4338114 & 0.11278982 & 0.7965846 & FAM41C  & chr1:1079324-1079824 & Distal & 29-3 & 5\\\\\n",
       "\t2 & 24 & 7 & 0.7894052 & 5.401495e-105 & 0.7539227 & 0.5385226 & 0.01994288 & 0.7892789 & PLEKHN1 & chr1:1068557-1069057 & Distal & 24-7 & 5\\\\\n",
       "\t3 & 25 & 7 & 0.7349978 &  6.699672e-84 & 0.7787057 & 0.5385226 & 0.03031435 & 0.7892789 & PLEKHN1 & chr1:1069078-1069578 & Distal & 25-7 & 2\\\\\n",
       "\t4 & 26 & 7 & 0.8462787 & 5.132060e-135 & 0.7508486 & 0.5385226 & 0.01255312 & 0.7892789 & PLEKHN1 & chr1:1069752-1070252 & Distal & 26-7 & 2\\\\\n",
       "\t5 & 29 & 7 & 0.8539726 & 5.278697e-140 & 0.9396097 & 0.5385226 & 0.01176771 & 0.7892789 & PLEKHN1 & chr1:1079324-1079824 & Distal & 29-7 & 5\\\\\n",
       "\t6 & 30 & 7 & 0.6868139 &  3.617362e-69 & 0.4759030 & 0.5385226 & 0.04307672 & 0.7892789 & PLEKHN1 & chr1:1080052-1080552 & Distal & 30-7 & 5\\\\\n",
       "\\end{tabular}\n"
      ],
      "text/markdown": [
       "\n",
       "A data.frame: 6 × 13\n",
       "\n",
       "| <!--/--> | idxATAC &lt;int&gt; | idxRNA &lt;int&gt; | Correlation &lt;dbl&gt; | FDR &lt;dbl&gt; | VarQATAC &lt;dbl&gt; | VarQRNA &lt;dbl&gt; | EmpPval &lt;dbl&gt; | EmpFDR &lt;dbl&gt; | geneName &lt;chr&gt; | peakName &lt;chr&gt; | peakType &lt;chr&gt; | idx &lt;chr&gt; | kmeans &lt;int&gt; |\n",
       "|---|---|---|---|---|---|---|---|---|---|---|---|---|---|\n",
       "| 1 | 29 | 3 | 0.5394961 |  6.024423e-38 | 0.9396097 | 0.4338114 | 0.11278982 | 0.7965846 | FAM41C  | chr1:1079324-1079824 | Distal | 29-3 | 5 |\n",
       "| 2 | 24 | 7 | 0.7894052 | 5.401495e-105 | 0.7539227 | 0.5385226 | 0.01994288 | 0.7892789 | PLEKHN1 | chr1:1068557-1069057 | Distal | 24-7 | 5 |\n",
       "| 3 | 25 | 7 | 0.7349978 |  6.699672e-84 | 0.7787057 | 0.5385226 | 0.03031435 | 0.7892789 | PLEKHN1 | chr1:1069078-1069578 | Distal | 25-7 | 2 |\n",
       "| 4 | 26 | 7 | 0.8462787 | 5.132060e-135 | 0.7508486 | 0.5385226 | 0.01255312 | 0.7892789 | PLEKHN1 | chr1:1069752-1070252 | Distal | 26-7 | 2 |\n",
       "| 5 | 29 | 7 | 0.8539726 | 5.278697e-140 | 0.9396097 | 0.5385226 | 0.01176771 | 0.7892789 | PLEKHN1 | chr1:1079324-1079824 | Distal | 29-7 | 5 |\n",
       "| 6 | 30 | 7 | 0.6868139 |  3.617362e-69 | 0.4759030 | 0.5385226 | 0.04307672 | 0.7892789 | PLEKHN1 | chr1:1080052-1080552 | Distal | 30-7 | 5 |\n",
       "\n"
      ],
      "text/plain": [
       "  idxATAC idxRNA Correlation FDR           VarQATAC  VarQRNA   EmpPval   \n",
       "1 29      3      0.5394961    6.024423e-38 0.9396097 0.4338114 0.11278982\n",
       "2 24      7      0.7894052   5.401495e-105 0.7539227 0.5385226 0.01994288\n",
       "3 25      7      0.7349978    6.699672e-84 0.7787057 0.5385226 0.03031435\n",
       "4 26      7      0.8462787   5.132060e-135 0.7508486 0.5385226 0.01255312\n",
       "5 29      7      0.8539726   5.278697e-140 0.9396097 0.5385226 0.01176771\n",
       "6 30      7      0.6868139    3.617362e-69 0.4759030 0.5385226 0.04307672\n",
       "  EmpFDR    geneName peakName             peakType idx  kmeans\n",
       "1 0.7965846 FAM41C   chr1:1079324-1079824 Distal   29-3 5     \n",
       "2 0.7892789 PLEKHN1  chr1:1068557-1069057 Distal   24-7 5     \n",
       "3 0.7892789 PLEKHN1  chr1:1069078-1069578 Distal   25-7 2     \n",
       "4 0.7892789 PLEKHN1  chr1:1069752-1070252 Distal   26-7 2     \n",
       "5 0.7892789 PLEKHN1  chr1:1079324-1079824 Distal   29-7 5     \n",
       "6 0.7892789 PLEKHN1  chr1:1080052-1080552 Distal   30-7 5     "
      ]
     },
     "metadata": {},
     "output_type": "display_data"
    },
    {
     "data": {
      "text/html": [
       "<style>\n",
       ".list-inline {list-style: none; margin:0; padding: 0}\n",
       ".list-inline>li {display: inline-block}\n",
       ".list-inline>li:not(:last-child)::after {content: \"\\00b7\"; padding: 0 .5ex}\n",
       "</style>\n",
       "<ol class=list-inline><li>11551</li><li>13</li></ol>\n"
      ],
      "text/latex": [
       "\\begin{enumerate*}\n",
       "\\item 11551\n",
       "\\item 13\n",
       "\\end{enumerate*}\n"
      ],
      "text/markdown": [
       "1. 11551\n",
       "2. 13\n",
       "\n",
       "\n"
      ],
      "text/plain": [
       "[1] 11551    13"
      ]
     },
     "metadata": {},
     "output_type": "display_data"
    },
    {
     "name": "stdout",
     "output_type": "stream",
     "text": [
      "\tn_p2g.enhancer.cancer_specific: 11551\n",
      "\tn_peaks.p2g.enhancer.cancer_specific: 5141\n"
     ]
    }
   ],
   "source": [
    "peaktype <- \"enhancer\"\n",
    "fname_rds <- sprintf(\"%s/rds/cancer_specific_%s_p2g_table.rds\", dir_output_p2g, peaktype)\n",
    "\n",
    "p2g.df.sub.plot.cancer_specific <- readRDS(fname_rds)\n",
    "head(p2g.df.sub.plot.cancer_specific)\n",
    "dim(p2g.df.sub.plot.cancer_specific)\n",
    "\n",
    "n_p2g.cancer_specific <- nrow(p2g.df.sub.plot.cancer_specific)\n",
    "var <- sprintf(\"n_p2g.%s.cancer_specific\", peaktype)\n",
    "cat(sprintf(\"\\t%s: %d\\n\", var, n_p2g.cancer_specific))\n",
    "\n",
    "n_peaks.p2g.cancer_specific <- length(unique(p2g.df.sub.plot.cancer_specific$idxATAC))\n",
    "var <- sprintf(\"n_peaks.p2g.%s.cancer_specific\", peaktype)\n",
    "cat(sprintf(\"\\t%s: %d\\n\", var, n_peaks.p2g.cancer_specific))\n"
   ]
  },
  {
   "cell_type": "markdown",
   "id": "ac151e53",
   "metadata": {},
   "source": [
    "## df_dge.cse"
   ]
  },
  {
   "cell_type": "code",
   "execution_count": 14,
   "id": "f97b5584",
   "metadata": {},
   "outputs": [
    {
     "data": {
      "text/html": [
       "<table class=\"dataframe\">\n",
       "<caption>A data.frame: 6 × 8</caption>\n",
       "<thead>\n",
       "\t<tr><th></th><th scope=col>p_val</th><th scope=col>avg_log2FC</th><th scope=col>pct.1</th><th scope=col>pct.2</th><th scope=col>p_val_adj</th><th scope=col>expr_min</th><th scope=col>expr_mean</th><th scope=col>expr_max</th></tr>\n",
       "\t<tr><th></th><th scope=col>&lt;dbl&gt;</th><th scope=col>&lt;dbl&gt;</th><th scope=col>&lt;dbl&gt;</th><th scope=col>&lt;dbl&gt;</th><th scope=col>&lt;dbl&gt;</th><th scope=col>&lt;dbl&gt;</th><th scope=col>&lt;dbl&gt;</th><th scope=col>&lt;dbl&gt;</th></tr>\n",
       "</thead>\n",
       "<tbody>\n",
       "\t<tr><th scope=row>ISG20</th><td>3.978188e-146</td><td>2.525560</td><td>0.945</td><td>0.118</td><td>9.958995e-142</td><td>0.0000000</td><td>1.751471</td><td>3.843429</td></tr>\n",
       "\t<tr><th scope=row>S100A6</th><td>2.320176e-145</td><td>3.401509</td><td>1.000</td><td>0.574</td><td>5.808329e-141</td><td>0.0000000</td><td>4.662926</td><td>6.206801</td></tr>\n",
       "\t<tr><th scope=row>SAT1</th><td>8.599381e-139</td><td>2.803190</td><td>1.000</td><td>0.667</td><td>2.152769e-134</td><td>0.2981702</td><td>3.742109</td><td>5.598026</td></tr>\n",
       "\t<tr><th scope=row>MYL12A</th><td>1.249291e-130</td><td>2.150761</td><td>0.998</td><td>0.570</td><td>3.127474e-126</td><td>0.0000000</td><td>2.650992</td><td>4.167212</td></tr>\n",
       "\t<tr><th scope=row>PPP1R14B</th><td>8.975878e-129</td><td>1.897139</td><td>0.995</td><td>0.375</td><td>2.247021e-124</td><td>0.0000000</td><td>2.040378</td><td>3.449861</td></tr>\n",
       "\t<tr><th scope=row>ANXA2</th><td>7.186044e-128</td><td>1.925806</td><td>0.999</td><td>0.668</td><td>1.798954e-123</td><td>0.0000000</td><td>2.983556</td><td>4.697529</td></tr>\n",
       "</tbody>\n",
       "</table>\n"
      ],
      "text/latex": [
       "A data.frame: 6 × 8\n",
       "\\begin{tabular}{r|llllllll}\n",
       "  & p\\_val & avg\\_log2FC & pct.1 & pct.2 & p\\_val\\_adj & expr\\_min & expr\\_mean & expr\\_max\\\\\n",
       "  & <dbl> & <dbl> & <dbl> & <dbl> & <dbl> & <dbl> & <dbl> & <dbl>\\\\\n",
       "\\hline\n",
       "\tISG20 & 3.978188e-146 & 2.525560 & 0.945 & 0.118 & 9.958995e-142 & 0.0000000 & 1.751471 & 3.843429\\\\\n",
       "\tS100A6 & 2.320176e-145 & 3.401509 & 1.000 & 0.574 & 5.808329e-141 & 0.0000000 & 4.662926 & 6.206801\\\\\n",
       "\tSAT1 & 8.599381e-139 & 2.803190 & 1.000 & 0.667 & 2.152769e-134 & 0.2981702 & 3.742109 & 5.598026\\\\\n",
       "\tMYL12A & 1.249291e-130 & 2.150761 & 0.998 & 0.570 & 3.127474e-126 & 0.0000000 & 2.650992 & 4.167212\\\\\n",
       "\tPPP1R14B & 8.975878e-129 & 1.897139 & 0.995 & 0.375 & 2.247021e-124 & 0.0000000 & 2.040378 & 3.449861\\\\\n",
       "\tANXA2 & 7.186044e-128 & 1.925806 & 0.999 & 0.668 & 1.798954e-123 & 0.0000000 & 2.983556 & 4.697529\\\\\n",
       "\\end{tabular}\n"
      ],
      "text/markdown": [
       "\n",
       "A data.frame: 6 × 8\n",
       "\n",
       "| <!--/--> | p_val &lt;dbl&gt; | avg_log2FC &lt;dbl&gt; | pct.1 &lt;dbl&gt; | pct.2 &lt;dbl&gt; | p_val_adj &lt;dbl&gt; | expr_min &lt;dbl&gt; | expr_mean &lt;dbl&gt; | expr_max &lt;dbl&gt; |\n",
       "|---|---|---|---|---|---|---|---|---|\n",
       "| ISG20 | 3.978188e-146 | 2.525560 | 0.945 | 0.118 | 9.958995e-142 | 0.0000000 | 1.751471 | 3.843429 |\n",
       "| S100A6 | 2.320176e-145 | 3.401509 | 1.000 | 0.574 | 5.808329e-141 | 0.0000000 | 4.662926 | 6.206801 |\n",
       "| SAT1 | 8.599381e-139 | 2.803190 | 1.000 | 0.667 | 2.152769e-134 | 0.2981702 | 3.742109 | 5.598026 |\n",
       "| MYL12A | 1.249291e-130 | 2.150761 | 0.998 | 0.570 | 3.127474e-126 | 0.0000000 | 2.650992 | 4.167212 |\n",
       "| PPP1R14B | 8.975878e-129 | 1.897139 | 0.995 | 0.375 | 2.247021e-124 | 0.0000000 | 2.040378 | 3.449861 |\n",
       "| ANXA2 | 7.186044e-128 | 1.925806 | 0.999 | 0.668 | 1.798954e-123 | 0.0000000 | 2.983556 | 4.697529 |\n",
       "\n"
      ],
      "text/plain": [
       "         p_val         avg_log2FC pct.1 pct.2 p_val_adj     expr_min  expr_mean\n",
       "ISG20    3.978188e-146 2.525560   0.945 0.118 9.958995e-142 0.0000000 1.751471 \n",
       "S100A6   2.320176e-145 3.401509   1.000 0.574 5.808329e-141 0.0000000 4.662926 \n",
       "SAT1     8.599381e-139 2.803190   1.000 0.667 2.152769e-134 0.2981702 3.742109 \n",
       "MYL12A   1.249291e-130 2.150761   0.998 0.570 3.127474e-126 0.0000000 2.650992 \n",
       "PPP1R14B 8.975878e-129 1.897139   0.995 0.375 2.247021e-124 0.0000000 2.040378 \n",
       "ANXA2    7.186044e-128 1.925806   0.999 0.668 1.798954e-123 0.0000000 2.983556 \n",
       "         expr_max\n",
       "ISG20    3.843429\n",
       "S100A6   6.206801\n",
       "SAT1     5.598026\n",
       "MYL12A   4.167212\n",
       "PPP1R14B 3.449861\n",
       "ANXA2    4.697529"
      ]
     },
     "metadata": {},
     "output_type": "display_data"
    },
    {
     "data": {
      "text/html": [
       "<style>\n",
       ".list-inline {list-style: none; margin:0; padding: 0}\n",
       ".list-inline>li {display: inline-block}\n",
       ".list-inline>li:not(:last-child)::after {content: \"\\00b7\"; padding: 0 .5ex}\n",
       "</style>\n",
       "<ol class=list-inline><li>363</li><li>8</li></ol>\n"
      ],
      "text/latex": [
       "\\begin{enumerate*}\n",
       "\\item 363\n",
       "\\item 8\n",
       "\\end{enumerate*}\n"
      ],
      "text/markdown": [
       "1. 363\n",
       "2. 8\n",
       "\n",
       "\n"
      ],
      "text/plain": [
       "[1] 363   8"
      ]
     },
     "metadata": {},
     "output_type": "display_data"
    }
   ],
   "source": [
    "\n",
    "filename <- \"tsv/df_dge.cse.tsv\"\n",
    "df_dge.cse <- read.table(filename, sep='\\t', header=T)\n",
    "\n",
    "head(df_dge.cse)\n",
    "dim(df_dge.cse)\n",
    "\n"
   ]
  },
  {
   "cell_type": "markdown",
   "id": "db226b7c",
   "metadata": {},
   "source": [
    "## p2g_genes_female_vs_male.cse"
   ]
  },
  {
   "cell_type": "code",
   "execution_count": 15,
   "id": "bcf52c00",
   "metadata": {},
   "outputs": [
    {
     "data": {
      "text/html": [
       "<style>\n",
       ".list-inline {list-style: none; margin:0; padding: 0}\n",
       ".list-inline>li {display: inline-block}\n",
       ".list-inline>li:not(:last-child)::after {content: \"\\00b7\"; padding: 0 .5ex}\n",
       "</style>\n",
       "<ol class=list-inline><li>'ISG20'</li><li>'S100A6'</li><li>'SAT1'</li><li>'MYL12A'</li><li>'PPP1R14B'</li><li>'ANXA2'</li><li>'MYL12B'</li><li>'TKT'</li><li>'HSPB8'</li><li>'S100A16'</li><li>'PIM3'</li><li>'NAA20'</li><li>'SH3BGRL3'</li><li>'SQOR'</li><li>'FHL2'</li><li>'LAMB3'</li><li>'CAPN2'</li><li>'TALDO1'</li><li>'CLTB'</li><li>'PFKP'</li><li>'USP53'</li><li>'PHLDA2'</li><li>'SLC39A1'</li><li>'CD47'</li><li>'NDUFV2'</li><li>'PAWR'</li><li>'PPIF'</li><li>'BAG1'</li><li>'CSRP1'</li><li>'SLK'</li><li>'CLIP1'</li><li>'MYH9'</li><li>'C1QBP'</li><li>'MGLL'</li><li>'ZNF706'</li><li>'PHLDA3'</li><li>'PRDX4'</li><li>'S100A14'</li><li>'HES4'</li><li>'GNAS'</li><li>'SFN'</li><li>'VDAC2'</li><li>'GTF2A2'</li><li>'TMEM40'</li><li>'MGST1'</li><li>'FABP3'</li><li>'CCT3'</li><li>'FSTL3'</li><li>'METRN'</li><li>'TUBB4B'</li><li>'ACTN1'</li><li>'TACSTD2'</li><li>'FBXO32'</li><li>'SPTSSA'</li><li>'KRT23'</li><li>'GDF15'</li><li>'SERPINA1'</li><li>'WFDC2'</li><li>'YWHAZ'</li><li>'KRT7'</li><li>'TPM1'</li></ol>\n"
      ],
      "text/latex": [
       "\\begin{enumerate*}\n",
       "\\item 'ISG20'\n",
       "\\item 'S100A6'\n",
       "\\item 'SAT1'\n",
       "\\item 'MYL12A'\n",
       "\\item 'PPP1R14B'\n",
       "\\item 'ANXA2'\n",
       "\\item 'MYL12B'\n",
       "\\item 'TKT'\n",
       "\\item 'HSPB8'\n",
       "\\item 'S100A16'\n",
       "\\item 'PIM3'\n",
       "\\item 'NAA20'\n",
       "\\item 'SH3BGRL3'\n",
       "\\item 'SQOR'\n",
       "\\item 'FHL2'\n",
       "\\item 'LAMB3'\n",
       "\\item 'CAPN2'\n",
       "\\item 'TALDO1'\n",
       "\\item 'CLTB'\n",
       "\\item 'PFKP'\n",
       "\\item 'USP53'\n",
       "\\item 'PHLDA2'\n",
       "\\item 'SLC39A1'\n",
       "\\item 'CD47'\n",
       "\\item 'NDUFV2'\n",
       "\\item 'PAWR'\n",
       "\\item 'PPIF'\n",
       "\\item 'BAG1'\n",
       "\\item 'CSRP1'\n",
       "\\item 'SLK'\n",
       "\\item 'CLIP1'\n",
       "\\item 'MYH9'\n",
       "\\item 'C1QBP'\n",
       "\\item 'MGLL'\n",
       "\\item 'ZNF706'\n",
       "\\item 'PHLDA3'\n",
       "\\item 'PRDX4'\n",
       "\\item 'S100A14'\n",
       "\\item 'HES4'\n",
       "\\item 'GNAS'\n",
       "\\item 'SFN'\n",
       "\\item 'VDAC2'\n",
       "\\item 'GTF2A2'\n",
       "\\item 'TMEM40'\n",
       "\\item 'MGST1'\n",
       "\\item 'FABP3'\n",
       "\\item 'CCT3'\n",
       "\\item 'FSTL3'\n",
       "\\item 'METRN'\n",
       "\\item 'TUBB4B'\n",
       "\\item 'ACTN1'\n",
       "\\item 'TACSTD2'\n",
       "\\item 'FBXO32'\n",
       "\\item 'SPTSSA'\n",
       "\\item 'KRT23'\n",
       "\\item 'GDF15'\n",
       "\\item 'SERPINA1'\n",
       "\\item 'WFDC2'\n",
       "\\item 'YWHAZ'\n",
       "\\item 'KRT7'\n",
       "\\item 'TPM1'\n",
       "\\end{enumerate*}\n"
      ],
      "text/markdown": [
       "1. 'ISG20'\n",
       "2. 'S100A6'\n",
       "3. 'SAT1'\n",
       "4. 'MYL12A'\n",
       "5. 'PPP1R14B'\n",
       "6. 'ANXA2'\n",
       "7. 'MYL12B'\n",
       "8. 'TKT'\n",
       "9. 'HSPB8'\n",
       "10. 'S100A16'\n",
       "11. 'PIM3'\n",
       "12. 'NAA20'\n",
       "13. 'SH3BGRL3'\n",
       "14. 'SQOR'\n",
       "15. 'FHL2'\n",
       "16. 'LAMB3'\n",
       "17. 'CAPN2'\n",
       "18. 'TALDO1'\n",
       "19. 'CLTB'\n",
       "20. 'PFKP'\n",
       "21. 'USP53'\n",
       "22. 'PHLDA2'\n",
       "23. 'SLC39A1'\n",
       "24. 'CD47'\n",
       "25. 'NDUFV2'\n",
       "26. 'PAWR'\n",
       "27. 'PPIF'\n",
       "28. 'BAG1'\n",
       "29. 'CSRP1'\n",
       "30. 'SLK'\n",
       "31. 'CLIP1'\n",
       "32. 'MYH9'\n",
       "33. 'C1QBP'\n",
       "34. 'MGLL'\n",
       "35. 'ZNF706'\n",
       "36. 'PHLDA3'\n",
       "37. 'PRDX4'\n",
       "38. 'S100A14'\n",
       "39. 'HES4'\n",
       "40. 'GNAS'\n",
       "41. 'SFN'\n",
       "42. 'VDAC2'\n",
       "43. 'GTF2A2'\n",
       "44. 'TMEM40'\n",
       "45. 'MGST1'\n",
       "46. 'FABP3'\n",
       "47. 'CCT3'\n",
       "48. 'FSTL3'\n",
       "49. 'METRN'\n",
       "50. 'TUBB4B'\n",
       "51. 'ACTN1'\n",
       "52. 'TACSTD2'\n",
       "53. 'FBXO32'\n",
       "54. 'SPTSSA'\n",
       "55. 'KRT23'\n",
       "56. 'GDF15'\n",
       "57. 'SERPINA1'\n",
       "58. 'WFDC2'\n",
       "59. 'YWHAZ'\n",
       "60. 'KRT7'\n",
       "61. 'TPM1'\n",
       "\n",
       "\n"
      ],
      "text/plain": [
       " [1] \"ISG20\"    \"S100A6\"   \"SAT1\"     \"MYL12A\"   \"PPP1R14B\" \"ANXA2\"   \n",
       " [7] \"MYL12B\"   \"TKT\"      \"HSPB8\"    \"S100A16\"  \"PIM3\"     \"NAA20\"   \n",
       "[13] \"SH3BGRL3\" \"SQOR\"     \"FHL2\"     \"LAMB3\"    \"CAPN2\"    \"TALDO1\"  \n",
       "[19] \"CLTB\"     \"PFKP\"     \"USP53\"    \"PHLDA2\"   \"SLC39A1\"  \"CD47\"    \n",
       "[25] \"NDUFV2\"   \"PAWR\"     \"PPIF\"     \"BAG1\"     \"CSRP1\"    \"SLK\"     \n",
       "[31] \"CLIP1\"    \"MYH9\"     \"C1QBP\"    \"MGLL\"     \"ZNF706\"   \"PHLDA3\"  \n",
       "[37] \"PRDX4\"    \"S100A14\"  \"HES4\"     \"GNAS\"     \"SFN\"      \"VDAC2\"   \n",
       "[43] \"GTF2A2\"   \"TMEM40\"   \"MGST1\"    \"FABP3\"    \"CCT3\"     \"FSTL3\"   \n",
       "[49] \"METRN\"    \"TUBB4B\"   \"ACTN1\"    \"TACSTD2\"  \"FBXO32\"   \"SPTSSA\"  \n",
       "[55] \"KRT23\"    \"GDF15\"    \"SERPINA1\" \"WFDC2\"    \"YWHAZ\"    \"KRT7\"    \n",
       "[61] \"TPM1\"    "
      ]
     },
     "metadata": {},
     "output_type": "display_data"
    },
    {
     "name": "stdout",
     "output_type": "stream",
     "text": [
      "[1] 61\n"
     ]
    }
   ],
   "source": [
    "f <- (abs(df_dge.cse$avg_log2FC) > 1.0 & df_dge.cse$p_val_adj < 0.01)\n",
    "p2g_genes_female_vs_male.cse <- rownames(df_dge.cse[f,])\n",
    "p2g_genes_female_vs_male.cse\n",
    "print(length(p2g_genes_female_vs_male.cse))\n",
    "\n",
    "if (length(p2g_genes_female_vs_male.cse) < 5) {\n",
    "    p2g_genes_female_vs_male.cse <- rownames(df_dge.cse)\n",
    "    print(p2g_genes_female_vs_male.cse)\n",
    "    print(length(p2g_genes_female_vs_male.cse))\n",
    "}\n"
   ]
  },
  {
   "cell_type": "markdown",
   "id": "5ae44217",
   "metadata": {},
   "source": [
    "# overlap with markerpeaks"
   ]
  },
  {
   "cell_type": "markdown",
   "id": "645fed6b",
   "metadata": {},
   "source": [
    "## read markerpeaks.for_comparion"
   ]
  },
  {
   "cell_type": "code",
   "execution_count": 16,
   "id": "f25bbb2d",
   "metadata": {},
   "outputs": [
    {
     "data": {
      "text/plain": [
       "class: SummarizedExperiment \n",
       "dim: 10070 1 \n",
       "metadata(2): MatchInfo Params\n",
       "assays(7): Log2FC Mean ... AUC MeanBGD\n",
       "rownames(10070): 11 22 ... 99784 99839\n",
       "rowData names(4): seqnames idx start end\n",
       "colnames(1): Cancer\n",
       "colData names(0):"
      ]
     },
     "metadata": {},
     "output_type": "display_data"
    }
   ],
   "source": [
    "fname_rds <- sprintf(\"%s/rds/markerpeaks.for_comparison.normal-vs-cancer_cancer-specific_enhancer.rds\",\n",
    "                     dir_output_p2g)\n",
    "\n",
    "markerpeaks.for_comparison <- readRDS(fname_rds)\n",
    "markerpeaks.for_comparison\n"
   ]
  },
  {
   "cell_type": "markdown",
   "id": "c95a863c",
   "metadata": {},
   "source": [
    "## df_markpeaks"
   ]
  },
  {
   "cell_type": "code",
   "execution_count": 17,
   "id": "b741d236",
   "metadata": {},
   "outputs": [
    {
     "data": {
      "text/html": [
       "TRUE"
      ],
      "text/latex": [
       "TRUE"
      ],
      "text/markdown": [
       "TRUE"
      ],
      "text/plain": [
       "[1] TRUE"
      ]
     },
     "metadata": {},
     "output_type": "display_data"
    },
    {
     "data": {
      "text/html": [
       "<table class=\"dataframe\">\n",
       "<caption>A data.frame: 6 × 9</caption>\n",
       "<thead>\n",
       "\t<tr><th></th><th scope=col>seqnames</th><th scope=col>idx</th><th scope=col>start</th><th scope=col>end</th><th scope=col>Log2FC</th><th scope=col>FDR</th><th scope=col>MeanDiff</th><th scope=col>peakName</th><th scope=col>geneName</th></tr>\n",
       "\t<tr><th></th><th scope=col>&lt;chr&gt;</th><th scope=col>&lt;int&gt;</th><th scope=col>&lt;int&gt;</th><th scope=col>&lt;int&gt;</th><th scope=col>&lt;dbl&gt;</th><th scope=col>&lt;dbl&gt;</th><th scope=col>&lt;dbl&gt;</th><th scope=col>&lt;chr&gt;</th><th scope=col>&lt;chr&gt;</th></tr>\n",
       "</thead>\n",
       "<tbody>\n",
       "\t<tr><th scope=row>91628</th><td>chr8 </td><td>3644</td><td>101360826</td><td>101361326</td><td>3.036088</td><td>1.265616e-15</td><td>0.7695004</td><td>chr8:101360826-101361326</td><td>ZNF706</td></tr>\n",
       "\t<tr><th scope=row>6866</th><td>chr1 </td><td>6866</td><td>172499556</td><td>172500056</td><td>4.021133</td><td>2.145851e-15</td><td>0.7574420</td><td>chr1:172499556-172500056</td><td>PIGC  </td></tr>\n",
       "\t<tr><th scope=row>89631</th><td>chr8 </td><td>1647</td><td> 37903898</td><td> 37904398</td><td>3.512107</td><td>2.422439e-15</td><td>0.5867696</td><td>chr8:37903898-37904398  </td><td>ZNF703</td></tr>\n",
       "\t<tr><th scope=row>92418</th><td>chr8 </td><td>4434</td><td>123596296</td><td>123596796</td><td>3.038512</td><td>5.364745e-15</td><td>0.5969846</td><td>chr8:123596296-123596796</td><td>WDYHV1</td></tr>\n",
       "\t<tr><th scope=row>47852</th><td>chr19</td><td>2475</td><td> 40921046</td><td> 40921546</td><td>3.581508</td><td>2.871754e-14</td><td>0.6185288</td><td>chr19:40921046-40921546 </td><td>ITPKC </td></tr>\n",
       "\t<tr><th scope=row>90801</th><td>chr8 </td><td>2817</td><td> 74073118</td><td> 74073618</td><td>5.214121</td><td>2.871754e-14</td><td>0.6343315</td><td>chr8:74073118-74073618  </td><td>UBE2W </td></tr>\n",
       "</tbody>\n",
       "</table>\n"
      ],
      "text/latex": [
       "A data.frame: 6 × 9\n",
       "\\begin{tabular}{r|lllllllll}\n",
       "  & seqnames & idx & start & end & Log2FC & FDR & MeanDiff & peakName & geneName\\\\\n",
       "  & <chr> & <int> & <int> & <int> & <dbl> & <dbl> & <dbl> & <chr> & <chr>\\\\\n",
       "\\hline\n",
       "\t91628 & chr8  & 3644 & 101360826 & 101361326 & 3.036088 & 1.265616e-15 & 0.7695004 & chr8:101360826-101361326 & ZNF706\\\\\n",
       "\t6866 & chr1  & 6866 & 172499556 & 172500056 & 4.021133 & 2.145851e-15 & 0.7574420 & chr1:172499556-172500056 & PIGC  \\\\\n",
       "\t89631 & chr8  & 1647 &  37903898 &  37904398 & 3.512107 & 2.422439e-15 & 0.5867696 & chr8:37903898-37904398   & ZNF703\\\\\n",
       "\t92418 & chr8  & 4434 & 123596296 & 123596796 & 3.038512 & 5.364745e-15 & 0.5969846 & chr8:123596296-123596796 & WDYHV1\\\\\n",
       "\t47852 & chr19 & 2475 &  40921046 &  40921546 & 3.581508 & 2.871754e-14 & 0.6185288 & chr19:40921046-40921546  & ITPKC \\\\\n",
       "\t90801 & chr8  & 2817 &  74073118 &  74073618 & 5.214121 & 2.871754e-14 & 0.6343315 & chr8:74073118-74073618   & UBE2W \\\\\n",
       "\\end{tabular}\n"
      ],
      "text/markdown": [
       "\n",
       "A data.frame: 6 × 9\n",
       "\n",
       "| <!--/--> | seqnames &lt;chr&gt; | idx &lt;int&gt; | start &lt;int&gt; | end &lt;int&gt; | Log2FC &lt;dbl&gt; | FDR &lt;dbl&gt; | MeanDiff &lt;dbl&gt; | peakName &lt;chr&gt; | geneName &lt;chr&gt; |\n",
       "|---|---|---|---|---|---|---|---|---|---|\n",
       "| 91628 | chr8  | 3644 | 101360826 | 101361326 | 3.036088 | 1.265616e-15 | 0.7695004 | chr8:101360826-101361326 | ZNF706 |\n",
       "| 6866 | chr1  | 6866 | 172499556 | 172500056 | 4.021133 | 2.145851e-15 | 0.7574420 | chr1:172499556-172500056 | PIGC   |\n",
       "| 89631 | chr8  | 1647 |  37903898 |  37904398 | 3.512107 | 2.422439e-15 | 0.5867696 | chr8:37903898-37904398   | ZNF703 |\n",
       "| 92418 | chr8  | 4434 | 123596296 | 123596796 | 3.038512 | 5.364745e-15 | 0.5969846 | chr8:123596296-123596796 | WDYHV1 |\n",
       "| 47852 | chr19 | 2475 |  40921046 |  40921546 | 3.581508 | 2.871754e-14 | 0.6185288 | chr19:40921046-40921546  | ITPKC  |\n",
       "| 90801 | chr8  | 2817 |  74073118 |  74073618 | 5.214121 | 2.871754e-14 | 0.6343315 | chr8:74073118-74073618   | UBE2W  |\n",
       "\n"
      ],
      "text/plain": [
       "      seqnames idx  start     end       Log2FC   FDR          MeanDiff \n",
       "91628 chr8     3644 101360826 101361326 3.036088 1.265616e-15 0.7695004\n",
       "6866  chr1     6866 172499556 172500056 4.021133 2.145851e-15 0.7574420\n",
       "89631 chr8     1647  37903898  37904398 3.512107 2.422439e-15 0.5867696\n",
       "92418 chr8     4434 123596296 123596796 3.038512 5.364745e-15 0.5969846\n",
       "47852 chr19    2475  40921046  40921546 3.581508 2.871754e-14 0.6185288\n",
       "90801 chr8     2817  74073118  74073618 5.214121 2.871754e-14 0.6343315\n",
       "      peakName                 geneName\n",
       "91628 chr8:101360826-101361326 ZNF706  \n",
       "6866  chr1:172499556-172500056 PIGC    \n",
       "89631 chr8:37903898-37904398   ZNF703  \n",
       "92418 chr8:123596296-123596796 WDYHV1  \n",
       "47852 chr19:40921046-40921546  ITPKC   \n",
       "90801 chr8:74073118-74073618   UBE2W   "
      ]
     },
     "metadata": {},
     "output_type": "display_data"
    },
    {
     "data": {
      "text/html": [
       "<style>\n",
       ".list-inline {list-style: none; margin:0; padding: 0}\n",
       ".list-inline>li {display: inline-block}\n",
       ".list-inline>li:not(:last-child)::after {content: \"\\00b7\"; padding: 0 .5ex}\n",
       "</style>\n",
       "<ol class=list-inline><li>3998</li><li>9</li></ol>\n"
      ],
      "text/latex": [
       "\\begin{enumerate*}\n",
       "\\item 3998\n",
       "\\item 9\n",
       "\\end{enumerate*}\n"
      ],
      "text/markdown": [
       "1. 3998\n",
       "2. 9\n",
       "\n",
       "\n"
      ],
      "text/plain": [
       "[1] 3998    9"
      ]
     },
     "metadata": {},
     "output_type": "display_data"
    }
   ],
   "source": [
    "list.markerpeaks <- getMarkers(markerpeaks.for_comparison,\n",
    "                         cutOff = \"FDR <= 0.1 & Log2FC >= 1.0\")\n",
    "\n",
    "df_markpeaks <- as.data.frame(list.markerpeaks[[1]])\n",
    "df_markpeaks$peakName <- sprintf(\"%s:%d-%d\", df_markpeaks$seqnames, df_markpeaks$start, df_markpeaks$end)\n",
    "\n",
    "# cancer_specific\n",
    "p2g.df.tmp <- p2g.df.sub.plot.cancer_specific\n",
    "\n",
    "idx <- match(df_markpeaks$peakName, p2g.df.tmp$peakName)\n",
    "\n",
    "\n",
    "f.na <- is.na(idx)\n",
    "any(f.na)\n",
    "# FALSE: all rows have peak2gene links\n",
    "\n",
    "f <- !f.na; idx <- idx[f]\n",
    "df_markpeaks[f, \"geneName\"] <- p2g.df.tmp[idx, \"geneName\"]\n",
    "\n",
    "\n",
    "head(df_markpeaks)\n",
    "dim(df_markpeaks)\n"
   ]
  },
  {
   "cell_type": "markdown",
   "id": "139a4680",
   "metadata": {},
   "source": [
    "# peak2gene links"
   ]
  },
  {
   "cell_type": "code",
   "execution_count": 18,
   "id": "7d22396d",
   "metadata": {},
   "outputs": [
    {
     "data": {
      "text/html": [
       "<style>\n",
       ".list-inline {list-style: none; margin:0; padding: 0}\n",
       ".list-inline>li {display: inline-block}\n",
       ".list-inline>li:not(:last-child)::after {content: \"\\00b7\"; padding: 0 .5ex}\n",
       "</style>\n",
       "<ol class=list-inline><li>'ACTN1'</li><li>'ANXA2'</li><li>'BAG1'</li><li>'C1QBP'</li><li>'CAPN2'</li><li>'CCT3'</li><li>'CD47'</li><li>'CLIP1'</li><li>'CLTB'</li><li>'CSRP1'</li><li>'FABP3'</li><li>'FBXO32'</li><li>'FHL2'</li><li>'FSTL3'</li><li>'GDF15'</li><li>'GNAS'</li><li>'GTF2A2'</li><li>'HES4'</li><li>'HSPB8'</li><li>'ISG20'</li><li>'KRT23'</li><li>'KRT7'</li><li>'LAMB3'</li><li>'METRN'</li><li>'MGLL'</li><li>'MGST1'</li><li>'MYH9'</li><li>'MYL12A'</li><li>'MYL12B'</li><li>'NAA20'</li><li>'NDUFV2'</li><li>'PAWR'</li><li>'PFKP'</li><li>'PHLDA2'</li><li>'PHLDA3'</li><li>'PIM3'</li><li>'PPIF'</li><li>'PPP1R14B'</li><li>'PRDX4'</li><li>'S100A14'</li><li>'S100A16'</li><li>'S100A6'</li><li>'SAT1'</li><li>'SERPINA1'</li><li>'SFN'</li><li>'SH3BGRL3'</li><li>'SLC39A1'</li><li>'SLK'</li><li>'SPTSSA'</li><li>'SQOR'</li><li>'TACSTD2'</li><li>'TALDO1'</li><li>'TKT'</li><li>'TMEM40'</li><li>'TPM1'</li><li>'TUBB4B'</li><li>'USP53'</li><li>'VDAC2'</li><li>'WFDC2'</li><li>'YWHAZ'</li><li>'ZNF706'</li></ol>\n"
      ],
      "text/latex": [
       "\\begin{enumerate*}\n",
       "\\item 'ACTN1'\n",
       "\\item 'ANXA2'\n",
       "\\item 'BAG1'\n",
       "\\item 'C1QBP'\n",
       "\\item 'CAPN2'\n",
       "\\item 'CCT3'\n",
       "\\item 'CD47'\n",
       "\\item 'CLIP1'\n",
       "\\item 'CLTB'\n",
       "\\item 'CSRP1'\n",
       "\\item 'FABP3'\n",
       "\\item 'FBXO32'\n",
       "\\item 'FHL2'\n",
       "\\item 'FSTL3'\n",
       "\\item 'GDF15'\n",
       "\\item 'GNAS'\n",
       "\\item 'GTF2A2'\n",
       "\\item 'HES4'\n",
       "\\item 'HSPB8'\n",
       "\\item 'ISG20'\n",
       "\\item 'KRT23'\n",
       "\\item 'KRT7'\n",
       "\\item 'LAMB3'\n",
       "\\item 'METRN'\n",
       "\\item 'MGLL'\n",
       "\\item 'MGST1'\n",
       "\\item 'MYH9'\n",
       "\\item 'MYL12A'\n",
       "\\item 'MYL12B'\n",
       "\\item 'NAA20'\n",
       "\\item 'NDUFV2'\n",
       "\\item 'PAWR'\n",
       "\\item 'PFKP'\n",
       "\\item 'PHLDA2'\n",
       "\\item 'PHLDA3'\n",
       "\\item 'PIM3'\n",
       "\\item 'PPIF'\n",
       "\\item 'PPP1R14B'\n",
       "\\item 'PRDX4'\n",
       "\\item 'S100A14'\n",
       "\\item 'S100A16'\n",
       "\\item 'S100A6'\n",
       "\\item 'SAT1'\n",
       "\\item 'SERPINA1'\n",
       "\\item 'SFN'\n",
       "\\item 'SH3BGRL3'\n",
       "\\item 'SLC39A1'\n",
       "\\item 'SLK'\n",
       "\\item 'SPTSSA'\n",
       "\\item 'SQOR'\n",
       "\\item 'TACSTD2'\n",
       "\\item 'TALDO1'\n",
       "\\item 'TKT'\n",
       "\\item 'TMEM40'\n",
       "\\item 'TPM1'\n",
       "\\item 'TUBB4B'\n",
       "\\item 'USP53'\n",
       "\\item 'VDAC2'\n",
       "\\item 'WFDC2'\n",
       "\\item 'YWHAZ'\n",
       "\\item 'ZNF706'\n",
       "\\end{enumerate*}\n"
      ],
      "text/markdown": [
       "1. 'ACTN1'\n",
       "2. 'ANXA2'\n",
       "3. 'BAG1'\n",
       "4. 'C1QBP'\n",
       "5. 'CAPN2'\n",
       "6. 'CCT3'\n",
       "7. 'CD47'\n",
       "8. 'CLIP1'\n",
       "9. 'CLTB'\n",
       "10. 'CSRP1'\n",
       "11. 'FABP3'\n",
       "12. 'FBXO32'\n",
       "13. 'FHL2'\n",
       "14. 'FSTL3'\n",
       "15. 'GDF15'\n",
       "16. 'GNAS'\n",
       "17. 'GTF2A2'\n",
       "18. 'HES4'\n",
       "19. 'HSPB8'\n",
       "20. 'ISG20'\n",
       "21. 'KRT23'\n",
       "22. 'KRT7'\n",
       "23. 'LAMB3'\n",
       "24. 'METRN'\n",
       "25. 'MGLL'\n",
       "26. 'MGST1'\n",
       "27. 'MYH9'\n",
       "28. 'MYL12A'\n",
       "29. 'MYL12B'\n",
       "30. 'NAA20'\n",
       "31. 'NDUFV2'\n",
       "32. 'PAWR'\n",
       "33. 'PFKP'\n",
       "34. 'PHLDA2'\n",
       "35. 'PHLDA3'\n",
       "36. 'PIM3'\n",
       "37. 'PPIF'\n",
       "38. 'PPP1R14B'\n",
       "39. 'PRDX4'\n",
       "40. 'S100A14'\n",
       "41. 'S100A16'\n",
       "42. 'S100A6'\n",
       "43. 'SAT1'\n",
       "44. 'SERPINA1'\n",
       "45. 'SFN'\n",
       "46. 'SH3BGRL3'\n",
       "47. 'SLC39A1'\n",
       "48. 'SLK'\n",
       "49. 'SPTSSA'\n",
       "50. 'SQOR'\n",
       "51. 'TACSTD2'\n",
       "52. 'TALDO1'\n",
       "53. 'TKT'\n",
       "54. 'TMEM40'\n",
       "55. 'TPM1'\n",
       "56. 'TUBB4B'\n",
       "57. 'USP53'\n",
       "58. 'VDAC2'\n",
       "59. 'WFDC2'\n",
       "60. 'YWHAZ'\n",
       "61. 'ZNF706'\n",
       "\n",
       "\n"
      ],
      "text/plain": [
       " [1] \"ACTN1\"    \"ANXA2\"    \"BAG1\"     \"C1QBP\"    \"CAPN2\"    \"CCT3\"    \n",
       " [7] \"CD47\"     \"CLIP1\"    \"CLTB\"     \"CSRP1\"    \"FABP3\"    \"FBXO32\"  \n",
       "[13] \"FHL2\"     \"FSTL3\"    \"GDF15\"    \"GNAS\"     \"GTF2A2\"   \"HES4\"    \n",
       "[19] \"HSPB8\"    \"ISG20\"    \"KRT23\"    \"KRT7\"     \"LAMB3\"    \"METRN\"   \n",
       "[25] \"MGLL\"     \"MGST1\"    \"MYH9\"     \"MYL12A\"   \"MYL12B\"   \"NAA20\"   \n",
       "[31] \"NDUFV2\"   \"PAWR\"     \"PFKP\"     \"PHLDA2\"   \"PHLDA3\"   \"PIM3\"    \n",
       "[37] \"PPIF\"     \"PPP1R14B\" \"PRDX4\"    \"S100A14\"  \"S100A16\"  \"S100A6\"  \n",
       "[43] \"SAT1\"     \"SERPINA1\" \"SFN\"      \"SH3BGRL3\" \"SLC39A1\"  \"SLK\"     \n",
       "[49] \"SPTSSA\"   \"SQOR\"     \"TACSTD2\"  \"TALDO1\"   \"TKT\"      \"TMEM40\"  \n",
       "[55] \"TPM1\"     \"TUBB4B\"   \"USP53\"    \"VDAC2\"    \"WFDC2\"    \"YWHAZ\"   \n",
       "[61] \"ZNF706\"  "
      ]
     },
     "metadata": {},
     "output_type": "display_data"
    },
    {
     "data": {
      "text/html": [
       "61"
      ],
      "text/latex": [
       "61"
      ],
      "text/markdown": [
       "61"
      ],
      "text/plain": [
       "[1] 61"
      ]
     },
     "metadata": {},
     "output_type": "display_data"
    }
   ],
   "source": [
    "\n",
    "marker_genes <- p2g_genes_female_vs_male.cse\n",
    "\n",
    "marker_genes <- sort(marker_genes)\n",
    "marker_genes\n",
    "length(marker_genes)\n"
   ]
  },
  {
   "cell_type": "markdown",
   "id": "80b14519",
   "metadata": {},
   "source": [
    "## plotPDF"
   ]
  },
  {
   "cell_type": "code",
   "execution_count": 19,
   "id": "9ebae0ae",
   "metadata": {},
   "outputs": [],
   "source": [
    "\n",
    "grangeslist_features <- GRangesList(Peaks = getPeakSet(atac),\n",
    "                                HMEC = gr_hmec,\n",
    "                                Encode = gr_encode)\n"
   ]
  },
  {
   "cell_type": "markdown",
   "id": "d537435c",
   "metadata": {},
   "source": [
    "### usegroups"
   ]
  },
  {
   "cell_type": "code",
   "execution_count": 20,
   "id": "f8cb4491",
   "metadata": {},
   "outputs": [
    {
     "data": {
      "text/html": [
       "<style>\n",
       ".list-inline {list-style: none; margin:0; padding: 0}\n",
       ".list-inline>li {display: inline-block}\n",
       ".list-inline>li:not(:last-child)::after {content: \"\\00b7\"; padding: 0 .5ex}\n",
       "</style>\n",
       "<ol class=list-inline><li>'0-Epi. Tumor'</li><li>'2-Epi. Tumor'</li><li>'3-Endothelial cells'</li><li>'4-Fibroblasts'</li><li>'7-Macrophages'</li></ol>\n"
      ],
      "text/latex": [
       "\\begin{enumerate*}\n",
       "\\item '0-Epi. Tumor'\n",
       "\\item '2-Epi. Tumor'\n",
       "\\item '3-Endothelial cells'\n",
       "\\item '4-Fibroblasts'\n",
       "\\item '7-Macrophages'\n",
       "\\end{enumerate*}\n"
      ],
      "text/markdown": [
       "1. '0-Epi. Tumor'\n",
       "2. '2-Epi. Tumor'\n",
       "3. '3-Endothelial cells'\n",
       "4. '4-Fibroblasts'\n",
       "5. '7-Macrophages'\n",
       "\n",
       "\n"
      ],
      "text/plain": [
       "[1] \"0-Epi. Tumor\"        \"2-Epi. Tumor\"        \"3-Endothelial cells\"\n",
       "[4] \"4-Fibroblasts\"       \"7-Macrophages\"      "
      ]
     },
     "metadata": {},
     "output_type": "display_data"
    }
   ],
   "source": [
    "peakset.for_comparison <- getPeakSet(atac.for_comparison)\n",
    "usegroups <- unique(names(peakset.for_comparison))\n",
    "f <- !grepl(\"Unassigned|6-\", usegroups)\n",
    "usegroups <- usegroups[f]\n",
    "usegroups\n"
   ]
  },
  {
   "cell_type": "code",
   "execution_count": 21,
   "id": "72366322",
   "metadata": {},
   "outputs": [
    {
     "name": "stderr",
     "output_type": "stream",
     "text": [
      "[conflicted] Will prefer \u001b[34mIRanges::`%over%`\u001b[39m over any other package\n"
     ]
    }
   ],
   "source": [
    "library(conflicted)\n",
    "conflicted::conflict_prefer(\"%over%\", \"IRanges\")\n"
   ]
  },
  {
   "cell_type": "markdown",
   "id": "eb8bb772",
   "metadata": {},
   "source": [
    "### marker_genes"
   ]
  },
  {
   "cell_type": "code",
   "execution_count": 22,
   "id": "757087f5",
   "metadata": {},
   "outputs": [],
   "source": [
    "marker_genes <- c(\"ANXA2\", \"LAMB3\", \"PRDX4\")\n"
   ]
  },
  {
   "cell_type": "markdown",
   "id": "df66ebb2",
   "metadata": {},
   "source": [
    "### plot_browser_track"
   ]
  },
  {
   "cell_type": "code",
   "execution_count": 23,
   "id": "ba57f2b9",
   "metadata": {
    "scrolled": false
   },
   "outputs": [
    {
     "data": {
      "text/html": [
       "archr_peak2gene_ANXA2.pdf"
      ]
     },
     "metadata": {},
     "output_type": "display_data"
    },
    {
     "data": {
      "text/html": [
       "archr_peak2gene_LAMB3.pdf"
      ]
     },
     "metadata": {},
     "output_type": "display_data"
    },
    {
     "data": {
      "text/html": [
       "archr_peak2gene_PRDX4.pdf"
      ]
     },
     "metadata": {},
     "output_type": "display_data"
    }
   ],
   "source": [
    "\n",
    "str_upstream_downstream <- \"LAMB3=150000,10000\"\n",
    "out <- plot_browser_track(atac,\n",
    "                atac.for_comparison,\n",
    "                df_markpeaks,          \n",
    "                marker_genes,\n",
    "                list_sort_atac,\n",
    "                grangeslist_features,\n",
    "                str_upstream_downstream,\n",
    "                usegroups=usegroups,\n",
    "                f_debug=FALSE)\n"
   ]
  },
  {
   "cell_type": "markdown",
   "id": "d3335947",
   "metadata": {},
   "source": [
    "# session info"
   ]
  },
  {
   "cell_type": "code",
   "execution_count": 24,
   "id": "04158981",
   "metadata": {},
   "outputs": [],
   "source": [
    "writeLines(capture.output(sessionInfo()), \"txt/sessionInfo.txt\")\n"
   ]
  },
  {
   "cell_type": "markdown",
   "id": "11a8c620",
   "metadata": {},
   "source": [
    "# reference"
   ]
  },
  {
   "cell_type": "markdown",
   "id": "674ff0fb",
   "metadata": {},
   "source": [
    "https://satijalab.org/seurat/\n",
    "\n"
   ]
  },
  {
   "cell_type": "code",
   "execution_count": null,
   "id": "26b3ad6d",
   "metadata": {},
   "outputs": [],
   "source": []
  }
 ],
 "metadata": {
  "kernelspec": {
   "display_name": "R 4.1.2",
   "language": "R",
   "name": "r4.1.2"
  },
  "language_info": {
   "codemirror_mode": "r",
   "file_extension": ".r",
   "mimetype": "text/x-r-source",
   "name": "R",
   "pygments_lexer": "r",
   "version": "4.1.2"
  },
  "toc": {
   "base_numbering": 1,
   "nav_menu": {},
   "number_sections": true,
   "sideBar": true,
   "skip_h1_title": false,
   "title_cell": "Table of Contents",
   "title_sidebar": "Contents",
   "toc_cell": false,
   "toc_position": {
    "height": "calc(100% - 180px)",
    "left": "10px",
    "top": "150px",
    "width": "177.797px"
   },
   "toc_section_display": true,
   "toc_window_display": true
  }
 },
 "nbformat": 4,
 "nbformat_minor": 5
}
